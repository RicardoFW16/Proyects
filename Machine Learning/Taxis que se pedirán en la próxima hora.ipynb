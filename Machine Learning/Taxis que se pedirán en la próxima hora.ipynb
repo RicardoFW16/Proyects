{
 "cells": [
  {
   "cell_type": "markdown",
   "metadata": {},
   "source": [
    "# ¿Cuántos taxis se solicitarán en la próxima hora?"
   ]
  },
  {
   "cell_type": "markdown",
   "metadata": {},
   "source": [
    "La compañía Sweet Lift Taxi ha recopilado datos históricos sobre pedidos de taxis en los aeropuertos. Para atraer a más conductores durante las horas pico, necesitamos predecir la cantidad de pedidos de taxis para la próxima hora. Para ello probaremos diferentes modelos ajustando sus hipérparámetros y así encontrar el modelo con menor RECM. Nuestreo RECM debe ser menor a 48.\n",
    "\n",
    "El dataset a usar solo contiene la columna `num_orders`, la cual indica la cantidad de órdenes en el tiempo descrito."
   ]
  },
  {
   "cell_type": "markdown",
   "metadata": {},
   "source": [
    "**Tabla de contenido:**\n",
    "\n",
    "1. Inicialización\n",
    "2. Cargade datos\n",
    "3. Análisis de datos\n",
    "4. Preparación de datos\n",
    "5. Análisis de serie temporal\n",
    "6. Formación\n",
    "7. Prueba\n",
    "8. Conclusiones"
   ]
  },
  {
   "cell_type": "markdown",
   "metadata": {},
   "source": [
    "## Inicialización"
   ]
  },
  {
   "cell_type": "code",
   "execution_count": 1,
   "metadata": {},
   "outputs": [],
   "source": [
    "# Importar librerías\n",
    "import matplotlib.pyplot as plt\n",
    "import numpy as np\n",
    "import pandas as pd\n",
    "from sklearn.ensemble import RandomForestRegressor\n",
    "from sklearn.linear_model import LinearRegression\n",
    "from sklearn.metrics import mean_squared_error\n",
    "from sklearn.model_selection import GridSearchCV, train_test_split\n",
    "from sklearn.preprocessing import StandardScaler\n",
    "from sklearn.tree import DecisionTreeRegressor\n",
    "import seaborn as sns\n",
    "from statsmodels.tsa.seasonal import seasonal_decompose\n",
    "from statsmodels.tsa.stattools import adfuller\n",
    "\n",
    "from catboost import CatBoostRegressor\n",
    "from lightgbm import LGBMRegressor\n",
    "from xgboost import XGBRegressor"
   ]
  },
  {
   "cell_type": "markdown",
   "metadata": {},
   "source": [
    "## Carga de datos"
   ]
  },
  {
   "cell_type": "code",
   "execution_count": 2,
   "metadata": {},
   "outputs": [],
   "source": [
    "# Cargar data\n",
    "data = pd.read_csv(\"/datasets/taxi.csv\", index_col=[0], parse_dates=[0])"
   ]
  },
  {
   "cell_type": "markdown",
   "metadata": {},
   "source": [
    "## Análisis de datos"
   ]
  },
  {
   "cell_type": "code",
   "execution_count": 3,
   "metadata": {},
   "outputs": [
    {
     "data": {
      "text/html": [
       "<div>\n",
       "<style scoped>\n",
       "    .dataframe tbody tr th:only-of-type {\n",
       "        vertical-align: middle;\n",
       "    }\n",
       "\n",
       "    .dataframe tbody tr th {\n",
       "        vertical-align: top;\n",
       "    }\n",
       "\n",
       "    .dataframe thead th {\n",
       "        text-align: right;\n",
       "    }\n",
       "</style>\n",
       "<table border=\"1\" class=\"dataframe\">\n",
       "  <thead>\n",
       "    <tr style=\"text-align: right;\">\n",
       "      <th></th>\n",
       "      <th>num_orders</th>\n",
       "    </tr>\n",
       "    <tr>\n",
       "      <th>datetime</th>\n",
       "      <th></th>\n",
       "    </tr>\n",
       "  </thead>\n",
       "  <tbody>\n",
       "    <tr>\n",
       "      <th>2018-03-18 16:00:00</th>\n",
       "      <td>9</td>\n",
       "    </tr>\n",
       "    <tr>\n",
       "      <th>2018-04-28 07:50:00</th>\n",
       "      <td>15</td>\n",
       "    </tr>\n",
       "    <tr>\n",
       "      <th>2018-06-12 09:20:00</th>\n",
       "      <td>9</td>\n",
       "    </tr>\n",
       "    <tr>\n",
       "      <th>2018-07-25 10:30:00</th>\n",
       "      <td>10</td>\n",
       "    </tr>\n",
       "    <tr>\n",
       "      <th>2018-08-22 09:00:00</th>\n",
       "      <td>23</td>\n",
       "    </tr>\n",
       "    <tr>\n",
       "      <th>2018-06-30 23:10:00</th>\n",
       "      <td>18</td>\n",
       "    </tr>\n",
       "    <tr>\n",
       "      <th>2018-06-27 10:10:00</th>\n",
       "      <td>19</td>\n",
       "    </tr>\n",
       "    <tr>\n",
       "      <th>2018-07-12 04:00:00</th>\n",
       "      <td>19</td>\n",
       "    </tr>\n",
       "    <tr>\n",
       "      <th>2018-07-23 10:00:00</th>\n",
       "      <td>26</td>\n",
       "    </tr>\n",
       "    <tr>\n",
       "      <th>2018-03-07 11:30:00</th>\n",
       "      <td>15</td>\n",
       "    </tr>\n",
       "  </tbody>\n",
       "</table>\n",
       "</div>"
      ],
      "text/plain": [
       "                     num_orders\n",
       "datetime                       \n",
       "2018-03-18 16:00:00           9\n",
       "2018-04-28 07:50:00          15\n",
       "2018-06-12 09:20:00           9\n",
       "2018-07-25 10:30:00          10\n",
       "2018-08-22 09:00:00          23\n",
       "2018-06-30 23:10:00          18\n",
       "2018-06-27 10:10:00          19\n",
       "2018-07-12 04:00:00          19\n",
       "2018-07-23 10:00:00          26\n",
       "2018-03-07 11:30:00          15"
      ]
     },
     "execution_count": 3,
     "metadata": {},
     "output_type": "execute_result"
    }
   ],
   "source": [
    "# Ver sample de data\n",
    "data.sample(10)"
   ]
  },
  {
   "cell_type": "code",
   "execution_count": 4,
   "metadata": {},
   "outputs": [
    {
     "name": "stdout",
     "output_type": "stream",
     "text": [
      "<class 'pandas.core.frame.DataFrame'>\n",
      "DatetimeIndex: 26496 entries, 2018-03-01 00:00:00 to 2018-08-31 23:50:00\n",
      "Data columns (total 1 columns):\n",
      " #   Column      Non-Null Count  Dtype\n",
      "---  ------      --------------  -----\n",
      " 0   num_orders  26496 non-null  int64\n",
      "dtypes: int64(1)\n",
      "memory usage: 414.0 KB\n"
     ]
    }
   ],
   "source": [
    "# Ver info de data\n",
    "data.info()"
   ]
  },
  {
   "cell_type": "code",
   "execution_count": 5,
   "metadata": {},
   "outputs": [
    {
     "data": {
      "text/html": [
       "<div>\n",
       "<style scoped>\n",
       "    .dataframe tbody tr th:only-of-type {\n",
       "        vertical-align: middle;\n",
       "    }\n",
       "\n",
       "    .dataframe tbody tr th {\n",
       "        vertical-align: top;\n",
       "    }\n",
       "\n",
       "    .dataframe thead th {\n",
       "        text-align: right;\n",
       "    }\n",
       "</style>\n",
       "<table border=\"1\" class=\"dataframe\">\n",
       "  <thead>\n",
       "    <tr style=\"text-align: right;\">\n",
       "      <th></th>\n",
       "      <th>num_orders</th>\n",
       "    </tr>\n",
       "  </thead>\n",
       "  <tbody>\n",
       "    <tr>\n",
       "      <th>count</th>\n",
       "      <td>26496.000000</td>\n",
       "    </tr>\n",
       "    <tr>\n",
       "      <th>mean</th>\n",
       "      <td>14.070463</td>\n",
       "    </tr>\n",
       "    <tr>\n",
       "      <th>std</th>\n",
       "      <td>9.211330</td>\n",
       "    </tr>\n",
       "    <tr>\n",
       "      <th>min</th>\n",
       "      <td>0.000000</td>\n",
       "    </tr>\n",
       "    <tr>\n",
       "      <th>25%</th>\n",
       "      <td>8.000000</td>\n",
       "    </tr>\n",
       "    <tr>\n",
       "      <th>50%</th>\n",
       "      <td>13.000000</td>\n",
       "    </tr>\n",
       "    <tr>\n",
       "      <th>75%</th>\n",
       "      <td>19.000000</td>\n",
       "    </tr>\n",
       "    <tr>\n",
       "      <th>max</th>\n",
       "      <td>119.000000</td>\n",
       "    </tr>\n",
       "  </tbody>\n",
       "</table>\n",
       "</div>"
      ],
      "text/plain": [
       "         num_orders\n",
       "count  26496.000000\n",
       "mean      14.070463\n",
       "std        9.211330\n",
       "min        0.000000\n",
       "25%        8.000000\n",
       "50%       13.000000\n",
       "75%       19.000000\n",
       "max      119.000000"
      ]
     },
     "execution_count": 5,
     "metadata": {},
     "output_type": "execute_result"
    }
   ],
   "source": [
    "# Verificar estadísticas descriptivas\n",
    "data.describe()"
   ]
  },
  {
   "cell_type": "code",
   "execution_count": 6,
   "metadata": {},
   "outputs": [
    {
     "data": {
      "image/png": "[encoded data removed]",
      "text/plain": [
       "<Figure size 432x288 with 1 Axes>"
      ]
     },
     "metadata": {
      "needs_background": "light"
     },
     "output_type": "display_data"
    }
   ],
   "source": [
    "# Graficar Histograma de 'num_orders'\n",
    "plt.hist(data['num_orders'], bins=16, color='slategray', edgecolor=\"black\", linewidth=0.8)\n",
    "\n",
    "# Dibujar las líneas verticales para la media y la mediana\n",
    "mean_val = data['num_orders'].mean()\n",
    "median_val = data['num_orders'].median()\n",
    "mean_line = plt.axvline(mean_val, color='tomato', linestyle='dashed', linewidth=2)\n",
    "median_line = plt.axvline(median_val, color='dodgerblue', linestyle='dashed', linewidth=2)\n",
    "\n",
    "# Agregar la leyenda\n",
    "plt.legend([mean_line, median_line], ['mean', 'median'])\n",
    "plt.title(f'Histogram of num_orders', fontsize=16)\n",
    "\n",
    "plt.tight_layout()\n",
    "plt.show()"
   ]
  },
  {
   "cell_type": "code",
   "execution_count": 7,
   "metadata": {},
   "outputs": [
    {
     "data": {
      "image/png": "[encoded data removed]",
      "text/plain": [
       "<Figure size 432x288 with 1 Axes>"
      ]
     },
     "metadata": {
      "needs_background": "light"
     },
     "output_type": "display_data"
    }
   ],
   "source": [
    "# Graficar Boxplot de 'num_orders'\n",
    "sns.boxplot(x=data['num_orders'], color='slategray')\n",
    "plt.title(f'Boxplot of num_orders', fontsize=20, weight='bold')\n",
    "plt.xlabel('num_orders', fontsize=16)\n",
    "\n",
    "# Dibujar las líneas verticales para la media y la mediana\n",
    "mean_val = data['num_orders'].mean()\n",
    "median_val = data['num_orders'].median()\n",
    "mean_line = plt.axvline(mean_val, color='tomato', linestyle='dashed', linewidth=2)\n",
    "median_line = plt.axvline(median_val, color='dodgerblue', linestyle='dashed', linewidth=2)\n",
    "\n",
    "# Agregar la leyenda\n",
    "plt.legend([mean_line, median_line], ['mean', 'median'])\n",
    "\n",
    "plt.tight_layout()\n",
    "plt.show()"
   ]
  },
  {
   "cell_type": "markdown",
   "metadata": {},
   "source": [
    "Luego de realizar un análisis de la cantidad de ordenes, podemos ver que la distribución muestra una cola hacia la derecha o sesgo positivo donde la mediana es mayor a la media."
   ]
  },
  {
   "cell_type": "code",
   "execution_count": 8,
   "metadata": {},
   "outputs": [
    {
     "name": "stdout",
     "output_type": "stream",
     "text": [
      "Fecha mínima: 2018-03-01 00:00:00\n",
      "Fecha máxima: 2018-08-31 23:50:00\n"
     ]
    }
   ],
   "source": [
    "# Verificar fecha máxima y mínima del dataset\n",
    "print(f'Fecha mínima: {data.index.min()}')\n",
    "print(f'Fecha máxima: {data.index.max()}')"
   ]
  },
  {
   "cell_type": "code",
   "execution_count": 9,
   "metadata": {},
   "outputs": [
    {
     "data": {
      "text/plain": [
       "<AxesSubplot:xlabel='datetime'>"
      ]
     },
     "execution_count": 9,
     "metadata": {},
     "output_type": "execute_result"
    },
    {
     "data": {
      "image/png": "[encoded data removed]",
      "text/plain": [
       "<Figure size 432x288 with 1 Axes>"
      ]
     },
     "metadata": {
      "needs_background": "light"
     },
     "output_type": "display_data"
    }
   ],
   "source": [
    "# Graficar número de ordenes\n",
    "data.plot()"
   ]
  },
  {
   "cell_type": "markdown",
   "metadata": {},
   "source": [
    "## Preparación"
   ]
  },
  {
   "cell_type": "markdown",
   "metadata": {},
   "source": [
    "Preparemos los datos para poder realizar los modelos necesarios. Primero veremos si nuestro índice de fecha se encuentra en orden cronológico."
   ]
  },
  {
   "cell_type": "code",
   "execution_count": 10,
   "metadata": {},
   "outputs": [
    {
     "name": "stdout",
     "output_type": "stream",
     "text": [
      "True\n"
     ]
    }
   ],
   "source": [
    "# Verificar que el índice está en orden cronológico\n",
    "print(data.index.is_monotonic)"
   ]
  },
  {
   "cell_type": "markdown",
   "metadata": {},
   "source": [
    "## Análisis de serie temporal"
   ]
  },
  {
   "cell_type": "markdown",
   "metadata": {},
   "source": [
    "Luego de preparar nuestro dataset, analizaremos como se comporta la data en la serie temporal. Remuestraremos nuestra data a 1 día para vizualizar el comportamiento. Asimismo, añadiremos la media y desviación estándar móvil con una ventana de 15 días."
   ]
  },
  {
   "cell_type": "code",
   "execution_count": 11,
   "metadata": {},
   "outputs": [],
   "source": [
    "# Remuestrear nuestra data a 1 día\n",
    "data_in_days = data.resample('1D').sum()\n",
    "\n",
    "# Media movil\n",
    "rolling_mean = data_in_days.rolling(15).mean()\n",
    "\n",
    "# Desviación estándar móvil\n",
    "rolling_std = data_in_days.rolling(15).std()"
   ]
  },
  {
   "cell_type": "code",
   "execution_count": 12,
   "metadata": {},
   "outputs": [
    {
     "data": {
      "text/plain": [
       "<matplotlib.legend.Legend at 0x7f4d07998a90>"
      ]
     },
     "execution_count": 12,
     "metadata": {},
     "output_type": "execute_result"
    },
    {
     "data": {
      "image/png": "[encoded data removed]",
      "text/plain": [
       "<Figure size 720x576 with 1 Axes>"
      ]
     },
     "metadata": {
      "needs_background": "light"
     },
     "output_type": "display_data"
    }
   ],
   "source": [
    "# Graficar medidas\n",
    "plt.figure(figsize=(10, 8))\n",
    "plt.plot(data_in_days, color=\"blue\",label=\"Original Passenger Data\")\n",
    "plt.plot(rolling_mean, color=\"red\", label=\"Rolling Mean Orders Number\")\n",
    "plt.plot(rolling_std, color=\"black\", label = \"Rolling Standard Deviation in Orders Number\")\n",
    "plt.title(\"Orders Time Series, Rolling Mean, Standard Deviation\")\n",
    "plt.legend(loc=\"best\")"
   ]
  },
  {
   "cell_type": "markdown",
   "metadata": {},
   "source": [
    "Podemos observar una tendencia creciente del número de órdenes de taxi. Asimismo, a incios de julio y pasado de agosto comienza a ver una variación en la desviación estándar de las órdenes, esto quiere decir que durante estos periodos de tiempo la cantidad de órdenes era más variable lo normal."
   ]
  },
  {
   "cell_type": "markdown",
   "metadata": {},
   "source": [
    "**Estacionalidad**"
   ]
  },
  {
   "cell_type": "markdown",
   "metadata": {},
   "source": [
    "Ahora haremos la prueba Dickey-Fuller del paquete de statsmodels para comprobar si nuestra data es o no estacional."
   ]
  },
  {
   "cell_type": "code",
   "execution_count": 13,
   "metadata": {},
   "outputs": [
    {
     "name": "stdout",
     "output_type": "stream",
     "text": [
      "       Values                       Metric\n",
      "0    3.728791              Test Statistics\n",
      "1    1.000000                      p-value\n",
      "2   13.000000             No. of lags used\n",
      "3  170.000000  Number of observations used\n",
      "4   -3.469413          critical value (1%)\n",
      "5   -2.878696          critical value (5%)\n",
      "6   -2.575917         critical value (10%)\n"
     ]
    }
   ],
   "source": [
    "# Aplicar prueba \n",
    "adft = adfuller(data_in_days,autolag=\"AIC\")\n",
    "\n",
    "# Ordenar resultado de prueba\n",
    "output_data_in_days = pd.DataFrame({\"Values\":[adft[0],adft[1],adft[2],adft[3], adft[4]['1%'], adft[4]['5%'], adft[4]['10%']]  , \"Metric\":[\"Test Statistics\",\"p-value\",\"No. of lags used\",\"Number of observations used\", \n",
    "                                                        \"critical value (1%)\", \"critical value (5%)\", \"critical value (10%)\"]})\n",
    "print(output_data_in_days)"
   ]
  },
  {
   "cell_type": "markdown",
   "metadata": {},
   "source": [
    "El p-value resultante es uno, lo que nos indica de manera significativa que los pedidos de de taxi no sigue un comportamiento estacional."
   ]
  },
  {
   "cell_type": "markdown",
   "metadata": {},
   "source": [
    "Lo que también nos servirá, es ver la descomposión de nuestra data en tendencia, estacionalidad y residuos."
   ]
  },
  {
   "cell_type": "code",
   "execution_count": 14,
   "metadata": {},
   "outputs": [
    {
     "data": {
      "image/png": "[encoded data removed]",
      "text/plain": [
       "<Figure size 432x576 with 3 Axes>"
      ]
     },
     "metadata": {
      "needs_background": "light"
     },
     "output_type": "display_data"
    }
   ],
   "source": [
    "# Descomper data\n",
    "decomposed = seasonal_decompose(data_in_days)\n",
    "\n",
    "# Graficar data\n",
    "plt.figure(figsize=(6, 8))\n",
    "plt.subplot(311)\n",
    "# Para mostrar el gráfico de manera correcta, especifica su\n",
    "# eje ax igual a plt.gca() (gca = obtener el eje actual)\n",
    "decomposed.trend.plot(ax=plt.gca())\n",
    "plt.title('Trend')\n",
    "plt.subplot(312)\n",
    "decomposed.seasonal.plot(ax=plt.gca())\n",
    "plt.title('Seasonality')\n",
    "plt.subplot(313)\n",
    "decomposed.resid.plot(ax=plt.gca())\n",
    "plt.title('Residuals')\n",
    "plt.tight_layout()"
   ]
  },
  {
   "cell_type": "markdown",
   "metadata": {},
   "source": [
    "Como mencionamos anteriormente, la tendencia es creciente y no se muestra estacionalidad. Por otro lado, los resudios no muestran ningún tipo de congruencias."
   ]
  },
  {
   "cell_type": "markdown",
   "metadata": {},
   "source": [
    "**Autocorrelación**"
   ]
  },
  {
   "cell_type": "markdown",
   "metadata": {},
   "source": [
    "También es importate mostrar si nuestra serie de tiempo presenta autocorrelación. La autocorrelación en una serie de tiempo muestra que tan está relacionado un punto específico en el timepo con alguno del pasado. Así, por ejemplo, si vemos que existe una gran correlación, podemos inferir que si existe una gran cantiad de órdenes de taxi hoy, también lo habrá en el futuro."
   ]
  },
  {
   "cell_type": "markdown",
   "metadata": {},
   "source": [
    "Usaremos el método de autocorrelación de pandas para esto con ventanas de 7, 15, 30 y 60 días."
   ]
  },
  {
   "cell_type": "code",
   "execution_count": 15,
   "metadata": {},
   "outputs": [
    {
     "name": "stdout",
     "output_type": "stream",
     "text": [
      "7 días:  0.9347556137934514\n",
      "15 días:  0.8656017606960359\n",
      "30 días:  0.8660362560162489\n",
      "60 días:  0.7667211096292802\n"
     ]
    }
   ],
   "source": [
    "# Determinar autocorrlaciones\n",
    "autocorrelation_lag1 = data_in_days['num_orders'].autocorr(lag=7)\n",
    "print(\"7 días: \", autocorrelation_lag1)\n",
    "\n",
    "autocorrelation_lag3 = data_in_days['num_orders'].autocorr(lag=15)\n",
    "print(\"15 días: \", autocorrelation_lag3)\n",
    "\n",
    "autocorrelation_lag6 = data_in_days['num_orders'].autocorr(lag=30)\n",
    "print(\"30 días: \", autocorrelation_lag6)\n",
    "\n",
    "autocorrelation_lag9 = data_in_days['num_orders'].autocorr(lag=60)\n",
    "print(\"60 días: \", autocorrelation_lag9)"
   ]
  },
  {
   "cell_type": "markdown",
   "metadata": {},
   "source": [
    "No se muestra ninguna correlación en nuestra data (correlación < 0.8), no podríamos inferir el comportamiento del futuro en función a data del pasado."
   ]
  },
  {
   "cell_type": "markdown",
   "metadata": {},
   "source": [
    "## Formación"
   ]
  },
  {
   "cell_type": "markdown",
   "metadata": {},
   "source": [
    "Previo a comenzar a entrenar y probar modelos, remuestraremos la data a una hora debido a que queremos pronósticar para la siguiente hora y crearemos una función para obtener las características necesarias para nuestro modelo. Adicionalmente, agregaremos las diferencias de en las series temporales los que nos permitirá volver más estacional la data y como consecuencia se hará más factible pronosticar los datos."
   ]
  },
  {
   "cell_type": "code",
   "execution_count": 16,
   "metadata": {},
   "outputs": [],
   "source": [
    "# Remuestrar la data a 1 hora\n",
    "data_in_hours = data.resample('1H').sum()\n",
    "data_in_hours.sort_index(inplace=True)"
   ]
  },
  {
   "cell_type": "code",
   "execution_count": 17,
   "metadata": {},
   "outputs": [],
   "source": [
    "# Crear función para añadir características necesarias\n",
    "def make_features(data, max_lag, rolling_mean_size, rolling_std_size):\n",
    "    data['month'] = data.index.month\n",
    "    data['day'] = data.index.day\n",
    "    data['dayofweek'] = data.index.dayofweek\n",
    "    data['hour'] = data.index.hour\n",
    "\n",
    "    for lag in range(1, max_lag + 1):\n",
    "        data['lag_{}'.format(lag)] = data['num_orders'].shift(lag)\n",
    "\n",
    "    data['rolling_mean'] = (\n",
    "        data['num_orders'].shift().rolling(rolling_mean_size).mean()\n",
    "    )\n",
    "    "
   ]
  },
  {
   "cell_type": "code",
   "execution_count": 18,
   "metadata": {},
   "outputs": [
    {
     "data": {
      "text/html": [
       "<div>\n",
       "<style scoped>\n",
       "    .dataframe tbody tr th:only-of-type {\n",
       "        vertical-align: middle;\n",
       "    }\n",
       "\n",
       "    .dataframe tbody tr th {\n",
       "        vertical-align: top;\n",
       "    }\n",
       "\n",
       "    .dataframe thead th {\n",
       "        text-align: right;\n",
       "    }\n",
       "</style>\n",
       "<table border=\"1\" class=\"dataframe\">\n",
       "  <thead>\n",
       "    <tr style=\"text-align: right;\">\n",
       "      <th></th>\n",
       "      <th>num_orders</th>\n",
       "      <th>month</th>\n",
       "      <th>day</th>\n",
       "      <th>dayofweek</th>\n",
       "      <th>hour</th>\n",
       "      <th>lag_1</th>\n",
       "      <th>lag_2</th>\n",
       "      <th>lag_3</th>\n",
       "      <th>lag_4</th>\n",
       "      <th>lag_5</th>\n",
       "      <th>lag_6</th>\n",
       "      <th>rolling_mean</th>\n",
       "    </tr>\n",
       "    <tr>\n",
       "      <th>datetime</th>\n",
       "      <th></th>\n",
       "      <th></th>\n",
       "      <th></th>\n",
       "      <th></th>\n",
       "      <th></th>\n",
       "      <th></th>\n",
       "      <th></th>\n",
       "      <th></th>\n",
       "      <th></th>\n",
       "      <th></th>\n",
       "      <th></th>\n",
       "      <th></th>\n",
       "    </tr>\n",
       "  </thead>\n",
       "  <tbody>\n",
       "    <tr>\n",
       "      <th>2018-03-01 00:00:00</th>\n",
       "      <td>124</td>\n",
       "      <td>3</td>\n",
       "      <td>1</td>\n",
       "      <td>3</td>\n",
       "      <td>0</td>\n",
       "      <td>NaN</td>\n",
       "      <td>NaN</td>\n",
       "      <td>NaN</td>\n",
       "      <td>NaN</td>\n",
       "      <td>NaN</td>\n",
       "      <td>NaN</td>\n",
       "      <td>NaN</td>\n",
       "    </tr>\n",
       "    <tr>\n",
       "      <th>2018-03-01 01:00:00</th>\n",
       "      <td>85</td>\n",
       "      <td>3</td>\n",
       "      <td>1</td>\n",
       "      <td>3</td>\n",
       "      <td>1</td>\n",
       "      <td>124.0</td>\n",
       "      <td>NaN</td>\n",
       "      <td>NaN</td>\n",
       "      <td>NaN</td>\n",
       "      <td>NaN</td>\n",
       "      <td>NaN</td>\n",
       "      <td>NaN</td>\n",
       "    </tr>\n",
       "    <tr>\n",
       "      <th>2018-03-01 02:00:00</th>\n",
       "      <td>71</td>\n",
       "      <td>3</td>\n",
       "      <td>1</td>\n",
       "      <td>3</td>\n",
       "      <td>2</td>\n",
       "      <td>85.0</td>\n",
       "      <td>124.0</td>\n",
       "      <td>NaN</td>\n",
       "      <td>NaN</td>\n",
       "      <td>NaN</td>\n",
       "      <td>NaN</td>\n",
       "      <td>NaN</td>\n",
       "    </tr>\n",
       "    <tr>\n",
       "      <th>2018-03-01 03:00:00</th>\n",
       "      <td>66</td>\n",
       "      <td>3</td>\n",
       "      <td>1</td>\n",
       "      <td>3</td>\n",
       "      <td>3</td>\n",
       "      <td>71.0</td>\n",
       "      <td>85.0</td>\n",
       "      <td>124.0</td>\n",
       "      <td>NaN</td>\n",
       "      <td>NaN</td>\n",
       "      <td>NaN</td>\n",
       "      <td>NaN</td>\n",
       "    </tr>\n",
       "    <tr>\n",
       "      <th>2018-03-01 04:00:00</th>\n",
       "      <td>43</td>\n",
       "      <td>3</td>\n",
       "      <td>1</td>\n",
       "      <td>3</td>\n",
       "      <td>4</td>\n",
       "      <td>66.0</td>\n",
       "      <td>71.0</td>\n",
       "      <td>85.0</td>\n",
       "      <td>124.0</td>\n",
       "      <td>NaN</td>\n",
       "      <td>NaN</td>\n",
       "      <td>NaN</td>\n",
       "    </tr>\n",
       "  </tbody>\n",
       "</table>\n",
       "</div>"
      ],
      "text/plain": [
       "                     num_orders  month  day  dayofweek  hour  lag_1  lag_2  \\\n",
       "datetime                                                                     \n",
       "2018-03-01 00:00:00         124      3    1          3     0    NaN    NaN   \n",
       "2018-03-01 01:00:00          85      3    1          3     1  124.0    NaN   \n",
       "2018-03-01 02:00:00          71      3    1          3     2   85.0  124.0   \n",
       "2018-03-01 03:00:00          66      3    1          3     3   71.0   85.0   \n",
       "2018-03-01 04:00:00          43      3    1          3     4   66.0   71.0   \n",
       "\n",
       "                     lag_3  lag_4  lag_5  lag_6  rolling_mean  \n",
       "datetime                                                       \n",
       "2018-03-01 00:00:00    NaN    NaN    NaN    NaN           NaN  \n",
       "2018-03-01 01:00:00    NaN    NaN    NaN    NaN           NaN  \n",
       "2018-03-01 02:00:00    NaN    NaN    NaN    NaN           NaN  \n",
       "2018-03-01 03:00:00  124.0    NaN    NaN    NaN           NaN  \n",
       "2018-03-01 04:00:00   85.0  124.0    NaN    NaN           NaN  "
      ]
     },
     "execution_count": 18,
     "metadata": {},
     "output_type": "execute_result"
    }
   ],
   "source": [
    "# Aplicar función\n",
    "make_features(data_in_hours, 6, 48, 48)\n",
    "data_in_hours.head()"
   ]
  },
  {
   "cell_type": "markdown",
   "metadata": {},
   "source": [
    "## Prueba"
   ]
  },
  {
   "cell_type": "markdown",
   "metadata": {},
   "source": [
    "Es momento de construir varios modelos de ML para cumplir con el objetivo de la compañía: determinar el valor de merado de un vehículo. Para la construcción de modelos, compararemos modelos de regresión lineal, arból de decisión y bosque aletorio con métodos de potenciación de gradiente: `LightGBM`, `CatBoost` y `XGBoost`.\n",
    "\n",
    "Adicionalmente, utilizaremos `GridSearchCv` para encontrar los mejores hiperparámetros."
   ]
  },
  {
   "cell_type": "markdown",
   "metadata": {},
   "source": [
    "**Prueba de Cordura**"
   ]
  },
  {
   "cell_type": "markdown",
   "metadata": {},
   "source": [
    "Previo al entrenamiento de diversos modelos, haremos una prueba de cordurar para establecer un medidad base de RECM. Utilizaremos 2 métodos para la prueba de cordura:\n",
    "1) Todos los valores de la muestra de prueba se pronostican con el mismo número (una constante). Para la métrica RECM, este número es la mediana.\n",
    "\n",
    "2) El nuevo valor x(t) se predice mediante el valor anterior de la serie, definido como x(t-1). Este método es independiente de la métrica. Considera que el último valor de los datos de entrenamiento se puede utilizar como el primer valor de los datos de prueba."
   ]
  },
  {
   "cell_type": "code",
   "execution_count": 19,
   "metadata": {},
   "outputs": [],
   "source": [
    "# Remuestrar la data a 1 hora\n",
    "data_in_hours_sanity_check = data.resample('1H').sum()\n",
    "\n",
    "# Determinar conjunto de entrenamiento y de prueba\n",
    "train, test = train_test_split(data_in_hours_sanity_check, shuffle=False, test_size=0.1)"
   ]
  },
  {
   "cell_type": "code",
   "execution_count": 20,
   "metadata": {},
   "outputs": [
    {
     "name": "stdout",
     "output_type": "stream",
     "text": [
      "Número de órdenes de taxi medio horaria: 135.0\n",
      "RECM: 87.15277582981295\n",
      "Diferencia de error: 64.558 %\n"
     ]
    }
   ],
   "source": [
    "# Primer método\n",
    "print('Número de órdenes de taxi medio horaria:', test['num_orders'].median())\n",
    "pred_median = np.ones(test.shape) * train['num_orders'].median()\n",
    "print('RECM:', mean_squared_error(test, pred_median)**0.5)\n",
    "difference = (mean_squared_error(test, pred_median)**0.5/test[\"num_orders\"].median())*100\n",
    "print(f'Diferencia de error: {difference:.3f} %')"
   ]
  },
  {
   "cell_type": "code",
   "execution_count": 21,
   "metadata": {},
   "outputs": [
    {
     "name": "stdout",
     "output_type": "stream",
     "text": [
      "Número de órdenes de taxi medio horaria: 135.0\n",
      "RECM: 58.856486242815066\n",
      "Diferencia de error: 43.597 %\n"
     ]
    }
   ],
   "source": [
    "# Segundo método\n",
    "print('Número de órdenes de taxi medio horaria:', test['num_orders'].median())\n",
    "pred_previous = test.shift()\n",
    "pred_previous.iloc[0] = train.iloc[-1]\n",
    "print('RECM:', mean_squared_error(test, pred_previous)**0.5)\n",
    "difference = (mean_squared_error(test, pred_previous)**0.5/test[\"num_orders\"].median())*100\n",
    "print(f'Diferencia de error: {difference:.3f} %')"
   ]
  },
  {
   "cell_type": "markdown",
   "metadata": {},
   "source": [
    "Utilizando el primer método la exactidud de nuestro modelo está lejos de ser exacto. Sin embargo, utilizando el segundo método aumenta la cordura aunque sigo siendo alta. Esto nos sirvirá como punto de referencia para los siguientes modelos."
   ]
  },
  {
   "cell_type": "markdown",
   "metadata": {},
   "source": [
    "### Regresión Lineal"
   ]
  },
  {
   "cell_type": "markdown",
   "metadata": {},
   "source": [
    "Estandarizaremos las características numéricas utilizando **StandarScaler** y usaremos la regresión lineal como nuestra prueba de cordura, buscando que los métodos de potenciación de gradiente presenten una mejor calidad."
   ]
  },
  {
   "cell_type": "code",
   "execution_count": 22,
   "metadata": {},
   "outputs": [
    {
     "name": "stdout",
     "output_type": "stream",
     "text": [
      "Tamaño del conjunto de entrenamiento: (3926, 11), (3926,)\n",
      "Tamaño del conjunto de prueba: (442, 11), (442,)\n"
     ]
    }
   ],
   "source": [
    "# Escalar los datos\n",
    "scaler = StandardScaler()\n",
    "data_scaled = data_in_hours\n",
    "scaler.fit(data_scaled)\n",
    "\n",
    "# Determinar conjunto de entrenamiento y de prueba\n",
    "train, test = train_test_split(data_scaled, shuffle=False, test_size=0.1)\n",
    "train = train.dropna()\n",
    "\n",
    "# Determinar features y target\n",
    "features_train = train.drop(['num_orders'], axis=1)\n",
    "target_train = train['num_orders']\n",
    "features_test = test.drop(['num_orders'], axis=1)\n",
    "target_test = test['num_orders']\n",
    "\n",
    "# Comprobar división\n",
    "print(f'Tamaño del conjunto de entrenamiento: {features_train.shape}, {target_train.shape}')\n",
    "print(f'Tamaño del conjunto de prueba: {features_test.shape}, {target_test.shape}')"
   ]
  },
  {
   "cell_type": "code",
   "execution_count": 23,
   "metadata": {},
   "outputs": [
    {
     "name": "stdout",
     "output_type": "stream",
     "text": [
      "RECM de modelo de Regresión Lineal: 51.681\n"
     ]
    }
   ],
   "source": [
    "# Entrenar el modelo de regresión lineal\n",
    "lr_model = LinearRegression()\n",
    "lr_model.fit(features_train, target_train)\n",
    "\n",
    "# Realizar predicciones\n",
    "target_pred = lr_model.predict(features_test)\n",
    "\n",
    "# Establecer las métricas de tiempo y calidad\n",
    "RECM_lr = mean_squared_error(target_test, target_pred, squared=False)\n",
    "print(f'RECM de modelo de Regresión Lineal: {RECM_lr:.3f}')"
   ]
  },
  {
   "cell_type": "markdown",
   "metadata": {},
   "source": [
    "El modelo de Regresión Lineal obtuvo un RECM de 53.997, este será nuestra prueba de cordura y servirá como valor base para comparar con otro modelos y método de potenciación gradiente.\n",
    "\n",
    "Si un modelo de potenciación de gradiente obtiene un RECM mayor 53.997 algo habrá salido mal. "
   ]
  },
  {
   "cell_type": "markdown",
   "metadata": {},
   "source": [
    "### Árbol de Decisión"
   ]
  },
  {
   "cell_type": "markdown",
   "metadata": {},
   "source": [
    "Para el caso de modelo de árboloes y regresión logística no es necesario escalar los datos, por lo cual no los estandarizaremos."
   ]
  },
  {
   "cell_type": "code",
   "execution_count": 24,
   "metadata": {},
   "outputs": [
    {
     "name": "stdout",
     "output_type": "stream",
     "text": [
      "Tamaño del conjunto de entrenamiento: (3926, 11), (3926,)\n",
      "Tamaño del conjunto de prueba: (442, 11), (442,)\n"
     ]
    }
   ],
   "source": [
    "# Determinar conjunto de entrenamiento y de prueba\n",
    "train, test = train_test_split(data_in_hours, shuffle=False, test_size=0.1)\n",
    "train = train.dropna()\n",
    "\n",
    "# Determinar features y target\n",
    "features_train = train.drop(['num_orders'], axis=1)\n",
    "target_train = train['num_orders']\n",
    "features_test = test.drop(['num_orders'], axis=1)\n",
    "target_test = test['num_orders']\n",
    "\n",
    "# Comprobar división\n",
    "print(f'Tamaño del conjunto de entrenamiento: {features_train.shape}, {target_train.shape}')\n",
    "print(f'Tamaño del conjunto de prueba: {features_test.shape}, {target_test.shape}')"
   ]
  },
  {
   "cell_type": "markdown",
   "metadata": {},
   "source": [
    "**Ajuste de Hiperparámetros**"
   ]
  },
  {
   "cell_type": "code",
   "execution_count": 25,
   "metadata": {},
   "outputs": [],
   "source": [
    "# Establecer los hiperparámetros de árbol de decisión\n",
    "params_dt = {\n",
    "    'max_depth': [1, 2, 3, 4, 5, 6, 7, 8],\n",
    "    'min_samples_split': [2, 4, 6, 8, 9, 10],\n",
    "    'min_samples_leaf': [2, 4, 6, 8, 9, 10]\n",
    "}\n",
    "\n",
    "# Usar la función GridSearchCV y pasamos los hiperparámetros establecidos, la métrica y el valor para la validación cruzada\n",
    "gridSearch_dt = GridSearchCV(\n",
    "    estimator=DecisionTreeRegressor(),\n",
    "    param_grid=params_dt,\n",
    "    scoring='neg_root_mean_squared_error',\n",
    "    cv=3\n",
    ")"
   ]
  },
  {
   "cell_type": "code",
   "execution_count": 26,
   "metadata": {},
   "outputs": [
    {
     "data": {
      "text/plain": [
       "GridSearchCV(cv=3, estimator=DecisionTreeRegressor(),\n",
       "             param_grid={'max_depth': [1, 2, 3, 4, 5, 6, 7, 8],\n",
       "                         'min_samples_leaf': [2, 4, 6, 8, 9, 10],\n",
       "                         'min_samples_split': [2, 4, 6, 8, 9, 10]},\n",
       "             scoring='neg_root_mean_squared_error')"
      ]
     },
     "execution_count": 26,
     "metadata": {},
     "output_type": "execute_result"
    }
   ],
   "source": [
    "# Entrenar nuestro modelo para encontrar los mejores hiperparámetros\n",
    "gridSearch_dt.fit(features_train, target_train)"
   ]
  },
  {
   "cell_type": "code",
   "execution_count": 27,
   "metadata": {},
   "outputs": [
    {
     "name": "stdout",
     "output_type": "stream",
     "text": [
      "Mejores hiperparámetros: {'max_depth': 7, 'min_samples_leaf': 8, 'min_samples_split': 2} | Mejor RECM: 29.285\n"
     ]
    }
   ],
   "source": [
    "# Encontrar los mejores hiperparámetros\n",
    "best_index = np.argmax(gridSearch_dt.cv_results_['mean_test_score'])\n",
    "best_set_of_params = gridSearch_dt.cv_results_['params'][best_index]\n",
    "best_score = gridSearch_dt.cv_results_['mean_test_score'][best_index]\n",
    "\n",
    "print(f'Mejores hiperparámetros: {best_set_of_params} | Mejor RECM: {-best_score:.3f}')"
   ]
  },
  {
   "cell_type": "markdown",
   "metadata": {},
   "source": [
    "**Entrenamiento de Modelo**"
   ]
  },
  {
   "cell_type": "code",
   "execution_count": 28,
   "metadata": {},
   "outputs": [
    {
     "name": "stdout",
     "output_type": "stream",
     "text": [
      "RECM de modelo de Árbol de Decisión: 49.870\n"
     ]
    }
   ],
   "source": [
    "# Entrenar el modelo de árbol de decisión\n",
    "dt_model = DecisionTreeRegressor(max_depth=7, min_samples_split=8, min_samples_leaf=2, random_state=12345)\n",
    "dt_model.fit(features_train, target_train)\n",
    "\n",
    "# Realizar predicciones\n",
    "target_pred_dt = dt_model.predict(features_test)\n",
    "\n",
    "# Establecer las metrícas de tiempo y calidad\n",
    "RECM_dt = mean_squared_error(target_test, target_pred_dt, squared=False)\n",
    "print(f'RECM de modelo de Árbol de Decisión: {RECM_dt:.3f}')"
   ]
  },
  {
   "cell_type": "markdown",
   "metadata": {},
   "source": [
    "### Bosque Aleatorio"
   ]
  },
  {
   "cell_type": "markdown",
   "metadata": {},
   "source": [
    "**Ajuste de Hiperparámetros**"
   ]
  },
  {
   "cell_type": "code",
   "execution_count": 29,
   "metadata": {},
   "outputs": [],
   "source": [
    "# Establecer los hiperparámetros de árbol de decisión\n",
    "params_rf = {\n",
    "    'n_estimators': [10, 20, 40, 80, 100],\n",
    "    'max_depth': [1, 2, 3, 4, 5, 6, 7, 8]\n",
    "}\n",
    "\n",
    "# Usar la función GridSearchCV y pasamos los hiperparámetros establecidos, la métrica y el valor para la validación cruzada\n",
    "gridSearch_rf = GridSearchCV(\n",
    "    estimator=RandomForestRegressor(),\n",
    "    param_grid=params_rf,\n",
    "    scoring='neg_root_mean_squared_error',\n",
    "    cv=3\n",
    ")"
   ]
  },
  {
   "cell_type": "code",
   "execution_count": 30,
   "metadata": {},
   "outputs": [
    {
     "data": {
      "text/plain": [
       "GridSearchCV(cv=3, estimator=RandomForestRegressor(),\n",
       "             param_grid={'max_depth': [1, 2, 3, 4, 5, 6, 7, 8],\n",
       "                         'n_estimators': [10, 20, 40, 80, 100]},\n",
       "             scoring='neg_root_mean_squared_error')"
      ]
     },
     "execution_count": 30,
     "metadata": {},
     "output_type": "execute_result"
    }
   ],
   "source": [
    "# Entrenar nuestro modelo para encontrar los mejores hiperparámetros\n",
    "gridSearch_rf.fit(features_train, target_train)"
   ]
  },
  {
   "cell_type": "code",
   "execution_count": 31,
   "metadata": {},
   "outputs": [
    {
     "name": "stdout",
     "output_type": "stream",
     "text": [
      "Mejores hiperparámetros: {'max_depth': 8, 'n_estimators': 100} | Mejor RECM: 26.908\n"
     ]
    }
   ],
   "source": [
    "# Encontrar los mejores hiperparámetros\n",
    "best_index = np.argmax(gridSearch_rf.cv_results_['mean_test_score'])\n",
    "best_set_of_params = gridSearch_rf.cv_results_['params'][best_index]\n",
    "best_score = gridSearch_rf.cv_results_['mean_test_score'][best_index]\n",
    "\n",
    "print(f'Mejores hiperparámetros: {best_set_of_params} | Mejor RECM: {-best_score:.3f}')"
   ]
  },
  {
   "cell_type": "code",
   "execution_count": 32,
   "metadata": {},
   "outputs": [
    {
     "name": "stdout",
     "output_type": "stream",
     "text": [
      "RECM de modelo de Bosque Aleatorio: 47.585\n"
     ]
    }
   ],
   "source": [
    "# Entrenar el modelo de bosque aleatorio\n",
    "rf_model = RandomForestRegressor(max_depth=8, n_estimators=80, random_state=12345)\n",
    "rf_model.fit(features_train, target_train)\n",
    "\n",
    "# Realizar predicciones\n",
    "target_pred_rf = rf_model.predict(features_test)\n",
    "\n",
    "# Establecer las metrícas de tiempo y calidad\n",
    "RECM_rf = mean_squared_error(target_test, target_pred_rf, squared=False)\n",
    "print(f'RECM de modelo de Bosque Aleatorio: {RECM_rf:.3f}')"
   ]
  },
  {
   "cell_type": "markdown",
   "metadata": {},
   "source": [
    "### CatBoost"
   ]
  },
  {
   "cell_type": "markdown",
   "metadata": {},
   "source": [
    "**Ajuste de Hiperparámetros**"
   ]
  },
  {
   "cell_type": "code",
   "execution_count": 33,
   "metadata": {},
   "outputs": [],
   "source": [
    "# Establecer los hiperparámetros que vamos a ajustar\n",
    "params_catboost = {\n",
    "    'depth': [4, 6, 10, 15],\n",
    "    'learning_rate': [0.1, 0.2, 0.5, 0.8, 1]\n",
    "}\n",
    "\n",
    "# Llamar al estimador que utilizaremos, CatBoostRegressor y lo pasamos a GridSearchCv\n",
    "catboost_est = CatBoostRegressor(iterations=100, verbose=False, loss_function='RMSE')\n",
    "\n",
    "# Usar la función GridSearchCV y pasamos los hiperparámetros establecidos, la métrica y el valor para la validación cruzada\n",
    "gridSearch_catboost = GridSearchCV(\n",
    "    estimator=catboost_est,\n",
    "    param_grid=params_catboost,\n",
    "    scoring='neg_root_mean_squared_error',\n",
    "    cv=3\n",
    ")"
   ]
  },
  {
   "cell_type": "code",
   "execution_count": 34,
   "metadata": {},
   "outputs": [
    {
     "data": {
      "text/plain": [
       "GridSearchCV(cv=3,\n",
       "             estimator=<catboost.core.CatBoostRegressor object at 0x7f4d0743eb20>,\n",
       "             param_grid={'depth': [4, 6, 10, 15],\n",
       "                         'learning_rate': [0.1, 0.2, 0.5, 0.8, 1]},\n",
       "             scoring='neg_root_mean_squared_error')"
      ]
     },
     "execution_count": 34,
     "metadata": {},
     "output_type": "execute_result"
    }
   ],
   "source": [
    "# Entrenar nuestro modelo para encontrar los mejores hiperparámetros\n",
    "gridSearch_catboost.fit(features_train, target_train)"
   ]
  },
  {
   "cell_type": "code",
   "execution_count": 35,
   "metadata": {},
   "outputs": [
    {
     "name": "stdout",
     "output_type": "stream",
     "text": [
      "Mejores hiperparámetros: {'depth': 6, 'learning_rate': 0.1} | Mejor RECM: 25.854\n"
     ]
    }
   ],
   "source": [
    "# Encontrar los mejores hiperparámetros\n",
    "best_index = np.argmax(gridSearch_catboost.cv_results_['mean_test_score'])\n",
    "best_set_of_params = gridSearch_catboost.cv_results_['params'][best_index]\n",
    "best_score = gridSearch_catboost.cv_results_['mean_test_score'][best_index]\n",
    "\n",
    "print(f'Mejores hiperparámetros: {best_set_of_params} | Mejor RECM: {-best_score:.3f}')"
   ]
  },
  {
   "cell_type": "markdown",
   "metadata": {},
   "source": [
    "**Entrenamiento de Modelo**"
   ]
  },
  {
   "cell_type": "code",
   "execution_count": 36,
   "metadata": {},
   "outputs": [
    {
     "name": "stdout",
     "output_type": "stream",
     "text": [
      "RECM de modelo de CatBoost: 47.674\n"
     ]
    }
   ],
   "source": [
    "# Entrenar el modelo de catboost\n",
    "catboost_model = CatBoostRegressor(\n",
    "    iterations=100,\n",
    "    depth=6,\n",
    "    learning_rate=0.1,\n",
    "    loss_function='RMSE',\n",
    "    random_state=12345\n",
    ")\n",
    "\n",
    "catboost_model.fit(features_train, target_train, verbose=False)\n",
    "\n",
    "# Realizar predicciones\n",
    "target_pred_cat = catboost_model.predict(features_test)\n",
    "\n",
    "# Establecer las metrícas de tiempo y calidad\n",
    "RECM_cat = mean_squared_error(target_test, target_pred_cat, squared=False)\n",
    "print(f'RECM de modelo de CatBoost: {RECM_cat:.3f}')"
   ]
  },
  {
   "cell_type": "markdown",
   "metadata": {},
   "source": [
    "### LightGBM"
   ]
  },
  {
   "cell_type": "markdown",
   "metadata": {},
   "source": [
    "**Ajuste de Hiperparámetros**"
   ]
  },
  {
   "cell_type": "code",
   "execution_count": 37,
   "metadata": {},
   "outputs": [],
   "source": [
    "# Establecer los hiperparámetros que vamos a ajustar\n",
    "params_lightgbm = {\n",
    "    'n_estimators': [100, 300, 500, 700],\n",
    "    'learning_rate': [0.1, 0.2, 0.5, 0.8, 1],\n",
    "    'num_leaves': [10, 20, 30, 40]\n",
    "}\n",
    "\n",
    "# Llamar al estimador que utilizaremos\n",
    "lightgbm_est = LGBMRegressor()\n",
    "\n",
    "# Usar la función GridSearchCV y pasamos los hiperparámetros establecidos, la métrica y el valor para la validación cruzada\n",
    "gridSearch_lightgbm = GridSearchCV(\n",
    "    estimator=lightgbm_est,\n",
    "    param_grid=params_lightgbm,\n",
    "    scoring='neg_root_mean_squared_error',\n",
    "    cv=3\n",
    ")"
   ]
  },
  {
   "cell_type": "code",
   "execution_count": 38,
   "metadata": {},
   "outputs": [
    {
     "data": {
      "text/plain": [
       "GridSearchCV(cv=3, estimator=LGBMRegressor(),\n",
       "             param_grid={'learning_rate': [0.1, 0.2, 0.5, 0.8, 1],\n",
       "                         'n_estimators': [100, 300, 500, 700],\n",
       "                         'num_leaves': [10, 20, 30, 40]},\n",
       "             scoring='neg_root_mean_squared_error')"
      ]
     },
     "execution_count": 38,
     "metadata": {},
     "output_type": "execute_result"
    }
   ],
   "source": [
    "# Entrenar nuestro modelo para encontrar los mejores hiperparámetros\n",
    "gridSearch_lightgbm.fit(features_train, target_train)"
   ]
  },
  {
   "cell_type": "code",
   "execution_count": 39,
   "metadata": {},
   "outputs": [
    {
     "name": "stdout",
     "output_type": "stream",
     "text": [
      "Mejores hiperparámetros: {'learning_rate': 0.1, 'n_estimators': 100, 'num_leaves': 10} | Mejor RECM: 25.938\n"
     ]
    }
   ],
   "source": [
    "# Encontrar los mejores hiperparámetros\n",
    "best_index = np.argmax(gridSearch_lightgbm.cv_results_['mean_test_score'])\n",
    "best_set_of_params = gridSearch_lightgbm.cv_results_['params'][best_index]\n",
    "best_score = gridSearch_lightgbm.cv_results_['mean_test_score'][best_index]\n",
    "\n",
    "print(f'Mejores hiperparámetros: {best_set_of_params} | Mejor RECM: {-best_score:.3f}')"
   ]
  },
  {
   "cell_type": "markdown",
   "metadata": {},
   "source": [
    "**Entrenamiento de Modelo**"
   ]
  },
  {
   "cell_type": "code",
   "execution_count": 40,
   "metadata": {},
   "outputs": [
    {
     "name": "stdout",
     "output_type": "stream",
     "text": [
      "RECM de modelo de LightGBM: 47.619\n"
     ]
    }
   ],
   "source": [
    "# Entrenar el modelo de LightGBM\n",
    "lightgbm_model = LGBMRegressor(\n",
    "    n_estimators=100,\n",
    "    learning_rate=0.1,\n",
    "    num_leaves=10,\n",
    "    random_seed=12345\n",
    ")\n",
    "\n",
    "lightgbm_model.fit(features_train, target_train)\n",
    "\n",
    "# Realizar predicciones\n",
    "target_pred_gbm = lightgbm_model.predict(features_test)\n",
    "\n",
    "# Establecer las metrícas de tiempo y calidad\n",
    "RECM_light = mean_squared_error(target_test, target_pred_gbm, squared=False)\n",
    "print(f'RECM de modelo de LightGBM: {RECM_light:.3f}')"
   ]
  },
  {
   "cell_type": "markdown",
   "metadata": {},
   "source": [
    "### XGBoost"
   ]
  },
  {
   "cell_type": "markdown",
   "metadata": {},
   "source": [
    "**Ajuste de Hiperparámetros**"
   ]
  },
  {
   "cell_type": "code",
   "execution_count": 41,
   "metadata": {},
   "outputs": [],
   "source": [
    "# Establecer los hiperparámetros que vamos a ajustar\n",
    "params_xboost = {\n",
    "    'max_depth': [4, 6, 8, 10, 12],\n",
    "    'n_estimators': [50, 100, 150, 200]\n",
    "}\n",
    "\n",
    "# Llamar al estimador que utilizaremos\n",
    "xboost_est = XGBRegressor()\n",
    "\n",
    "# Usar la función GridSearchCV y pasamos los hiperparámetros establecidos, la métrica y el valor para la validación cruzada\n",
    "gridSearch_xboost = GridSearchCV(\n",
    "    estimator=xboost_est,\n",
    "    param_grid=params_xboost,\n",
    "    scoring='neg_root_mean_squared_error',\n",
    "    cv=3\n",
    ")"
   ]
  },
  {
   "cell_type": "code",
   "execution_count": 42,
   "metadata": {},
   "outputs": [
    {
     "data": {
      "text/plain": [
       "GridSearchCV(cv=3,\n",
       "             estimator=XGBRegressor(base_score=None, booster=None,\n",
       "                                    colsample_bylevel=None,\n",
       "                                    colsample_bynode=None,\n",
       "                                    colsample_bytree=None,\n",
       "                                    enable_categorical=False, gamma=None,\n",
       "                                    gpu_id=None, importance_type=None,\n",
       "                                    interaction_constraints=None,\n",
       "                                    learning_rate=None, max_delta_step=None,\n",
       "                                    max_depth=None, min_child_weight=None,\n",
       "                                    missing=nan, monotone_constraints=None,\n",
       "                                    n_estimators=100, n_jobs=None,\n",
       "                                    num_parallel_tree=None, predictor=None,\n",
       "                                    random_state=None, reg_alpha=None,\n",
       "                                    reg_lambda=None, scale_pos_weight=None,\n",
       "                                    subsample=None, tree_method=None,\n",
       "                                    validate_parameters=None, verbosity=None),\n",
       "             param_grid={'max_depth': [4, 6, 8, 10, 12],\n",
       "                         'n_estimators': [50, 100, 150, 200]},\n",
       "             scoring='neg_root_mean_squared_error')"
      ]
     },
     "execution_count": 42,
     "metadata": {},
     "output_type": "execute_result"
    }
   ],
   "source": [
    "# Entrenar nuestro modelo para encontrar los mejores hiperparámetros\n",
    "gridSearch_xboost.fit(features_train, target_train)"
   ]
  },
  {
   "cell_type": "code",
   "execution_count": 43,
   "metadata": {},
   "outputs": [
    {
     "name": "stdout",
     "output_type": "stream",
     "text": [
      "Mejores hiperparámetros: {'max_depth': 4, 'n_estimators': 50} | Mejor RECM: 26.390\n"
     ]
    }
   ],
   "source": [
    "# Encontrar los mejores hiperparámetros\n",
    "best_index = np.argmax(gridSearch_xboost.cv_results_['mean_test_score'])\n",
    "best_set_of_params = gridSearch_xboost.cv_results_['params'][best_index]\n",
    "best_score = gridSearch_xboost.cv_results_['mean_test_score'][best_index]\n",
    "\n",
    "print(f'Mejores hiperparámetros: {best_set_of_params} | Mejor RECM: {-best_score:.3f}')"
   ]
  },
  {
   "cell_type": "markdown",
   "metadata": {},
   "source": [
    "**Entrenamiento de Modelo**"
   ]
  },
  {
   "cell_type": "code",
   "execution_count": 44,
   "metadata": {},
   "outputs": [
    {
     "name": "stdout",
     "output_type": "stream",
     "text": [
      "[14:57:37] WARNING: ../src/learner.cc:576: \n",
      "Parameters: { \"random_estate\" } might not be used.\n",
      "\n",
      "  This could be a false alarm, with some parameters getting used by language bindings but\n",
      "  then being mistakenly passed down to XGBoost core, or some parameter actually being used\n",
      "  but getting flagged wrongly here. Please open an issue if you find any such cases.\n",
      "\n",
      "\n",
      "RECM de modelo de XGBoost: 46.854\n"
     ]
    }
   ],
   "source": [
    "# Entrenar el modelo de XGBoost\n",
    "xboost_model = XGBRegressor(\n",
    "    random_estate=12345,\n",
    "    max_depth=4,\n",
    "    n_estimators=50\n",
    ")\n",
    "\n",
    "xboost_model.fit(features_train, target_train)\n",
    "\n",
    "# Realizar predicciones\n",
    "target_pred_xboost = xboost_model.predict(features_test)\n",
    "\n",
    "# Establecer las metrícas de tiempo y calidad\n",
    "RECM_xboost = mean_squared_error(target_test, target_pred_xboost, squared=False)\n",
    "print(f'RECM de modelo de XGBoost: {RECM_xboost:.3f}')"
   ]
  },
  {
   "cell_type": "markdown",
   "metadata": {},
   "source": [
    "## Conclusiones"
   ]
  },
  {
   "cell_type": "markdown",
   "metadata": {},
   "source": [
    "Empezamos realizando un análisis a nuestro datos de número de órdenes, donde se tiene un sesgo positivo y lás ódenes se encuentran concentradas en en valores menores. Asimismo, analizamos las series temporales remuestreando a 1 día para hacer más visible la data. Esto nos mostró que hay una tendencia creciente, no hay estacionalidad en los datos y los residuos no muestran alguna congruencia.\n",
    "\n",
    "Por último se probaron y ajustaron diferentes modelos y se obtuvo que el mejor modelo fue XGBoost con un RECM de 47.85\n",
    "\n",
    "1. **La solicitud de taxis muestra una tendencia creciente durante el tiempo.**\n",
    "2. **El mejor modelo para predecir la cantidad de órdenes de taxis en la próxima hora es XGBoost con un RECM de 47.85.**"
   ]
  }
 ],
 "metadata": {
  "kernelspec": {
   "display_name": "Python 3 (ipykernel)",
   "language": "python",
   "name": "python3"
  },
  "language_info": {
   "codemirror_mode": {
    "name": "ipython",
    "version": 3
   },
   "file_extension": ".py",
   "mimetype": "text/x-python",
   "name": "python",
   "nbconvert_exporter": "python",
   "pygments_lexer": "ipython3",
   "version": "3.9.5"
  },
  "toc": {
   "base_numbering": 1,
   "nav_menu": {},
   "number_sections": true,
   "sideBar": true,
   "skip_h1_title": true,
   "title_cell": "Table of Contents",
   "title_sidebar": "Contents",
   "toc_cell": false,
   "toc_position": {},
   "toc_section_display": true,
   "toc_window_display": true
  }
 },
 "nbformat": 4,
 "nbformat_minor": 2
}
