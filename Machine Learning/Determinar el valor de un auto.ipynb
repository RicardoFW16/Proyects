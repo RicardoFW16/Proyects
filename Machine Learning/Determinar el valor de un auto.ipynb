{
 "cells": [
  {
   "cell_type": "markdown",
   "metadata": {},
   "source": [
    "# ¿Qué valor de mercado debe tener tu auto?"
   ]
  },
  {
   "cell_type": "markdown",
   "metadata": {},
   "source": [
    "El servicio de venta de autos usados Rusty Bargain está desarrollando una aplicación para atraer nuevos clientes. Gracias a esa app, puedes averiguar rápidamente el valor de mercado de tu coche. Tienes acceso al historial: especificaciones técnicas, versiones de equipamiento y precios. Tienes que crear un modelo que determine el valor de mercado.\n",
    "A Rusty Bargain le interesa:\n",
    "- La calidad de la predicción.\n",
    "- La velocidad de la predicción.\n",
    "- El tiempo requerido para el entrenamiento"
   ]
  },
  {
   "cell_type": "markdown",
   "metadata": {},
   "source": [
    "**Tabla de contenido:**\n",
    "\n",
    "1. Inicialización\n",
    "2. Carga de datos\n",
    "3. Análisis de datos\n",
    "4. Preparación de datos\n",
    "5. Entrenamiento del modelo\n",
    "6. Análisis de modelos\n",
    "7. Conclusiones"
   ]
  },
  {
   "cell_type": "markdown",
   "metadata": {},
   "source": [
    "**Descripción del dataset del proyecto:**\n",
    "\n",
    "**Features:**\n",
    "- `DateCrawled` — fecha en la que se descargó el perfil de la base de datos\n",
    "- `VehicleType` — tipo de carrocería del vehículo\n",
    "- `RegistrationYear` — año de matriculación del vehículo\n",
    "- `Gearbox` — tipo de caja de cambios\n",
    "- `Power` — potencia (CV)\n",
    "- `Model` — modelo del vehículo\n",
    "- `Mileage` — kilometraje (medido en km de acuerdo con las especificidades regionales del conjunto de datos)\n",
    "- `RegistrationMonth` — mes de matriculación del vehículo\n",
    "- `FuelType` — tipo de combustible\n",
    "- `Brand` — marca del vehículo\n",
    "- `NotRepaired` — vehículo con o sin reparación\n",
    "- `DateCreated` — fecha de creación del perfil\n",
    "- `NumberOfPictures` — número de fotos del vehículo\n",
    "- `PostalCode` — código postal del propietario del perfil (usuario)\n",
    "- `LastSeen` — fecha de la última vez que el usuario estuvo activo\n",
    "\n",
    "**Target:**\n",
    "\n",
    "- `price`— precio (en euros)"
   ]
  },
  {
   "cell_type": "markdown",
   "metadata": {},
   "source": [
    "## Inicialización"
   ]
  },
  {
   "cell_type": "code",
   "execution_count": 1,
   "metadata": {},
   "outputs": [],
   "source": [
    "# Importar librerías\n",
    "import pandas as pd\n",
    "import re\n",
    "import numpy as np\n",
    "import matplotlib.pyplot as plt\n",
    "import seaborn as sns\n",
    "from scipy.stats import mode\n",
    "\n",
    "from sklearn.linear_model import LogisticRegression\n",
    "\n",
    "import plotly.express as px\n",
    "\n",
    "from sklearn.preprocessing import StandardScaler\n",
    "from sklearn.model_selection import train_test_split\n",
    "from sklearn.linear_model import LinearRegression\n",
    "from sklearn.metrics import mean_squared_error\n",
    "import time\n",
    "\n",
    "from sklearn.model_selection import GridSearchCV\n",
    "from sklearn.preprocessing import OrdinalEncoder\n",
    "from sklearn.tree import DecisionTreeRegressor\n",
    "from sklearn.ensemble import RandomForestRegressor\n",
    "\n",
    "from catboost import CatBoostRegressor\n",
    "from lightgbm import LGBMRegressor\n",
    "from xgboost import XGBRegressor"
   ]
  },
  {
   "cell_type": "markdown",
   "metadata": {},
   "source": [
    "## Carga de datos"
   ]
  },
  {
   "cell_type": "code",
   "execution_count": 2,
   "metadata": {},
   "outputs": [],
   "source": [
    "# Cargar data\n",
    "df = pd.read_csv(\"/datasets/car_data.csv\")"
   ]
  },
  {
   "cell_type": "code",
   "execution_count": 3,
   "metadata": {},
   "outputs": [
    {
     "data": {
      "text/html": [
       "<div>\n",
       "<style scoped>\n",
       "    .dataframe tbody tr th:only-of-type {\n",
       "        vertical-align: middle;\n",
       "    }\n",
       "\n",
       "    .dataframe tbody tr th {\n",
       "        vertical-align: top;\n",
       "    }\n",
       "\n",
       "    .dataframe thead th {\n",
       "        text-align: right;\n",
       "    }\n",
       "</style>\n",
       "<table border=\"1\" class=\"dataframe\">\n",
       "  <thead>\n",
       "    <tr style=\"text-align: right;\">\n",
       "      <th></th>\n",
       "      <th>date_crawled</th>\n",
       "      <th>price</th>\n",
       "      <th>vehicle_type</th>\n",
       "      <th>registration_year</th>\n",
       "      <th>gearbox</th>\n",
       "      <th>power</th>\n",
       "      <th>model</th>\n",
       "      <th>mileage</th>\n",
       "      <th>registration_month</th>\n",
       "      <th>fuel_type</th>\n",
       "      <th>brand</th>\n",
       "      <th>not_repaired</th>\n",
       "      <th>date_created</th>\n",
       "      <th>number_of_pictures</th>\n",
       "      <th>postal_code</th>\n",
       "      <th>last_seen</th>\n",
       "    </tr>\n",
       "  </thead>\n",
       "  <tbody>\n",
       "    <tr>\n",
       "      <th>0</th>\n",
       "      <td>24/03/2016 11:52</td>\n",
       "      <td>480</td>\n",
       "      <td>NaN</td>\n",
       "      <td>1993</td>\n",
       "      <td>manual</td>\n",
       "      <td>0</td>\n",
       "      <td>golf</td>\n",
       "      <td>150000</td>\n",
       "      <td>0</td>\n",
       "      <td>petrol</td>\n",
       "      <td>volkswagen</td>\n",
       "      <td>NaN</td>\n",
       "      <td>24/03/2016 00:00</td>\n",
       "      <td>0</td>\n",
       "      <td>70435</td>\n",
       "      <td>07/04/2016 03:16</td>\n",
       "    </tr>\n",
       "    <tr>\n",
       "      <th>1</th>\n",
       "      <td>24/03/2016 10:58</td>\n",
       "      <td>18300</td>\n",
       "      <td>coupe</td>\n",
       "      <td>2011</td>\n",
       "      <td>manual</td>\n",
       "      <td>190</td>\n",
       "      <td>NaN</td>\n",
       "      <td>125000</td>\n",
       "      <td>5</td>\n",
       "      <td>gasoline</td>\n",
       "      <td>audi</td>\n",
       "      <td>yes</td>\n",
       "      <td>24/03/2016 00:00</td>\n",
       "      <td>0</td>\n",
       "      <td>66954</td>\n",
       "      <td>07/04/2016 01:46</td>\n",
       "    </tr>\n",
       "    <tr>\n",
       "      <th>2</th>\n",
       "      <td>14/03/2016 12:52</td>\n",
       "      <td>9800</td>\n",
       "      <td>suv</td>\n",
       "      <td>2004</td>\n",
       "      <td>auto</td>\n",
       "      <td>163</td>\n",
       "      <td>grand</td>\n",
       "      <td>125000</td>\n",
       "      <td>8</td>\n",
       "      <td>gasoline</td>\n",
       "      <td>jeep</td>\n",
       "      <td>NaN</td>\n",
       "      <td>14/03/2016 00:00</td>\n",
       "      <td>0</td>\n",
       "      <td>90480</td>\n",
       "      <td>05/04/2016 12:47</td>\n",
       "    </tr>\n",
       "    <tr>\n",
       "      <th>3</th>\n",
       "      <td>17/03/2016 16:54</td>\n",
       "      <td>1500</td>\n",
       "      <td>small</td>\n",
       "      <td>2001</td>\n",
       "      <td>manual</td>\n",
       "      <td>75</td>\n",
       "      <td>golf</td>\n",
       "      <td>150000</td>\n",
       "      <td>6</td>\n",
       "      <td>petrol</td>\n",
       "      <td>volkswagen</td>\n",
       "      <td>no</td>\n",
       "      <td>17/03/2016 00:00</td>\n",
       "      <td>0</td>\n",
       "      <td>91074</td>\n",
       "      <td>17/03/2016 17:40</td>\n",
       "    </tr>\n",
       "    <tr>\n",
       "      <th>4</th>\n",
       "      <td>31/03/2016 17:25</td>\n",
       "      <td>3600</td>\n",
       "      <td>small</td>\n",
       "      <td>2008</td>\n",
       "      <td>manual</td>\n",
       "      <td>69</td>\n",
       "      <td>fabia</td>\n",
       "      <td>90000</td>\n",
       "      <td>7</td>\n",
       "      <td>gasoline</td>\n",
       "      <td>skoda</td>\n",
       "      <td>no</td>\n",
       "      <td>31/03/2016 00:00</td>\n",
       "      <td>0</td>\n",
       "      <td>60437</td>\n",
       "      <td>06/04/2016 10:17</td>\n",
       "    </tr>\n",
       "  </tbody>\n",
       "</table>\n",
       "</div>"
      ],
      "text/plain": [
       "       date_crawled  price vehicle_type  registration_year gearbox  power  \\\n",
       "0  24/03/2016 11:52    480          NaN               1993  manual      0   \n",
       "1  24/03/2016 10:58  18300        coupe               2011  manual    190   \n",
       "2  14/03/2016 12:52   9800          suv               2004    auto    163   \n",
       "3  17/03/2016 16:54   1500        small               2001  manual     75   \n",
       "4  31/03/2016 17:25   3600        small               2008  manual     69   \n",
       "\n",
       "   model  mileage  registration_month fuel_type       brand not_repaired  \\\n",
       "0   golf   150000                   0    petrol  volkswagen          NaN   \n",
       "1    NaN   125000                   5  gasoline        audi          yes   \n",
       "2  grand   125000                   8  gasoline        jeep          NaN   \n",
       "3   golf   150000                   6    petrol  volkswagen           no   \n",
       "4  fabia    90000                   7  gasoline       skoda           no   \n",
       "\n",
       "       date_created  number_of_pictures  postal_code         last_seen  \n",
       "0  24/03/2016 00:00                   0        70435  07/04/2016 03:16  \n",
       "1  24/03/2016 00:00                   0        66954  07/04/2016 01:46  \n",
       "2  14/03/2016 00:00                   0        90480  05/04/2016 12:47  \n",
       "3  17/03/2016 00:00                   0        91074  17/03/2016 17:40  \n",
       "4  31/03/2016 00:00                   0        60437  06/04/2016 10:17  "
      ]
     },
     "execution_count": 3,
     "metadata": {},
     "output_type": "execute_result"
    }
   ],
   "source": [
    "# Crear función para cambiar nombres de columnas\n",
    "def to_snake_case(name):\n",
    "    name = name.replace(' ', '_')\n",
    "    s1 = re.sub('(.)([A-Z][a-z]+)', r'\\1_\\2', name)\n",
    "    return re.sub('([a-z0-9])([A-Z])', r'\\1_\\2', s1).lower()\n",
    "\n",
    "# Renombrar columnas usando la función to_snake_case\n",
    "df.columns = [to_snake_case(col) for col in df.columns]\n",
    "df.head()"
   ]
  },
  {
   "cell_type": "markdown",
   "metadata": {},
   "source": [
    "## Análisis de datos"
   ]
  },
  {
   "cell_type": "code",
   "execution_count": 4,
   "metadata": {},
   "outputs": [
    {
     "data": {
      "text/html": [
       "<div>\n",
       "<style scoped>\n",
       "    .dataframe tbody tr th:only-of-type {\n",
       "        vertical-align: middle;\n",
       "    }\n",
       "\n",
       "    .dataframe tbody tr th {\n",
       "        vertical-align: top;\n",
       "    }\n",
       "\n",
       "    .dataframe thead th {\n",
       "        text-align: right;\n",
       "    }\n",
       "</style>\n",
       "<table border=\"1\" class=\"dataframe\">\n",
       "  <thead>\n",
       "    <tr style=\"text-align: right;\">\n",
       "      <th></th>\n",
       "      <th>date_crawled</th>\n",
       "      <th>price</th>\n",
       "      <th>vehicle_type</th>\n",
       "      <th>registration_year</th>\n",
       "      <th>gearbox</th>\n",
       "      <th>power</th>\n",
       "      <th>model</th>\n",
       "      <th>mileage</th>\n",
       "      <th>registration_month</th>\n",
       "      <th>fuel_type</th>\n",
       "      <th>brand</th>\n",
       "      <th>not_repaired</th>\n",
       "      <th>date_created</th>\n",
       "      <th>number_of_pictures</th>\n",
       "      <th>postal_code</th>\n",
       "      <th>last_seen</th>\n",
       "    </tr>\n",
       "  </thead>\n",
       "  <tbody>\n",
       "    <tr>\n",
       "      <th>348416</th>\n",
       "      <td>09/03/2016 15:43</td>\n",
       "      <td>10800</td>\n",
       "      <td>sedan</td>\n",
       "      <td>2008</td>\n",
       "      <td>manual</td>\n",
       "      <td>136</td>\n",
       "      <td>c_klasse</td>\n",
       "      <td>150000</td>\n",
       "      <td>4</td>\n",
       "      <td>gasoline</td>\n",
       "      <td>mercedes_benz</td>\n",
       "      <td>no</td>\n",
       "      <td>09/03/2016 00:00</td>\n",
       "      <td>0</td>\n",
       "      <td>32339</td>\n",
       "      <td>06/04/2016 23:16</td>\n",
       "    </tr>\n",
       "    <tr>\n",
       "      <th>130696</th>\n",
       "      <td>21/03/2016 08:58</td>\n",
       "      <td>1600</td>\n",
       "      <td>coupe</td>\n",
       "      <td>2001</td>\n",
       "      <td>auto</td>\n",
       "      <td>129</td>\n",
       "      <td>c_klasse</td>\n",
       "      <td>150000</td>\n",
       "      <td>11</td>\n",
       "      <td>petrol</td>\n",
       "      <td>mercedes_benz</td>\n",
       "      <td>no</td>\n",
       "      <td>21/03/2016 00:00</td>\n",
       "      <td>0</td>\n",
       "      <td>45130</td>\n",
       "      <td>22/03/2016 13:48</td>\n",
       "    </tr>\n",
       "    <tr>\n",
       "      <th>152424</th>\n",
       "      <td>30/03/2016 11:53</td>\n",
       "      <td>3900</td>\n",
       "      <td>sedan</td>\n",
       "      <td>2003</td>\n",
       "      <td>manual</td>\n",
       "      <td>163</td>\n",
       "      <td>a4</td>\n",
       "      <td>150000</td>\n",
       "      <td>1</td>\n",
       "      <td>petrol</td>\n",
       "      <td>audi</td>\n",
       "      <td>no</td>\n",
       "      <td>30/03/2016 00:00</td>\n",
       "      <td>0</td>\n",
       "      <td>44534</td>\n",
       "      <td>03/04/2016 01:21</td>\n",
       "    </tr>\n",
       "    <tr>\n",
       "      <th>65614</th>\n",
       "      <td>01/04/2016 15:58</td>\n",
       "      <td>950</td>\n",
       "      <td>small</td>\n",
       "      <td>1998</td>\n",
       "      <td>manual</td>\n",
       "      <td>50</td>\n",
       "      <td>arosa</td>\n",
       "      <td>150000</td>\n",
       "      <td>10</td>\n",
       "      <td>petrol</td>\n",
       "      <td>seat</td>\n",
       "      <td>no</td>\n",
       "      <td>01/04/2016 00:00</td>\n",
       "      <td>0</td>\n",
       "      <td>27383</td>\n",
       "      <td>05/04/2016 11:44</td>\n",
       "    </tr>\n",
       "    <tr>\n",
       "      <th>270549</th>\n",
       "      <td>16/03/2016 15:48</td>\n",
       "      <td>3500</td>\n",
       "      <td>bus</td>\n",
       "      <td>2007</td>\n",
       "      <td>manual</td>\n",
       "      <td>94</td>\n",
       "      <td>zafira</td>\n",
       "      <td>150000</td>\n",
       "      <td>9</td>\n",
       "      <td>cng</td>\n",
       "      <td>opel</td>\n",
       "      <td>no</td>\n",
       "      <td>16/03/2016 00:00</td>\n",
       "      <td>0</td>\n",
       "      <td>14059</td>\n",
       "      <td>06/04/2016 17:47</td>\n",
       "    </tr>\n",
       "    <tr>\n",
       "      <th>91008</th>\n",
       "      <td>10/03/2016 23:55</td>\n",
       "      <td>4150</td>\n",
       "      <td>sedan</td>\n",
       "      <td>2000</td>\n",
       "      <td>auto</td>\n",
       "      <td>193</td>\n",
       "      <td>5er</td>\n",
       "      <td>150000</td>\n",
       "      <td>11</td>\n",
       "      <td>gasoline</td>\n",
       "      <td>bmw</td>\n",
       "      <td>no</td>\n",
       "      <td>10/03/2016 00:00</td>\n",
       "      <td>0</td>\n",
       "      <td>45897</td>\n",
       "      <td>06/04/2016 04:44</td>\n",
       "    </tr>\n",
       "    <tr>\n",
       "      <th>298742</th>\n",
       "      <td>19/03/2016 13:38</td>\n",
       "      <td>3250</td>\n",
       "      <td>bus</td>\n",
       "      <td>1994</td>\n",
       "      <td>manual</td>\n",
       "      <td>77</td>\n",
       "      <td>transporter</td>\n",
       "      <td>150000</td>\n",
       "      <td>3</td>\n",
       "      <td>gasoline</td>\n",
       "      <td>volkswagen</td>\n",
       "      <td>no</td>\n",
       "      <td>19/03/2016 00:00</td>\n",
       "      <td>0</td>\n",
       "      <td>85764</td>\n",
       "      <td>21/03/2016 17:50</td>\n",
       "    </tr>\n",
       "    <tr>\n",
       "      <th>180169</th>\n",
       "      <td>04/04/2016 16:40</td>\n",
       "      <td>1000</td>\n",
       "      <td>wagon</td>\n",
       "      <td>1995</td>\n",
       "      <td>manual</td>\n",
       "      <td>136</td>\n",
       "      <td>e_klasse</td>\n",
       "      <td>150000</td>\n",
       "      <td>5</td>\n",
       "      <td>petrol</td>\n",
       "      <td>mercedes_benz</td>\n",
       "      <td>no</td>\n",
       "      <td>04/04/2016 00:00</td>\n",
       "      <td>0</td>\n",
       "      <td>4349</td>\n",
       "      <td>06/04/2016 18:16</td>\n",
       "    </tr>\n",
       "    <tr>\n",
       "      <th>284000</th>\n",
       "      <td>17/03/2016 09:48</td>\n",
       "      <td>700</td>\n",
       "      <td>NaN</td>\n",
       "      <td>2005</td>\n",
       "      <td>manual</td>\n",
       "      <td>75</td>\n",
       "      <td>ibiza</td>\n",
       "      <td>150000</td>\n",
       "      <td>2</td>\n",
       "      <td>NaN</td>\n",
       "      <td>seat</td>\n",
       "      <td>yes</td>\n",
       "      <td>17/03/2016 00:00</td>\n",
       "      <td>0</td>\n",
       "      <td>84367</td>\n",
       "      <td>21/03/2016 12:47</td>\n",
       "    </tr>\n",
       "    <tr>\n",
       "      <th>276392</th>\n",
       "      <td>27/03/2016 11:36</td>\n",
       "      <td>5100</td>\n",
       "      <td>wagon</td>\n",
       "      <td>2002</td>\n",
       "      <td>manual</td>\n",
       "      <td>229</td>\n",
       "      <td>a4</td>\n",
       "      <td>150000</td>\n",
       "      <td>2</td>\n",
       "      <td>petrol</td>\n",
       "      <td>audi</td>\n",
       "      <td>no</td>\n",
       "      <td>27/03/2016 00:00</td>\n",
       "      <td>0</td>\n",
       "      <td>51469</td>\n",
       "      <td>27/03/2016 11:36</td>\n",
       "    </tr>\n",
       "  </tbody>\n",
       "</table>\n",
       "</div>"
      ],
      "text/plain": [
       "            date_crawled  price vehicle_type  registration_year gearbox  \\\n",
       "348416  09/03/2016 15:43  10800        sedan               2008  manual   \n",
       "130696  21/03/2016 08:58   1600        coupe               2001    auto   \n",
       "152424  30/03/2016 11:53   3900        sedan               2003  manual   \n",
       "65614   01/04/2016 15:58    950        small               1998  manual   \n",
       "270549  16/03/2016 15:48   3500          bus               2007  manual   \n",
       "91008   10/03/2016 23:55   4150        sedan               2000    auto   \n",
       "298742  19/03/2016 13:38   3250          bus               1994  manual   \n",
       "180169  04/04/2016 16:40   1000        wagon               1995  manual   \n",
       "284000  17/03/2016 09:48    700          NaN               2005  manual   \n",
       "276392  27/03/2016 11:36   5100        wagon               2002  manual   \n",
       "\n",
       "        power        model  mileage  registration_month fuel_type  \\\n",
       "348416    136     c_klasse   150000                   4  gasoline   \n",
       "130696    129     c_klasse   150000                  11    petrol   \n",
       "152424    163           a4   150000                   1    petrol   \n",
       "65614      50        arosa   150000                  10    petrol   \n",
       "270549     94       zafira   150000                   9       cng   \n",
       "91008     193          5er   150000                  11  gasoline   \n",
       "298742     77  transporter   150000                   3  gasoline   \n",
       "180169    136     e_klasse   150000                   5    petrol   \n",
       "284000     75        ibiza   150000                   2       NaN   \n",
       "276392    229           a4   150000                   2    petrol   \n",
       "\n",
       "                brand not_repaired      date_created  number_of_pictures  \\\n",
       "348416  mercedes_benz           no  09/03/2016 00:00                   0   \n",
       "130696  mercedes_benz           no  21/03/2016 00:00                   0   \n",
       "152424           audi           no  30/03/2016 00:00                   0   \n",
       "65614            seat           no  01/04/2016 00:00                   0   \n",
       "270549           opel           no  16/03/2016 00:00                   0   \n",
       "91008             bmw           no  10/03/2016 00:00                   0   \n",
       "298742     volkswagen           no  19/03/2016 00:00                   0   \n",
       "180169  mercedes_benz           no  04/04/2016 00:00                   0   \n",
       "284000           seat          yes  17/03/2016 00:00                   0   \n",
       "276392           audi           no  27/03/2016 00:00                   0   \n",
       "\n",
       "        postal_code         last_seen  \n",
       "348416        32339  06/04/2016 23:16  \n",
       "130696        45130  22/03/2016 13:48  \n",
       "152424        44534  03/04/2016 01:21  \n",
       "65614         27383  05/04/2016 11:44  \n",
       "270549        14059  06/04/2016 17:47  \n",
       "91008         45897  06/04/2016 04:44  \n",
       "298742        85764  21/03/2016 17:50  \n",
       "180169         4349  06/04/2016 18:16  \n",
       "284000        84367  21/03/2016 12:47  \n",
       "276392        51469  27/03/2016 11:36  "
      ]
     },
     "execution_count": 4,
     "metadata": {},
     "output_type": "execute_result"
    }
   ],
   "source": [
    "# Ver sample de data\n",
    "df.sample(10)"
   ]
  },
  {
   "cell_type": "code",
   "execution_count": 5,
   "metadata": {},
   "outputs": [
    {
     "name": "stdout",
     "output_type": "stream",
     "text": [
      "<class 'pandas.core.frame.DataFrame'>\n",
      "RangeIndex: 354369 entries, 0 to 354368\n",
      "Data columns (total 16 columns):\n",
      " #   Column              Non-Null Count   Dtype \n",
      "---  ------              --------------   ----- \n",
      " 0   date_crawled        354369 non-null  object\n",
      " 1   price               354369 non-null  int64 \n",
      " 2   vehicle_type        316879 non-null  object\n",
      " 3   registration_year   354369 non-null  int64 \n",
      " 4   gearbox             334536 non-null  object\n",
      " 5   power               354369 non-null  int64 \n",
      " 6   model               334664 non-null  object\n",
      " 7   mileage             354369 non-null  int64 \n",
      " 8   registration_month  354369 non-null  int64 \n",
      " 9   fuel_type           321474 non-null  object\n",
      " 10  brand               354369 non-null  object\n",
      " 11  not_repaired        283215 non-null  object\n",
      " 12  date_created        354369 non-null  object\n",
      " 13  number_of_pictures  354369 non-null  int64 \n",
      " 14  postal_code         354369 non-null  int64 \n",
      " 15  last_seen           354369 non-null  object\n",
      "dtypes: int64(7), object(9)\n",
      "memory usage: 43.3+ MB\n"
     ]
    }
   ],
   "source": [
    "# Verificar tipos de columnas\n",
    "df.info()"
   ]
  },
  {
   "cell_type": "markdown",
   "metadata": {},
   "source": [
    "Los tipos de datos que hay algunas columnas que se registran con fechas, pero no están identíficadas correctamente, por lo cual se deberán cambiar más adelante. Asimismo, vemos columnas con resgistros nulos: vehicle_type, model, fuel_type y not_repaired."
   ]
  },
  {
   "cell_type": "code",
   "execution_count": 6,
   "metadata": {},
   "outputs": [
    {
     "data": {
      "text/html": [
       "<div>\n",
       "<style scoped>\n",
       "    .dataframe tbody tr th:only-of-type {\n",
       "        vertical-align: middle;\n",
       "    }\n",
       "\n",
       "    .dataframe tbody tr th {\n",
       "        vertical-align: top;\n",
       "    }\n",
       "\n",
       "    .dataframe thead th {\n",
       "        text-align: right;\n",
       "    }\n",
       "</style>\n",
       "<table border=\"1\" class=\"dataframe\">\n",
       "  <thead>\n",
       "    <tr style=\"text-align: right;\">\n",
       "      <th></th>\n",
       "      <th>price</th>\n",
       "      <th>registration_year</th>\n",
       "      <th>power</th>\n",
       "      <th>mileage</th>\n",
       "      <th>registration_month</th>\n",
       "      <th>number_of_pictures</th>\n",
       "      <th>postal_code</th>\n",
       "    </tr>\n",
       "  </thead>\n",
       "  <tbody>\n",
       "    <tr>\n",
       "      <th>count</th>\n",
       "      <td>354369.000000</td>\n",
       "      <td>354369.000000</td>\n",
       "      <td>354369.000000</td>\n",
       "      <td>354369.000000</td>\n",
       "      <td>354369.000000</td>\n",
       "      <td>354369.0</td>\n",
       "      <td>354369.000000</td>\n",
       "    </tr>\n",
       "    <tr>\n",
       "      <th>mean</th>\n",
       "      <td>4416.656776</td>\n",
       "      <td>2004.234448</td>\n",
       "      <td>110.094337</td>\n",
       "      <td>128211.172535</td>\n",
       "      <td>5.714645</td>\n",
       "      <td>0.0</td>\n",
       "      <td>50508.689087</td>\n",
       "    </tr>\n",
       "    <tr>\n",
       "      <th>std</th>\n",
       "      <td>4514.158514</td>\n",
       "      <td>90.227958</td>\n",
       "      <td>189.850405</td>\n",
       "      <td>37905.341530</td>\n",
       "      <td>3.726421</td>\n",
       "      <td>0.0</td>\n",
       "      <td>25783.096248</td>\n",
       "    </tr>\n",
       "    <tr>\n",
       "      <th>min</th>\n",
       "      <td>0.000000</td>\n",
       "      <td>1000.000000</td>\n",
       "      <td>0.000000</td>\n",
       "      <td>5000.000000</td>\n",
       "      <td>0.000000</td>\n",
       "      <td>0.0</td>\n",
       "      <td>1067.000000</td>\n",
       "    </tr>\n",
       "    <tr>\n",
       "      <th>25%</th>\n",
       "      <td>1050.000000</td>\n",
       "      <td>1999.000000</td>\n",
       "      <td>69.000000</td>\n",
       "      <td>125000.000000</td>\n",
       "      <td>3.000000</td>\n",
       "      <td>0.0</td>\n",
       "      <td>30165.000000</td>\n",
       "    </tr>\n",
       "    <tr>\n",
       "      <th>50%</th>\n",
       "      <td>2700.000000</td>\n",
       "      <td>2003.000000</td>\n",
       "      <td>105.000000</td>\n",
       "      <td>150000.000000</td>\n",
       "      <td>6.000000</td>\n",
       "      <td>0.0</td>\n",
       "      <td>49413.000000</td>\n",
       "    </tr>\n",
       "    <tr>\n",
       "      <th>75%</th>\n",
       "      <td>6400.000000</td>\n",
       "      <td>2008.000000</td>\n",
       "      <td>143.000000</td>\n",
       "      <td>150000.000000</td>\n",
       "      <td>9.000000</td>\n",
       "      <td>0.0</td>\n",
       "      <td>71083.000000</td>\n",
       "    </tr>\n",
       "    <tr>\n",
       "      <th>max</th>\n",
       "      <td>20000.000000</td>\n",
       "      <td>9999.000000</td>\n",
       "      <td>20000.000000</td>\n",
       "      <td>150000.000000</td>\n",
       "      <td>12.000000</td>\n",
       "      <td>0.0</td>\n",
       "      <td>99998.000000</td>\n",
       "    </tr>\n",
       "  </tbody>\n",
       "</table>\n",
       "</div>"
      ],
      "text/plain": [
       "               price  registration_year          power        mileage  \\\n",
       "count  354369.000000      354369.000000  354369.000000  354369.000000   \n",
       "mean     4416.656776        2004.234448     110.094337  128211.172535   \n",
       "std      4514.158514          90.227958     189.850405   37905.341530   \n",
       "min         0.000000        1000.000000       0.000000    5000.000000   \n",
       "25%      1050.000000        1999.000000      69.000000  125000.000000   \n",
       "50%      2700.000000        2003.000000     105.000000  150000.000000   \n",
       "75%      6400.000000        2008.000000     143.000000  150000.000000   \n",
       "max     20000.000000        9999.000000   20000.000000  150000.000000   \n",
       "\n",
       "       registration_month  number_of_pictures    postal_code  \n",
       "count       354369.000000            354369.0  354369.000000  \n",
       "mean             5.714645                 0.0   50508.689087  \n",
       "std              3.726421                 0.0   25783.096248  \n",
       "min              0.000000                 0.0    1067.000000  \n",
       "25%              3.000000                 0.0   30165.000000  \n",
       "50%              6.000000                 0.0   49413.000000  \n",
       "75%              9.000000                 0.0   71083.000000  \n",
       "max             12.000000                 0.0   99998.000000  "
      ]
     },
     "execution_count": 6,
     "metadata": {},
     "output_type": "execute_result"
    }
   ],
   "source": [
    "# Verificar estadísticas descriptivas\n",
    "df.describe()"
   ]
  },
  {
   "cell_type": "markdown",
   "metadata": {},
   "source": [
    "Al parecer no hay ningún registro que contenga fotos, todos los registros son 0. Por otro lado, el máximo años de registro es 9999 y mínimo 1000, hay precios de autos iguales a 0 e igualmente ocurre con los datos del poder del mismo. Estos casos los revisaremos más detalle más adelante."
   ]
  },
  {
   "cell_type": "markdown",
   "metadata": {},
   "source": [
    "Ahora realizaremos el tipo de cambio a las columnas que resgistran fecha al tipo correcto."
   ]
  },
  {
   "cell_type": "code",
   "execution_count": 7,
   "metadata": {},
   "outputs": [
    {
     "name": "stdout",
     "output_type": "stream",
     "text": [
      "<class 'pandas.core.frame.DataFrame'>\n",
      "RangeIndex: 354369 entries, 0 to 354368\n",
      "Data columns (total 16 columns):\n",
      " #   Column              Non-Null Count   Dtype         \n",
      "---  ------              --------------   -----         \n",
      " 0   date_crawled        354369 non-null  datetime64[ns]\n",
      " 1   price               354369 non-null  int64         \n",
      " 2   vehicle_type        316879 non-null  object        \n",
      " 3   registration_year   354369 non-null  int64         \n",
      " 4   gearbox             334536 non-null  object        \n",
      " 5   power               354369 non-null  int64         \n",
      " 6   model               334664 non-null  object        \n",
      " 7   mileage             354369 non-null  int64         \n",
      " 8   registration_month  354369 non-null  int64         \n",
      " 9   fuel_type           321474 non-null  object        \n",
      " 10  brand               354369 non-null  object        \n",
      " 11  not_repaired        283215 non-null  object        \n",
      " 12  date_created        354369 non-null  datetime64[ns]\n",
      " 13  number_of_pictures  354369 non-null  int64         \n",
      " 14  postal_code         354369 non-null  int64         \n",
      " 15  last_seen           354369 non-null  datetime64[ns]\n",
      "dtypes: datetime64[ns](3), int64(7), object(6)\n",
      "memory usage: 43.3+ MB\n"
     ]
    }
   ],
   "source": [
    "# Cambiar columnas de fecha a tipo datetime %Y-%m-%d %H:%M:%S.%f\n",
    "df['date_crawled'] = pd.to_datetime(df['date_crawled'], format=\"%d/%m/%Y %H:%M\")\n",
    "df['date_created'] = pd.to_datetime(df['date_created'], format=\"%d/%m/%Y %H:%M\")\n",
    "df['last_seen'] = pd.to_datetime(df['last_seen'], format=\"%d/%m/%Y %H:%M\")\n",
    "\n",
    "df.info() "
   ]
  },
  {
   "cell_type": "code",
   "execution_count": 8,
   "metadata": {},
   "outputs": [
    {
     "data": {
      "text/html": [
       "<div>\n",
       "<style scoped>\n",
       "    .dataframe tbody tr th:only-of-type {\n",
       "        vertical-align: middle;\n",
       "    }\n",
       "\n",
       "    .dataframe tbody tr th {\n",
       "        vertical-align: top;\n",
       "    }\n",
       "\n",
       "    .dataframe thead th {\n",
       "        text-align: right;\n",
       "    }\n",
       "</style>\n",
       "<table border=\"1\" class=\"dataframe\">\n",
       "  <thead>\n",
       "    <tr style=\"text-align: right;\">\n",
       "      <th></th>\n",
       "      <th>date_crawled</th>\n",
       "      <th>price</th>\n",
       "      <th>vehicle_type</th>\n",
       "      <th>registration_year</th>\n",
       "      <th>gearbox</th>\n",
       "      <th>power</th>\n",
       "      <th>model</th>\n",
       "      <th>mileage</th>\n",
       "      <th>registration_month</th>\n",
       "      <th>fuel_type</th>\n",
       "      <th>brand</th>\n",
       "      <th>not_repaired</th>\n",
       "      <th>date_created</th>\n",
       "      <th>number_of_pictures</th>\n",
       "      <th>postal_code</th>\n",
       "      <th>last_seen</th>\n",
       "    </tr>\n",
       "  </thead>\n",
       "  <tbody>\n",
       "    <tr>\n",
       "      <th>102515</th>\n",
       "      <td>2016-03-26 19:38:00</td>\n",
       "      <td>12100</td>\n",
       "      <td>wagon</td>\n",
       "      <td>2011</td>\n",
       "      <td>manual</td>\n",
       "      <td>105</td>\n",
       "      <td>caddy</td>\n",
       "      <td>60000</td>\n",
       "      <td>7</td>\n",
       "      <td>petrol</td>\n",
       "      <td>volkswagen</td>\n",
       "      <td>no</td>\n",
       "      <td>2016-03-26</td>\n",
       "      <td>0</td>\n",
       "      <td>38471</td>\n",
       "      <td>2016-03-28 08:44:00</td>\n",
       "    </tr>\n",
       "  </tbody>\n",
       "</table>\n",
       "</div>"
      ],
      "text/plain": [
       "              date_crawled  price vehicle_type  registration_year gearbox  \\\n",
       "102515 2016-03-26 19:38:00  12100        wagon               2011  manual   \n",
       "\n",
       "        power  model  mileage  registration_month fuel_type       brand  \\\n",
       "102515    105  caddy    60000                   7    petrol  volkswagen   \n",
       "\n",
       "       not_repaired date_created  number_of_pictures  postal_code  \\\n",
       "102515           no   2016-03-26                   0        38471   \n",
       "\n",
       "                 last_seen  \n",
       "102515 2016-03-28 08:44:00  "
      ]
     },
     "execution_count": 8,
     "metadata": {},
     "output_type": "execute_result"
    }
   ],
   "source": [
    "# Verificar cambios\n",
    "df.sample(1)"
   ]
  },
  {
   "cell_type": "markdown",
   "metadata": {},
   "source": [
    "Ahora filtraremos la columnas de \"NumberOfPictures\" de nuestra data debido a que esta es cero para todos los registros"
   ]
  },
  {
   "cell_type": "code",
   "execution_count": 9,
   "metadata": {},
   "outputs": [
    {
     "data": {
      "text/html": [
       "<div>\n",
       "<style scoped>\n",
       "    .dataframe tbody tr th:only-of-type {\n",
       "        vertical-align: middle;\n",
       "    }\n",
       "\n",
       "    .dataframe tbody tr th {\n",
       "        vertical-align: top;\n",
       "    }\n",
       "\n",
       "    .dataframe thead th {\n",
       "        text-align: right;\n",
       "    }\n",
       "</style>\n",
       "<table border=\"1\" class=\"dataframe\">\n",
       "  <thead>\n",
       "    <tr style=\"text-align: right;\">\n",
       "      <th></th>\n",
       "      <th>date_crawled</th>\n",
       "      <th>price</th>\n",
       "      <th>vehicle_type</th>\n",
       "      <th>registration_year</th>\n",
       "      <th>gearbox</th>\n",
       "      <th>power</th>\n",
       "      <th>model</th>\n",
       "      <th>mileage</th>\n",
       "      <th>registration_month</th>\n",
       "      <th>fuel_type</th>\n",
       "      <th>brand</th>\n",
       "      <th>not_repaired</th>\n",
       "      <th>date_created</th>\n",
       "      <th>postal_code</th>\n",
       "      <th>last_seen</th>\n",
       "    </tr>\n",
       "  </thead>\n",
       "  <tbody>\n",
       "    <tr>\n",
       "      <th>351692</th>\n",
       "      <td>2016-03-06 14:44:00</td>\n",
       "      <td>600</td>\n",
       "      <td>small</td>\n",
       "      <td>1997</td>\n",
       "      <td>manual</td>\n",
       "      <td>0</td>\n",
       "      <td>polo</td>\n",
       "      <td>150000</td>\n",
       "      <td>7</td>\n",
       "      <td>petrol</td>\n",
       "      <td>volkswagen</td>\n",
       "      <td>NaN</td>\n",
       "      <td>2016-03-06</td>\n",
       "      <td>61381</td>\n",
       "      <td>2016-03-07 18:34:00</td>\n",
       "    </tr>\n",
       "  </tbody>\n",
       "</table>\n",
       "</div>"
      ],
      "text/plain": [
       "              date_crawled  price vehicle_type  registration_year gearbox  \\\n",
       "351692 2016-03-06 14:44:00    600        small               1997  manual   \n",
       "\n",
       "        power model  mileage  registration_month fuel_type       brand  \\\n",
       "351692      0  polo   150000                   7    petrol  volkswagen   \n",
       "\n",
       "       not_repaired date_created  postal_code           last_seen  \n",
       "351692          NaN   2016-03-06        61381 2016-03-07 18:34:00  "
      ]
     },
     "execution_count": 9,
     "metadata": {},
     "output_type": "execute_result"
    }
   ],
   "source": [
    "# Filtrar \"NumberOfPictures\" del dataset\n",
    "df = df.drop(\"number_of_pictures\", axis=1)\n",
    "\n",
    "# Comprobar cambios\n",
    "df.sample(1)"
   ]
  },
  {
   "cell_type": "markdown",
   "metadata": {},
   "source": [
    "Por último, analizaremos si contamos con registros duplicados."
   ]
  },
  {
   "cell_type": "code",
   "execution_count": 10,
   "metadata": {},
   "outputs": [
    {
     "data": {
      "text/plain": [
       "262"
      ]
     },
     "execution_count": 10,
     "metadata": {},
     "output_type": "execute_result"
    }
   ],
   "source": [
    "# Ver registros duplicados\n",
    "df.duplicated().sum()"
   ]
  },
  {
   "cell_type": "markdown",
   "metadata": {},
   "source": [
    "Tenemos 262 duplicados, previo a eliminarlos primero trataremos los datos ausentes y luego eliminaremos estos."
   ]
  },
  {
   "cell_type": "markdown",
   "metadata": {},
   "source": [
    "Ya hemos realizado los cambios necesarios en primera instancia, pero hay datos nulos en columnas categóricas y datos atípicos en columnas numerícas. Examinaremos más a detalle estos datos."
   ]
  },
  {
   "cell_type": "markdown",
   "metadata": {},
   "source": [
    "Ahora veremos como se están ditribuyendo nuestros datos. Separaremos nuestro análisis en datos continuos o numéricos y datos categóricos para esto. En estos grupos no se consideran las columnas de tipo fecha."
   ]
  },
  {
   "cell_type": "code",
   "execution_count": 11,
   "metadata": {
    "scrolled": true
   },
   "outputs": [],
   "source": [
    "# Determinar las columnas de tipo integer y float\n",
    "numeric_columns = ['price', 'registration_year', 'power', 'mileage', 'registration_month', 'postal_code']\n",
    "\n",
    "categorical_columns = ['vehicle_type', 'gearbox', 'model', 'fuel_type', 'brand', 'not_repaired']"
   ]
  },
  {
   "cell_type": "markdown",
   "metadata": {},
   "source": [
    "### Análisis variables numéricas"
   ]
  },
  {
   "cell_type": "code",
   "execution_count": 12,
   "metadata": {},
   "outputs": [
    {
     "data": {
      "image/png": "[encoded data removed]",
      "text/plain": [
       "<Figure size 1080x1080 with 6 Axes>"
      ]
     },
     "metadata": {},
     "output_type": "display_data"
    }
   ],
   "source": [
    "# Graficar histogramas por columna\n",
    "sns.set(style=\"ticks\")\n",
    "\n",
    "num_vars = len(numeric_columns)\n",
    "num_rows = num_vars // 2\n",
    "num_rows += num_vars % 2 \n",
    "\n",
    "# Crear sub gráficos\n",
    "fig, axes = plt.subplots(num_rows, 2, figsize=(15, num_rows*5)) \n",
    "\n",
    "# Aplanar el arreglo de ejes para que podamos iterar sobre él fácilmente\n",
    "axes = axes.flatten()\n",
    "\n",
    "# Iterar por cada columna numérica y crear histograma\n",
    "for i, col in enumerate(numeric_columns):\n",
    "    axes[i].hist(df[col], bins=16, color='slategray', edgecolor=\"black\", linewidth=0.8)\n",
    "    \n",
    "    # Dibujar líneas para media y mediana\n",
    "    mean_val = df[col].mean()\n",
    "    median_val = df[col].median()\n",
    "    mean_line = axes[i].axvline(mean_val, color='tomato', linestyle='dashed', linewidth=2)\n",
    "    median_line = axes[i].axvline(median_val, color='dodgerblue', linestyle='dashed', linewidth=2)\n",
    "    \n",
    "    # Anadir leyenda\n",
    "    axes[i].legend([mean_line, median_line], ['mean', 'median'])\n",
    "    axes[i].set_title(f'Histogram of {col}', fontsize=16)\n",
    "    \n",
    "# Remover sub gráficos no usados\n",
    "if len(numeric_columns) % 2:\n",
    "    for j in range(i+1, num_rows*2):\n",
    "        fig.delaxes(axes[j])\n",
    "    \n",
    "plt.tight_layout()\n",
    "plt.show()"
   ]
  },
  {
   "cell_type": "code",
   "execution_count": 13,
   "metadata": {
    "scrolled": false
   },
   "outputs": [
    {
     "data": {
      "image/png": "[encoded data removed]",
      "text/plain": [
       "<Figure size 1080x1080 with 6 Axes>"
      ]
     },
     "metadata": {},
     "output_type": "display_data"
    }
   ],
   "source": [
    "# Graficar boxplots por columna\n",
    "sns.set(style=\"ticks\")\n",
    "\n",
    "num_vars = len(numeric_columns)\n",
    "num_rows = num_vars // 2  # assuming we want 2 plots per row\n",
    "num_rows += num_vars % 2  # add an extra row if there are leftovers\n",
    "\n",
    "# Crear sub gráficos\n",
    "fig, axes = plt.subplots(num_rows, 2, figsize=(15, num_rows*5))\n",
    "\n",
    "# Aplanar el arreglo de ejes para que podamos iterar sobre él fácilmente\n",
    "axes = axes.flatten()\n",
    "\n",
    "# Iterar por cada columna numérica y crear histograma\n",
    "for i, col in enumerate(numeric_columns):\n",
    "    sns.boxplot(x=df[col], color='slategray', ax=axes[i])\n",
    "    axes[i].set_title(f'Boxplot of {col}', fontsize=20, weight='bold')\n",
    "    axes[i].set_xlabel(col, fontsize=16)\n",
    "    \n",
    "    # Dibujar líneas para media y mediana\n",
    "    mean_val = df[col].mean()\n",
    "    median_val = df[col].median()\n",
    "    mean_line = axes[i].axvline(mean_val, color='tomato', linestyle='dashed', linewidth=2)\n",
    "    median_line = axes[i].axvline(median_val, color='dodgerblue', linestyle='dashed', linewidth=2)\n",
    "\n",
    "    # Anadir leyenda\n",
    "    axes[i].legend([mean_line, median_line], ['mean', 'median'])\n",
    "    axes[i].set_title(f'Boxplot of {col}', fontsize=16)\n",
    "    \n",
    "plt.tight_layout()\n",
    "plt.show()"
   ]
  },
  {
   "cell_type": "markdown",
   "metadata": {},
   "source": [
    "Analizando nuestros histogramas, podemos extraer las siguientes primeras conlusiones importantes:\n",
    "\n",
    "- **Price**: muestra un sesgo hacia la derecha, con mucho valores cercanos a 0 o cero. Algo que deberá revisarse más adelante.\n",
    "\n",
    "\n",
    "- **Registration Year**: el registro de años de los vehículos se ecuentra muy concentrado.. Como se muestra la mediana y media de estos es casi igual. Por otro lado, como vimos anteriormente, hay valores que son menos a la creación del auto (1836), lo cual no haría mucho sentido.\n",
    "\n",
    "\n",
    "- **Power**: la media de poder de los vehíuclos registra alrededor de los 100 cvs. Por otro lado, hay valores mayores al auto con mayor cv registrado (Bugatti Bolide - 1,825 CV), estos casos serán tener que revisados y tratados.\n",
    "\n",
    "\n",
    "- **Milieage**: muestra un sesgo hacia la izquierda, median mayor a la media (128,211.17). Según el histograma no cuenta con valores atípicos que debemos analizar a más detalle.\n",
    "\n",
    "\n",
    "- **Registration Month**: se registran valores iguales a 0, lo cual puede provenir de usarios que no brindaron dicha información. Esos datos deben tratarse.\n",
    "\n",
    "\n",
    "Por último ,\"Postal Code\" no muestran valores atípicos a primera vista."
   ]
  },
  {
   "cell_type": "code",
   "execution_count": 14,
   "metadata": {},
   "outputs": [
    {
     "data": {
      "image/png": "[encoded data removed]",
      "text/plain": [
       "<Figure size 720x432 with 1 Axes>"
      ]
     },
     "metadata": {},
     "output_type": "display_data"
    },
    {
     "data": {
      "image/png": "[encoded data removed]",
      "text/plain": [
       "<Figure size 720x432 with 1 Axes>"
      ]
     },
     "metadata": {},
     "output_type": "display_data"
    },
    {
     "data": {
      "image/png": "[encoded data removed]",
      "text/plain": [
       "<Figure size 720x432 with 1 Axes>"
      ]
     },
     "metadata": {},
     "output_type": "display_data"
    }
   ],
   "source": [
    "# Graficar gráficso de densidad\n",
    "sns.set(style=\"whitegrid\")\n",
    "\n",
    "# Iterar por columnas\n",
    "columns = ['price', 'registration_year', 'power']\n",
    "for column in columns:\n",
    "    plt.figure(figsize=(10, 6))\n",
    "    sns.kdeplot(df[column], color=\"steelblue\", lw=3, label=column)\n",
    "    \n",
    "    # Gráficar línea vertical de la media de la distribución\n",
    "    plt.axvline(df[column].mean(), color='red', linestyle='dashed', linewidth=2, label='mean')\n",
    "    \n",
    "    # Incluir leyenda\n",
    "    plt.legend(loc='upper right', fontsize=12)\n",
    "    \n",
    "    # Cambiar tamaño de etiquetas\n",
    "    plt.xlabel(column, fontsize=14)\n",
    "    plt.ylabel('Density', fontsize=14)\n",
    "    plt.title(f'Density Plot of {column}', fontsize=18)\n",
    "    plt.show()"
   ]
  },
  {
   "cell_type": "markdown",
   "metadata": {},
   "source": [
    "Hay una gran cantidad de autos con registros inferiores al año de creación del autos (1886) y superiores al año actual, lo cual no debería suceder. Por otro lado, hay muchos registros con potencia del auto igual a 0, algo que tampoco debería suceder. Por último, la potencia registra valores negativos y concentrados en cero para gran cantidad de resgistros."
   ]
  },
  {
   "cell_type": "markdown",
   "metadata": {},
   "source": [
    "### Análisis variables categóricas"
   ]
  },
  {
   "cell_type": "code",
   "execution_count": 15,
   "metadata": {
    "scrolled": false
   },
   "outputs": [
    {
     "data": {
      "image/png": "[encoded data removed]",
      "text/plain": [
       "<Figure size 1440x2160 with 6 Axes>"
      ]
     },
     "metadata": {},
     "output_type": "display_data"
    }
   ],
   "source": [
    "# Establecer el estilo de seaborn\n",
    "sns.set(style=\"ticks\")\n",
    "\n",
    "# Determinar el número de filas necesarias para nuestros subgráficos\n",
    "num_vars = len(categorical_columns)\n",
    "num_rows = num_vars // 2\n",
    "num_rows += num_vars % 2\n",
    "\n",
    "# Crear los subgráficos\n",
    "fig, axes = plt.subplots(num_rows, 2, figsize=(20, num_rows*10))\n",
    "\n",
    "# Aplanar el arreglo de ejes para que podamos iterar sobre él fácilmente\n",
    "axes = axes.flatten()\n",
    "\n",
    "# Iterar por cada columna\n",
    "for i, column in enumerate(categorical_columns):\n",
    "    # Mostrar solamente las primeras 25 categorías para evitar el hacinamiento\n",
    "    column_order = df[column].value_counts().nlargest(15).index\n",
    "    sns.countplot(x=column, data=df, order=column_order, ax=axes[i], color=\"slategray\", edgecolor='black')\n",
    "    axes[i].set_title(f'Barplot for {column}', fontsize=22)\n",
    "    axes[i].set_xlabel(column, fontsize=16)\n",
    "    axes[i].set_ylabel('Count', fontsize=16)\n",
    "    axes[i].tick_params(axis='x', rotation=75, labelsize=15) # rotate the x-axis labels if they're long\n",
    "    axes[i].tick_params(axis='y', labelsize=15)\n",
    "\n",
    "plt.tight_layout()\n",
    "plt.show()"
   ]
  },
  {
   "cell_type": "markdown",
   "metadata": {},
   "source": [
    "En el caso de las columnas categóricas, podemos concluir lo siguinente:\n",
    "\n",
    "- **Vehicle Type**: los tipos de vehículos mayor resgistrados son \"sedan\", \"small\" y \"wagon\" correspondientemente.\n",
    "\n",
    "\n",
    "- **Gearbox**: la mayoría de vehúclos son manuales\n",
    "\n",
    "\n",
    "- **Model**: el modelo de vehículo mayor registrado corresponde al \"golf\", seguido de otros no reconocidos y de \"3er\".\n",
    "\n",
    "\n",
    "- **Fuel Type**: en cuento al tipo de combustible más usado, la mayor consta de vehículos que usan petróleo y gasolina con gran diferencia en cuanto a otros.\n",
    "\n",
    "- **Brand**: las marcas mayor registradas son \"volkswagen\", \"opel\" y \"bwm\", siendo \"volkswagen\" el principal con una diferencia de casi del doble en comparación con \"opel\" (segundo más registrado).\n",
    "\n",
    "- **Not Reparired**: la mayorría de los vehículos no han sidop reparados.\n",
    "\n",
    "Por otro lado, es importante recodar que algunas de esta columnas cuentas con valores nulos lo cuales deben revisarse y tratarse según sea el caso."
   ]
  },
  {
   "cell_type": "markdown",
   "metadata": {},
   "source": [
    "Por último, verificaremos la realación entre las variables graficando una matriz de correlación:"
   ]
  },
  {
   "cell_type": "code",
   "execution_count": 16,
   "metadata": {},
   "outputs": [
    {
     "data": {
      "image/png": "[encoded data removed]",
      "text/plain": [
       "<Figure size 1080x720 with 2 Axes>"
      ]
     },
     "metadata": {},
     "output_type": "display_data"
    }
   ],
   "source": [
    "# Calcular la matriz de correlación\n",
    "corr = df.corr()\n",
    "\n",
    "# Generar una máscara para el triángulo superior\n",
    "mask = np.triu(np.ones_like(corr, dtype=bool))\n",
    "\n",
    "# Configurar la figura de matplotlib\n",
    "plt.figure(figsize=(15, 10))\n",
    "\n",
    "# Generar un mapa de colores divergente personalizado\n",
    "cmap = sns.diverging_palette(230, 20, as_cmap=True)\n",
    "\n",
    "# Dibujar el mapa de calor con la máscara y la relación de aspecto correcta\n",
    "sns.heatmap(corr, mask=mask, cmap=cmap, vmax=1, vmin=-1, center=0, annot=True, fmt=\".3f\", annot_kws={'size': 10},\n",
    "            square=True, linewidths=.5, cbar_kws={\"shrink\": .5})\n",
    "\n",
    "# Añadir un título al mapa de calor\n",
    "plt.title('Correlation Heatmap', fontsize=20, fontweight='bold')\n",
    "\n",
    "# Mostrar el mapa de calor\n",
    "plt.show()"
   ]
  },
  {
   "cell_type": "markdown",
   "metadata": {},
   "source": [
    "Analizando nuestra matriz podemos inferir lo siguiente:\n",
    "\n",
    "- La correlación entre el precio del vehículo y poder del mismo es positiva, lo que indica que entre mayor potencia tenga el auto mayor será su precio.\n",
    "- Se muestra una correlación negativa entre el precio y los kilometros recorridos del auto, los autos con mayor kilometraje tendrán un precio más bajo.\n",
    "- En cuanto a las otras variables, no se muestra una correlación fuerte entre ellas.\n",
    "\n",
    "Analizaremos nuevamente la correlación de nuestras variables luego de haber tratado nuestros dataset."
   ]
  },
  {
   "cell_type": "markdown",
   "metadata": {},
   "source": [
    "### Conclusiones"
   ]
  },
  {
   "cell_type": "markdown",
   "metadata": {},
   "source": [
    "1. Se eliminaron los duplicados del dataset y se elimino la columna `number_of_pictures` debido a que solo registraba ceros.\n",
    "2. Se cambiaron a tipo de dato datime a todas la variables que registran datos de fechas: `date_crawled`, `date_created` y `last_seen`.\n",
    "3. Las siguientes columnas presentan valores ausentes: `vehicle_type`, `gearbox`, `model`, `fuel_type` y `not_repaired`. Estas deben ser analizadas y tratadas correctamente.\n",
    "4. En la variable `fuel_type` es necesario que las categorías `petrol` y `gasoline` sean unidas debido a que se trata del mismo tipo de combustible\n",
    "5. La siguientes columnas presentan valores atípicos, los cuales deben analizarse y tratarse correctamente:\n",
    "    - `price`: valores iguales a 0.\n",
    "    - `registration_year`: años de resgitro de 1000 y 9999.\n",
    "    - `power`: potencias resgitradas de 0 y 20000.\n",
    "    - `registration_month`: mes de resgitro iguales a 0."
   ]
  },
  {
   "cell_type": "markdown",
   "metadata": {},
   "source": [
    "## Preparación de datos"
   ]
  },
  {
   "cell_type": "markdown",
   "metadata": {},
   "source": [
    "### Valores ausentes"
   ]
  },
  {
   "cell_type": "markdown",
   "metadata": {},
   "source": [
    "Antes de empezar a analizar y tratar cada variable con valores ausentes, veremos qué porcentaje de valores ausentes cuenta cda una de estas respecto a nuestro dataset:"
   ]
  },
  {
   "cell_type": "code",
   "execution_count": 17,
   "metadata": {},
   "outputs": [
    {
     "data": {
      "text/html": [
       "<div>\n",
       "<style scoped>\n",
       "    .dataframe tbody tr th:only-of-type {\n",
       "        vertical-align: middle;\n",
       "    }\n",
       "\n",
       "    .dataframe tbody tr th {\n",
       "        vertical-align: top;\n",
       "    }\n",
       "\n",
       "    .dataframe thead th {\n",
       "        text-align: right;\n",
       "    }\n",
       "</style>\n",
       "<table border=\"1\" class=\"dataframe\">\n",
       "  <thead>\n",
       "    <tr style=\"text-align: right;\">\n",
       "      <th></th>\n",
       "      <th>Valores Ausentes</th>\n",
       "      <th>% Ausentes</th>\n",
       "    </tr>\n",
       "  </thead>\n",
       "  <tbody>\n",
       "    <tr>\n",
       "      <th>vehicle_type</th>\n",
       "      <td>37490</td>\n",
       "      <td>10.58</td>\n",
       "    </tr>\n",
       "    <tr>\n",
       "      <th>gearbox</th>\n",
       "      <td>19833</td>\n",
       "      <td>5.60</td>\n",
       "    </tr>\n",
       "    <tr>\n",
       "      <th>model</th>\n",
       "      <td>19705</td>\n",
       "      <td>5.56</td>\n",
       "    </tr>\n",
       "    <tr>\n",
       "      <th>fuel_type</th>\n",
       "      <td>32895</td>\n",
       "      <td>9.28</td>\n",
       "    </tr>\n",
       "    <tr>\n",
       "      <th>not_repaired</th>\n",
       "      <td>71154</td>\n",
       "      <td>20.08</td>\n",
       "    </tr>\n",
       "  </tbody>\n",
       "</table>\n",
       "</div>"
      ],
      "text/plain": [
       "              Valores Ausentes  % Ausentes\n",
       "vehicle_type             37490       10.58\n",
       "gearbox                  19833        5.60\n",
       "model                    19705        5.56\n",
       "fuel_type                32895        9.28\n",
       "not_repaired             71154       20.08"
      ]
     },
     "execution_count": 17,
     "metadata": {},
     "output_type": "execute_result"
    }
   ],
   "source": [
    "# Identificar valores ausentes\n",
    "nan_count = df.isnull().sum()\n",
    "\n",
    "nan_percent = 100 * nan_count / len(df)\n",
    "\n",
    "nan_table = pd.concat([nan_count, nan_percent], axis=1)\n",
    "nan_table.columns = ['Valores Ausentes', '% Ausentes']\n",
    "nan_table['% Ausentes'] = nan_table['% Ausentes'].apply(lambda x: round(x,2))\n",
    "\n",
    "# Mostrar solo las columnas que cuentan con valores ausentes\n",
    "nan_table = nan_table[nan_table['Valores Ausentes'] != 0]\n",
    "\n",
    "nan_table"
   ]
  },
  {
   "cell_type": "markdown",
   "metadata": {},
   "source": [
    "La columna con mayor cantidad de ausentes es `not_repaired`, la cual cuenta con alrededor de 20%. En segundo y tercer lugar, se presentan `vehicle_type` con 10.58% y `fuel_type` con 9.28% respectivamente. Finalmente, las columnas `gearbox` y `model` presentan 5.60% y 5.56% de ausentes respectivamente."
   ]
  },
  {
   "cell_type": "markdown",
   "metadata": {},
   "source": [
    "#### Valores ausentes `gearbox`"
   ]
  },
  {
   "cell_type": "markdown",
   "metadata": {},
   "source": [
    "La caja de cambios de los autos está relacionado con el modelo y marca del mismo, por lo cual se procederá a rellenar los valores nulos de utilizando esta información. Crearemos una función donde rellenaremos los valores nulos con los valores de la moda de estas características, es decir con los valores (tipo de caja de cambios) que más se repiten para un modelo y marca relacionada.\n",
    "\n",
    "En caso no se encuentre el vehículo y marca, usaremos la moda golbal de la caja de cambios."
   ]
  },
  {
   "cell_type": "code",
   "execution_count": 18,
   "metadata": {},
   "outputs": [
    {
     "data": {
      "text/html": [
       "<div>\n",
       "<style scoped>\n",
       "    .dataframe tbody tr th:only-of-type {\n",
       "        vertical-align: middle;\n",
       "    }\n",
       "\n",
       "    .dataframe tbody tr th {\n",
       "        vertical-align: top;\n",
       "    }\n",
       "\n",
       "    .dataframe thead th {\n",
       "        text-align: right;\n",
       "    }\n",
       "</style>\n",
       "<table border=\"1\" class=\"dataframe\">\n",
       "  <thead>\n",
       "    <tr style=\"text-align: right;\">\n",
       "      <th></th>\n",
       "      <th></th>\n",
       "      <th>gearbox</th>\n",
       "    </tr>\n",
       "    <tr>\n",
       "      <th>brand</th>\n",
       "      <th>model</th>\n",
       "      <th></th>\n",
       "    </tr>\n",
       "  </thead>\n",
       "  <tbody>\n",
       "    <tr>\n",
       "      <th rowspan=\"5\" valign=\"top\">alfa_romeo</th>\n",
       "      <th>145</th>\n",
       "      <td>manual</td>\n",
       "    </tr>\n",
       "    <tr>\n",
       "      <th>147</th>\n",
       "      <td>manual</td>\n",
       "    </tr>\n",
       "    <tr>\n",
       "      <th>156</th>\n",
       "      <td>manual</td>\n",
       "    </tr>\n",
       "    <tr>\n",
       "      <th>159</th>\n",
       "      <td>manual</td>\n",
       "    </tr>\n",
       "    <tr>\n",
       "      <th>other</th>\n",
       "      <td>manual</td>\n",
       "    </tr>\n",
       "    <tr>\n",
       "      <th>...</th>\n",
       "      <th>...</th>\n",
       "      <td>...</td>\n",
       "    </tr>\n",
       "    <tr>\n",
       "      <th rowspan=\"5\" valign=\"top\">volvo</th>\n",
       "      <th>v40</th>\n",
       "      <td>manual</td>\n",
       "    </tr>\n",
       "    <tr>\n",
       "      <th>v50</th>\n",
       "      <td>manual</td>\n",
       "    </tr>\n",
       "    <tr>\n",
       "      <th>v60</th>\n",
       "      <td>manual</td>\n",
       "    </tr>\n",
       "    <tr>\n",
       "      <th>v70</th>\n",
       "      <td>manual</td>\n",
       "    </tr>\n",
       "    <tr>\n",
       "      <th>xc_reihe</th>\n",
       "      <td>auto</td>\n",
       "    </tr>\n",
       "  </tbody>\n",
       "</table>\n",
       "<p>297 rows × 1 columns</p>\n",
       "</div>"
      ],
      "text/plain": [
       "                    gearbox\n",
       "brand      model           \n",
       "alfa_romeo 145       manual\n",
       "           147       manual\n",
       "           156       manual\n",
       "           159       manual\n",
       "           other     manual\n",
       "...                     ...\n",
       "volvo      v40       manual\n",
       "           v50       manual\n",
       "           v60       manual\n",
       "           v70       manual\n",
       "           xc_reihe    auto\n",
       "\n",
       "[297 rows x 1 columns]"
      ]
     },
     "execution_count": 18,
     "metadata": {},
     "output_type": "execute_result"
    }
   ],
   "source": [
    "# Creamos tabla con los valores de la moda que usaremos para reemplazar los valores nulos\n",
    "gearbox_without_nan = df.dropna(subset=['gearbox', 'model'])\n",
    "\n",
    "def my_mode(series):\n",
    "    return mode(series)[0][0]\n",
    "\n",
    "gearbox_model = gearbox_without_nan.pivot_table(index=['brand', 'model'], values='gearbox', aggfunc=my_mode)\n",
    "gearbox_model"
   ]
  },
  {
   "cell_type": "code",
   "execution_count": 19,
   "metadata": {},
   "outputs": [
    {
     "data": {
      "text/plain": [
       "'manual'"
      ]
     },
     "execution_count": 19,
     "metadata": {},
     "output_type": "execute_result"
    }
   ],
   "source": [
    "# Calcular la moda global de gearbox\n",
    "gearbox_without_nan_global = df['gearbox'].dropna()\n",
    "global_mode_gearbox = mode(gearbox_without_nan_global)[0][0]\n",
    "\n",
    "global_mode_gearbox"
   ]
  },
  {
   "cell_type": "code",
   "execution_count": 20,
   "metadata": {},
   "outputs": [],
   "source": [
    "# Crear función\n",
    "def fill_gearbox(row):\n",
    "    model = row['model']\n",
    "    gearbox = row['gearbox']\n",
    "    brand = row['brand']\n",
    "    \n",
    "    if pd.isna(gearbox):\n",
    "        try:\n",
    "            return gearbox_model.loc[(brand, model), 'gearbox']\n",
    "        except:\n",
    "            return global_mode_gearbox\n",
    "    return gearbox"
   ]
  },
  {
   "cell_type": "code",
   "execution_count": 21,
   "metadata": {},
   "outputs": [
    {
     "data": {
      "text/plain": [
       "'auto'"
      ]
     },
     "execution_count": 21,
     "metadata": {},
     "output_type": "execute_result"
    }
   ],
   "source": [
    "# Comprobar que la función trabaje correctamente\n",
    "row_values=['volvo', 'xc_reihe', np.nan]\n",
    "row_columns=['brand', 'model', 'gearbox']\n",
    "row = pd.Series(data=row_values, index=row_columns)\n",
    "fill_gearbox(row)"
   ]
  },
  {
   "cell_type": "code",
   "execution_count": 22,
   "metadata": {},
   "outputs": [],
   "source": [
    "# Aplicar la función\n",
    "df['gearbox'] = df.apply(fill_gearbox, axis = 1)"
   ]
  },
  {
   "cell_type": "code",
   "execution_count": 23,
   "metadata": {},
   "outputs": [
    {
     "data": {
      "text/plain": [
       "0"
      ]
     },
     "execution_count": 23,
     "metadata": {},
     "output_type": "execute_result"
    }
   ],
   "source": [
    "# Comprobar resultados\n",
    "df['gearbox'].isnull().sum()"
   ]
  },
  {
   "cell_type": "markdown",
   "metadata": {},
   "source": [
    "#### Valores ausentes `vehicle_type`"
   ]
  },
  {
   "cell_type": "markdown",
   "metadata": {},
   "source": [
    "En cuanto al tipo del vehículo, este depende de la marca y modelo del mismo. Haremos lo mismo que hicimos, rellenaremos los valores ausentes utilizando las características que dependen del tipo de vehículo."
   ]
  },
  {
   "cell_type": "code",
   "execution_count": 24,
   "metadata": {},
   "outputs": [
    {
     "data": {
      "text/html": [
       "<div>\n",
       "<style scoped>\n",
       "    .dataframe tbody tr th:only-of-type {\n",
       "        vertical-align: middle;\n",
       "    }\n",
       "\n",
       "    .dataframe tbody tr th {\n",
       "        vertical-align: top;\n",
       "    }\n",
       "\n",
       "    .dataframe thead th {\n",
       "        text-align: right;\n",
       "    }\n",
       "</style>\n",
       "<table border=\"1\" class=\"dataframe\">\n",
       "  <thead>\n",
       "    <tr style=\"text-align: right;\">\n",
       "      <th></th>\n",
       "      <th></th>\n",
       "      <th>vehicle_type</th>\n",
       "    </tr>\n",
       "    <tr>\n",
       "      <th>brand</th>\n",
       "      <th>model</th>\n",
       "      <th></th>\n",
       "    </tr>\n",
       "  </thead>\n",
       "  <tbody>\n",
       "    <tr>\n",
       "      <th rowspan=\"5\" valign=\"top\">alfa_romeo</th>\n",
       "      <th>145</th>\n",
       "      <td>small</td>\n",
       "    </tr>\n",
       "    <tr>\n",
       "      <th>147</th>\n",
       "      <td>sedan</td>\n",
       "    </tr>\n",
       "    <tr>\n",
       "      <th>156</th>\n",
       "      <td>wagon</td>\n",
       "    </tr>\n",
       "    <tr>\n",
       "      <th>159</th>\n",
       "      <td>wagon</td>\n",
       "    </tr>\n",
       "    <tr>\n",
       "      <th>other</th>\n",
       "      <td>sedan</td>\n",
       "    </tr>\n",
       "    <tr>\n",
       "      <th>...</th>\n",
       "      <th>...</th>\n",
       "      <td>...</td>\n",
       "    </tr>\n",
       "    <tr>\n",
       "      <th rowspan=\"5\" valign=\"top\">volvo</th>\n",
       "      <th>v40</th>\n",
       "      <td>wagon</td>\n",
       "    </tr>\n",
       "    <tr>\n",
       "      <th>v50</th>\n",
       "      <td>wagon</td>\n",
       "    </tr>\n",
       "    <tr>\n",
       "      <th>v60</th>\n",
       "      <td>wagon</td>\n",
       "    </tr>\n",
       "    <tr>\n",
       "      <th>v70</th>\n",
       "      <td>wagon</td>\n",
       "    </tr>\n",
       "    <tr>\n",
       "      <th>xc_reihe</th>\n",
       "      <td>suv</td>\n",
       "    </tr>\n",
       "  </tbody>\n",
       "</table>\n",
       "<p>297 rows × 1 columns</p>\n",
       "</div>"
      ],
      "text/plain": [
       "                    vehicle_type\n",
       "brand      model                \n",
       "alfa_romeo 145             small\n",
       "           147             sedan\n",
       "           156             wagon\n",
       "           159             wagon\n",
       "           other           sedan\n",
       "...                          ...\n",
       "volvo      v40             wagon\n",
       "           v50             wagon\n",
       "           v60             wagon\n",
       "           v70             wagon\n",
       "           xc_reihe          suv\n",
       "\n",
       "[297 rows x 1 columns]"
      ]
     },
     "execution_count": 24,
     "metadata": {},
     "output_type": "execute_result"
    }
   ],
   "source": [
    "# Crear tabla con los valores de la moda que usaremos para reemplazar los valores nulos\n",
    "vehicle_type_without_nan = df.dropna(subset=['vehicle_type', 'model'])\n",
    "\n",
    "def my_mode(series):\n",
    "    return mode(series)[0][0]\n",
    "\n",
    "vehicle_type_model = vehicle_type_without_nan.pivot_table(index=['brand', 'model'], values='vehicle_type', aggfunc=my_mode)\n",
    "vehicle_type_model"
   ]
  },
  {
   "cell_type": "code",
   "execution_count": 25,
   "metadata": {},
   "outputs": [
    {
     "data": {
      "text/plain": [
       "'sedan'"
      ]
     },
     "execution_count": 25,
     "metadata": {},
     "output_type": "execute_result"
    }
   ],
   "source": [
    "# Calcular la moda global de vehicle_type\n",
    "vehicle_type_without_nan_global = df['vehicle_type'].dropna()\n",
    "global_mode_vehicle_type = mode(vehicle_type_without_nan_global)[0][0]\n",
    "\n",
    "global_mode_vehicle_type"
   ]
  },
  {
   "cell_type": "code",
   "execution_count": 26,
   "metadata": {},
   "outputs": [],
   "source": [
    "# Crear función\n",
    "def fill_vehicle_type(row):\n",
    "    model = row['model']\n",
    "    vehicle_type = row['vehicle_type']\n",
    "    brand = row['brand']\n",
    "    \n",
    "    if pd.isna(vehicle_type):\n",
    "        try:\n",
    "            return vehicle_type_model.loc[(brand, model), 'vehicle_type']\n",
    "        except:\n",
    "            return global_mode_vehicle_type\n",
    "    return vehicle_type"
   ]
  },
  {
   "cell_type": "code",
   "execution_count": 27,
   "metadata": {},
   "outputs": [
    {
     "data": {
      "text/plain": [
       "'wagon'"
      ]
     },
     "execution_count": 27,
     "metadata": {},
     "output_type": "execute_result"
    }
   ],
   "source": [
    "# Comprobar que la función trabaje correctamente\n",
    "row_values=['volvo', 'v70', np.nan]\n",
    "row_columns=['brand', 'model', 'vehicle_type']\n",
    "row = pd.Series(data=row_values, index=row_columns)\n",
    "fill_vehicle_type(row)"
   ]
  },
  {
   "cell_type": "code",
   "execution_count": 28,
   "metadata": {},
   "outputs": [],
   "source": [
    "# Aplicar la función\n",
    "df['vehicle_type'] = df.apply(fill_vehicle_type, axis = 1)"
   ]
  },
  {
   "cell_type": "code",
   "execution_count": 29,
   "metadata": {},
   "outputs": [
    {
     "data": {
      "text/plain": [
       "0"
      ]
     },
     "execution_count": 29,
     "metadata": {},
     "output_type": "execute_result"
    }
   ],
   "source": [
    "# Comprobar resultados\n",
    "df['vehicle_type'].isnull().sum()"
   ]
  },
  {
   "cell_type": "markdown",
   "metadata": {},
   "source": [
    "#### Valores ausentes `fuel_type`"
   ]
  },
  {
   "cell_type": "markdown",
   "metadata": {},
   "source": [
    "Como se describió anteriormente, \"gasoline\" y \"petrol\" se refieren al mismo tipo de combustible. La diferencia se encuentra en que el término \"gasoline\" es utilizado en Estados Unidos y \"petrol\" en Reino Unido. Para nuestros fines prácticos, utilizaremos un solo término para nuestros datos."
   ]
  },
  {
   "cell_type": "code",
   "execution_count": 30,
   "metadata": {},
   "outputs": [
    {
     "data": {
      "text/plain": [
       "gasoline    0.889107\n",
       "NaN         0.092827\n",
       "lpg         0.014984\n",
       "cng         0.001594\n",
       "hybrid      0.000658\n",
       "other       0.000576\n",
       "electric    0.000254\n",
       "Name: fuel_type, dtype: float64"
      ]
     },
     "execution_count": 30,
     "metadata": {},
     "output_type": "execute_result"
    }
   ],
   "source": [
    "# Reemplazar petrol por gasoline\n",
    "df['fuel_type'] = df['fuel_type'].replace('petrol', 'gasoline')\n",
    "\n",
    "# Comprobar el reemplazo\n",
    "df['fuel_type'].value_counts(dropna=False, normalize=True)"
   ]
  },
  {
   "cell_type": "markdown",
   "metadata": {},
   "source": [
    "Para los valores ausentes, el tipo de combustible depende del modelo del vehículo. Por lo tanto, procederemos a rellenar los valores ausenten en función del modelo."
   ]
  },
  {
   "cell_type": "code",
   "execution_count": 31,
   "metadata": {},
   "outputs": [
    {
     "data": {
      "text/html": [
       "<div>\n",
       "<style scoped>\n",
       "    .dataframe tbody tr th:only-of-type {\n",
       "        vertical-align: middle;\n",
       "    }\n",
       "\n",
       "    .dataframe tbody tr th {\n",
       "        vertical-align: top;\n",
       "    }\n",
       "\n",
       "    .dataframe thead th {\n",
       "        text-align: right;\n",
       "    }\n",
       "</style>\n",
       "<table border=\"1\" class=\"dataframe\">\n",
       "  <thead>\n",
       "    <tr style=\"text-align: right;\">\n",
       "      <th></th>\n",
       "      <th>fuel_type</th>\n",
       "    </tr>\n",
       "    <tr>\n",
       "      <th>model</th>\n",
       "      <th></th>\n",
       "    </tr>\n",
       "  </thead>\n",
       "  <tbody>\n",
       "    <tr>\n",
       "      <th>100</th>\n",
       "      <td>gasoline</td>\n",
       "    </tr>\n",
       "    <tr>\n",
       "      <th>145</th>\n",
       "      <td>gasoline</td>\n",
       "    </tr>\n",
       "    <tr>\n",
       "      <th>147</th>\n",
       "      <td>gasoline</td>\n",
       "    </tr>\n",
       "    <tr>\n",
       "      <th>156</th>\n",
       "      <td>gasoline</td>\n",
       "    </tr>\n",
       "    <tr>\n",
       "      <th>159</th>\n",
       "      <td>gasoline</td>\n",
       "    </tr>\n",
       "    <tr>\n",
       "      <th>...</th>\n",
       "      <td>...</td>\n",
       "    </tr>\n",
       "    <tr>\n",
       "      <th>yaris</th>\n",
       "      <td>gasoline</td>\n",
       "    </tr>\n",
       "    <tr>\n",
       "      <th>yeti</th>\n",
       "      <td>gasoline</td>\n",
       "    </tr>\n",
       "    <tr>\n",
       "      <th>ypsilon</th>\n",
       "      <td>gasoline</td>\n",
       "    </tr>\n",
       "    <tr>\n",
       "      <th>z_reihe</th>\n",
       "      <td>gasoline</td>\n",
       "    </tr>\n",
       "    <tr>\n",
       "      <th>zafira</th>\n",
       "      <td>gasoline</td>\n",
       "    </tr>\n",
       "  </tbody>\n",
       "</table>\n",
       "<p>250 rows × 1 columns</p>\n",
       "</div>"
      ],
      "text/plain": [
       "        fuel_type\n",
       "model            \n",
       "100      gasoline\n",
       "145      gasoline\n",
       "147      gasoline\n",
       "156      gasoline\n",
       "159      gasoline\n",
       "...           ...\n",
       "yaris    gasoline\n",
       "yeti     gasoline\n",
       "ypsilon  gasoline\n",
       "z_reihe  gasoline\n",
       "zafira   gasoline\n",
       "\n",
       "[250 rows x 1 columns]"
      ]
     },
     "execution_count": 31,
     "metadata": {},
     "output_type": "execute_result"
    }
   ],
   "source": [
    "# Crear tabla con los valores de la moda que usaremos para reemplazar los valores nulos\n",
    "fuel_type_without_nan = df.dropna(subset=['fuel_type', 'model'])\n",
    "\n",
    "def my_mode(series):\n",
    "    return mode(series)[0][0]\n",
    "\n",
    "fuel_type_model = fuel_type_without_nan.pivot_table(index=['model'], values='fuel_type', aggfunc=my_mode)\n",
    "fuel_type_model"
   ]
  },
  {
   "cell_type": "code",
   "execution_count": 32,
   "metadata": {},
   "outputs": [
    {
     "data": {
      "text/plain": [
       "'gasoline'"
      ]
     },
     "execution_count": 32,
     "metadata": {},
     "output_type": "execute_result"
    }
   ],
   "source": [
    "# Calcular la moda global de fuel_type\n",
    "fuel_type_without_nan_global = df['fuel_type'].dropna()\n",
    "global_mode_fuel_type = mode(fuel_type_without_nan_global)[0][0]\n",
    "\n",
    "global_mode_fuel_type"
   ]
  },
  {
   "cell_type": "code",
   "execution_count": 33,
   "metadata": {},
   "outputs": [],
   "source": [
    "# Crear función\n",
    "def fill_fuel_type(row):\n",
    "    model = row['model']\n",
    "    fuel_type = row['fuel_type']\n",
    "    \n",
    "    if pd.isna(fuel_type):\n",
    "        try:\n",
    "            return fuel_type_model.loc[(model), 'fuel_type']\n",
    "        except:\n",
    "            return global_mode_fuel_type\n",
    "    return fuel_type"
   ]
  },
  {
   "cell_type": "code",
   "execution_count": 34,
   "metadata": {},
   "outputs": [
    {
     "data": {
      "text/plain": [
       "'gasoline'"
      ]
     },
     "execution_count": 34,
     "metadata": {},
     "output_type": "execute_result"
    }
   ],
   "source": [
    "# Comprobar que la función trabaje correctamente\n",
    "row_values=['yaris', np.nan]\n",
    "row_columns=['model', 'fuel_type']\n",
    "row = pd.Series(data=row_values, index=row_columns)\n",
    "fill_fuel_type(row)"
   ]
  },
  {
   "cell_type": "code",
   "execution_count": 35,
   "metadata": {},
   "outputs": [],
   "source": [
    "# Aplicar la función\n",
    "df['fuel_type'] = df.apply(fill_fuel_type, axis = 1)"
   ]
  },
  {
   "cell_type": "code",
   "execution_count": 36,
   "metadata": {},
   "outputs": [
    {
     "data": {
      "text/plain": [
       "0"
      ]
     },
     "execution_count": 36,
     "metadata": {},
     "output_type": "execute_result"
    }
   ],
   "source": [
    "# Comprobar resultados\n",
    "df['fuel_type'].isnull().sum()"
   ]
  },
  {
   "cell_type": "markdown",
   "metadata": {},
   "source": [
    "#### Valores ausentes `model`"
   ]
  },
  {
   "cell_type": "markdown",
   "metadata": {},
   "source": [
    "El modelo del vehículo depende de la marca y año de lanzamiento, algunos modelos son específicos de algunos años, por ello utilizaremos el año de lanzamiento y marca como referencia. Utilizaremos las mismas técnicas mostradas anteriormente para rellenar los valores ausentes."
   ]
  },
  {
   "cell_type": "code",
   "execution_count": 37,
   "metadata": {},
   "outputs": [
    {
     "data": {
      "text/html": [
       "<div>\n",
       "<style scoped>\n",
       "    .dataframe tbody tr th:only-of-type {\n",
       "        vertical-align: middle;\n",
       "    }\n",
       "\n",
       "    .dataframe tbody tr th {\n",
       "        vertical-align: top;\n",
       "    }\n",
       "\n",
       "    .dataframe thead th {\n",
       "        text-align: right;\n",
       "    }\n",
       "</style>\n",
       "<table border=\"1\" class=\"dataframe\">\n",
       "  <thead>\n",
       "    <tr style=\"text-align: right;\">\n",
       "      <th></th>\n",
       "      <th></th>\n",
       "      <th>model</th>\n",
       "    </tr>\n",
       "    <tr>\n",
       "      <th>brand</th>\n",
       "      <th>registration_year</th>\n",
       "      <th></th>\n",
       "    </tr>\n",
       "  </thead>\n",
       "  <tbody>\n",
       "    <tr>\n",
       "      <th rowspan=\"5\" valign=\"top\">alfa_romeo</th>\n",
       "      <th>1000</th>\n",
       "      <td>156</td>\n",
       "    </tr>\n",
       "    <tr>\n",
       "      <th>1234</th>\n",
       "      <td>156</td>\n",
       "    </tr>\n",
       "    <tr>\n",
       "      <th>1950</th>\n",
       "      <td>other</td>\n",
       "    </tr>\n",
       "    <tr>\n",
       "      <th>1958</th>\n",
       "      <td>other</td>\n",
       "    </tr>\n",
       "    <tr>\n",
       "      <th>1960</th>\n",
       "      <td>145</td>\n",
       "    </tr>\n",
       "    <tr>\n",
       "      <th>...</th>\n",
       "      <th>...</th>\n",
       "      <td>...</td>\n",
       "    </tr>\n",
       "    <tr>\n",
       "      <th rowspan=\"5\" valign=\"top\">volvo</th>\n",
       "      <th>2013</th>\n",
       "      <td>v60</td>\n",
       "    </tr>\n",
       "    <tr>\n",
       "      <th>2014</th>\n",
       "      <td>v40</td>\n",
       "    </tr>\n",
       "    <tr>\n",
       "      <th>2016</th>\n",
       "      <td>v40</td>\n",
       "    </tr>\n",
       "    <tr>\n",
       "      <th>2017</th>\n",
       "      <td>v40</td>\n",
       "    </tr>\n",
       "    <tr>\n",
       "      <th>2018</th>\n",
       "      <td>v40</td>\n",
       "    </tr>\n",
       "  </tbody>\n",
       "</table>\n",
       "<p>1887 rows × 1 columns</p>\n",
       "</div>"
      ],
      "text/plain": [
       "                              model\n",
       "brand      registration_year       \n",
       "alfa_romeo 1000                 156\n",
       "           1234                 156\n",
       "           1950               other\n",
       "           1958               other\n",
       "           1960                 145\n",
       "...                             ...\n",
       "volvo      2013                 v60\n",
       "           2014                 v40\n",
       "           2016                 v40\n",
       "           2017                 v40\n",
       "           2018                 v40\n",
       "\n",
       "[1887 rows x 1 columns]"
      ]
     },
     "execution_count": 37,
     "metadata": {},
     "output_type": "execute_result"
    }
   ],
   "source": [
    "# Crear tabla con los valores de la moda que usaremos para reemplazar los valores nulos\n",
    "model_without_nan = df.dropna(subset=['model'])\n",
    "\n",
    "def my_mode(series):\n",
    "    return mode(series)[0][0]\n",
    "\n",
    "model_brand = model_without_nan.pivot_table(index=['brand', 'registration_year'], values='model', aggfunc=my_mode)\n",
    "model_brand"
   ]
  },
  {
   "cell_type": "code",
   "execution_count": 38,
   "metadata": {},
   "outputs": [
    {
     "data": {
      "text/plain": [
       "'golf'"
      ]
     },
     "execution_count": 38,
     "metadata": {},
     "output_type": "execute_result"
    }
   ],
   "source": [
    "# Calcular la moda global de model\n",
    "model_without_nan_global = df['model'].dropna()\n",
    "global_mode_model = mode(model_without_nan_global)[0][0]\n",
    "\n",
    "global_mode_model"
   ]
  },
  {
   "cell_type": "code",
   "execution_count": 39,
   "metadata": {},
   "outputs": [],
   "source": [
    "# Crear función\n",
    "def fill_model(row):\n",
    "    registration_year = row['registration_year']\n",
    "    brand = row['brand']\n",
    "    model = row['model']\n",
    "    \n",
    "    if pd.isna(model):\n",
    "        try:\n",
    "            return model_brand.loc[(brand, registration_year), 'model']\n",
    "        except:\n",
    "            return global_mode_model\n",
    "    return model"
   ]
  },
  {
   "cell_type": "code",
   "execution_count": 40,
   "metadata": {},
   "outputs": [
    {
     "data": {
      "text/plain": [
       "'145'"
      ]
     },
     "execution_count": 40,
     "metadata": {},
     "output_type": "execute_result"
    }
   ],
   "source": [
    "# Comprobar que la función trabaje correctamente\n",
    "row_values=['alfa_romeo', 1960, np.nan]\n",
    "row_columns=['brand', 'registration_year', 'model']\n",
    "row = pd.Series(data=row_values, index=row_columns)\n",
    "fill_model(row)"
   ]
  },
  {
   "cell_type": "code",
   "execution_count": 41,
   "metadata": {},
   "outputs": [],
   "source": [
    "# Aplicar la función\n",
    "df['model'] = df.apply(fill_model, axis = 1)"
   ]
  },
  {
   "cell_type": "code",
   "execution_count": 42,
   "metadata": {},
   "outputs": [
    {
     "data": {
      "text/plain": [
       "0"
      ]
     },
     "execution_count": 42,
     "metadata": {},
     "output_type": "execute_result"
    }
   ],
   "source": [
    "# Comprobar resultados\n",
    "df['model'].isnull().sum()"
   ]
  },
  {
   "cell_type": "markdown",
   "metadata": {},
   "source": [
    "#### Valores ausentes `not_repaired`"
   ]
  },
  {
   "cell_type": "markdown",
   "metadata": {},
   "source": [
    "La reparación de cada vehículo solo depende del vendedor, por lo que es difícil relacionar este a alguna otra variables de nuestro dataset. Para este caso, rellenaremos los valores ausentes utlizando todas las variables de nuestro dataset utilizando un modelo que prediga el esta del vehiculo (`not_repaired`)."
   ]
  },
  {
   "cell_type": "markdown",
   "metadata": {},
   "source": [
    "Empezemos transformando nuestro target `not_repaired` en una variable numérica, donde se establecerá la siguiente relación: **no = 0** y **yes =1**"
   ]
  },
  {
   "cell_type": "code",
   "execution_count": 43,
   "metadata": {},
   "outputs": [
    {
     "data": {
      "text/plain": [
       "0.0    0.697468\n",
       "NaN    0.200791\n",
       "1.0    0.101741\n",
       "Name: not_repaired, dtype: float64"
      ]
     },
     "execution_count": 43,
     "metadata": {},
     "output_type": "execute_result"
    }
   ],
   "source": [
    "# Crear diccionario para reemplazar los valores\n",
    "not_repaired_dict = {'no': 0, 'yes': 1}\n",
    "\n",
    "# Utilizar la función map para reemplazar los valores\n",
    "df['not_repaired'] = df['not_repaired'].map(not_repaired_dict)\n",
    "\n",
    "# Comprobar el reemplazo\n",
    "df['not_repaired'].value_counts(dropna=False, normalize=True)"
   ]
  },
  {
   "cell_type": "markdown",
   "metadata": {},
   "source": [
    "Utilizaremos un modelo de Regresión Logística para predecir si un vehúclo ha sido reparado o no, y con ello rellenaremos los valores ausentes. Primero codifiquemos nuestras características categóricas a trevés de `One-Hot Encoding`."
   ]
  },
  {
   "cell_type": "code",
   "execution_count": 44,
   "metadata": {},
   "outputs": [
    {
     "data": {
      "text/html": [
       "<div>\n",
       "<style scoped>\n",
       "    .dataframe tbody tr th:only-of-type {\n",
       "        vertical-align: middle;\n",
       "    }\n",
       "\n",
       "    .dataframe tbody tr th {\n",
       "        vertical-align: top;\n",
       "    }\n",
       "\n",
       "    .dataframe thead th {\n",
       "        text-align: right;\n",
       "    }\n",
       "</style>\n",
       "<table border=\"1\" class=\"dataframe\">\n",
       "  <thead>\n",
       "    <tr style=\"text-align: right;\">\n",
       "      <th></th>\n",
       "      <th>date_crawled</th>\n",
       "      <th>price</th>\n",
       "      <th>registration_year</th>\n",
       "      <th>power</th>\n",
       "      <th>mileage</th>\n",
       "      <th>registration_month</th>\n",
       "      <th>not_repaired</th>\n",
       "      <th>date_created</th>\n",
       "      <th>postal_code</th>\n",
       "      <th>last_seen</th>\n",
       "      <th>...</th>\n",
       "      <th>brand_seat</th>\n",
       "      <th>brand_skoda</th>\n",
       "      <th>brand_smart</th>\n",
       "      <th>brand_sonstige_autos</th>\n",
       "      <th>brand_subaru</th>\n",
       "      <th>brand_suzuki</th>\n",
       "      <th>brand_toyota</th>\n",
       "      <th>brand_trabant</th>\n",
       "      <th>brand_volkswagen</th>\n",
       "      <th>brand_volvo</th>\n",
       "    </tr>\n",
       "  </thead>\n",
       "  <tbody>\n",
       "    <tr>\n",
       "      <th>0</th>\n",
       "      <td>2016-03-24 11:52:00</td>\n",
       "      <td>480</td>\n",
       "      <td>1993</td>\n",
       "      <td>0</td>\n",
       "      <td>150000</td>\n",
       "      <td>0</td>\n",
       "      <td>NaN</td>\n",
       "      <td>2016-03-24</td>\n",
       "      <td>70435</td>\n",
       "      <td>2016-04-07 03:16:00</td>\n",
       "      <td>...</td>\n",
       "      <td>0</td>\n",
       "      <td>0</td>\n",
       "      <td>0</td>\n",
       "      <td>0</td>\n",
       "      <td>0</td>\n",
       "      <td>0</td>\n",
       "      <td>0</td>\n",
       "      <td>0</td>\n",
       "      <td>1</td>\n",
       "      <td>0</td>\n",
       "    </tr>\n",
       "    <tr>\n",
       "      <th>1</th>\n",
       "      <td>2016-03-24 10:58:00</td>\n",
       "      <td>18300</td>\n",
       "      <td>2011</td>\n",
       "      <td>190</td>\n",
       "      <td>125000</td>\n",
       "      <td>5</td>\n",
       "      <td>1.0</td>\n",
       "      <td>2016-03-24</td>\n",
       "      <td>66954</td>\n",
       "      <td>2016-04-07 01:46:00</td>\n",
       "      <td>...</td>\n",
       "      <td>0</td>\n",
       "      <td>0</td>\n",
       "      <td>0</td>\n",
       "      <td>0</td>\n",
       "      <td>0</td>\n",
       "      <td>0</td>\n",
       "      <td>0</td>\n",
       "      <td>0</td>\n",
       "      <td>0</td>\n",
       "      <td>0</td>\n",
       "    </tr>\n",
       "    <tr>\n",
       "      <th>2</th>\n",
       "      <td>2016-03-14 12:52:00</td>\n",
       "      <td>9800</td>\n",
       "      <td>2004</td>\n",
       "      <td>163</td>\n",
       "      <td>125000</td>\n",
       "      <td>8</td>\n",
       "      <td>NaN</td>\n",
       "      <td>2016-03-14</td>\n",
       "      <td>90480</td>\n",
       "      <td>2016-04-05 12:47:00</td>\n",
       "      <td>...</td>\n",
       "      <td>0</td>\n",
       "      <td>0</td>\n",
       "      <td>0</td>\n",
       "      <td>0</td>\n",
       "      <td>0</td>\n",
       "      <td>0</td>\n",
       "      <td>0</td>\n",
       "      <td>0</td>\n",
       "      <td>0</td>\n",
       "      <td>0</td>\n",
       "    </tr>\n",
       "    <tr>\n",
       "      <th>3</th>\n",
       "      <td>2016-03-17 16:54:00</td>\n",
       "      <td>1500</td>\n",
       "      <td>2001</td>\n",
       "      <td>75</td>\n",
       "      <td>150000</td>\n",
       "      <td>6</td>\n",
       "      <td>0.0</td>\n",
       "      <td>2016-03-17</td>\n",
       "      <td>91074</td>\n",
       "      <td>2016-03-17 17:40:00</td>\n",
       "      <td>...</td>\n",
       "      <td>0</td>\n",
       "      <td>0</td>\n",
       "      <td>0</td>\n",
       "      <td>0</td>\n",
       "      <td>0</td>\n",
       "      <td>0</td>\n",
       "      <td>0</td>\n",
       "      <td>0</td>\n",
       "      <td>1</td>\n",
       "      <td>0</td>\n",
       "    </tr>\n",
       "    <tr>\n",
       "      <th>4</th>\n",
       "      <td>2016-03-31 17:25:00</td>\n",
       "      <td>3600</td>\n",
       "      <td>2008</td>\n",
       "      <td>69</td>\n",
       "      <td>90000</td>\n",
       "      <td>7</td>\n",
       "      <td>0.0</td>\n",
       "      <td>2016-03-31</td>\n",
       "      <td>60437</td>\n",
       "      <td>2016-04-06 10:17:00</td>\n",
       "      <td>...</td>\n",
       "      <td>0</td>\n",
       "      <td>1</td>\n",
       "      <td>0</td>\n",
       "      <td>0</td>\n",
       "      <td>0</td>\n",
       "      <td>0</td>\n",
       "      <td>0</td>\n",
       "      <td>0</td>\n",
       "      <td>0</td>\n",
       "      <td>0</td>\n",
       "    </tr>\n",
       "  </tbody>\n",
       "</table>\n",
       "<p>5 rows × 311 columns</p>\n",
       "</div>"
      ],
      "text/plain": [
       "         date_crawled  price  registration_year  power  mileage  \\\n",
       "0 2016-03-24 11:52:00    480               1993      0   150000   \n",
       "1 2016-03-24 10:58:00  18300               2011    190   125000   \n",
       "2 2016-03-14 12:52:00   9800               2004    163   125000   \n",
       "3 2016-03-17 16:54:00   1500               2001     75   150000   \n",
       "4 2016-03-31 17:25:00   3600               2008     69    90000   \n",
       "\n",
       "   registration_month  not_repaired date_created  postal_code  \\\n",
       "0                   0           NaN   2016-03-24        70435   \n",
       "1                   5           1.0   2016-03-24        66954   \n",
       "2                   8           NaN   2016-03-14        90480   \n",
       "3                   6           0.0   2016-03-17        91074   \n",
       "4                   7           0.0   2016-03-31        60437   \n",
       "\n",
       "            last_seen  ...  brand_seat  brand_skoda  brand_smart  \\\n",
       "0 2016-04-07 03:16:00  ...           0            0            0   \n",
       "1 2016-04-07 01:46:00  ...           0            0            0   \n",
       "2 2016-04-05 12:47:00  ...           0            0            0   \n",
       "3 2016-03-17 17:40:00  ...           0            0            0   \n",
       "4 2016-04-06 10:17:00  ...           0            1            0   \n",
       "\n",
       "   brand_sonstige_autos  brand_subaru  brand_suzuki  brand_toyota  \\\n",
       "0                     0             0             0             0   \n",
       "1                     0             0             0             0   \n",
       "2                     0             0             0             0   \n",
       "3                     0             0             0             0   \n",
       "4                     0             0             0             0   \n",
       "\n",
       "   brand_trabant  brand_volkswagen  brand_volvo  \n",
       "0              0                 1            0  \n",
       "1              0                 0            0  \n",
       "2              0                 0            0  \n",
       "3              0                 1            0  \n",
       "4              0                 0            0  \n",
       "\n",
       "[5 rows x 311 columns]"
      ]
     },
     "execution_count": 44,
     "metadata": {},
     "output_type": "execute_result"
    }
   ],
   "source": [
    "# Aplicar OHe a nuestro dataset a travpés de la función get_dummies\n",
    "df_ohe = pd.get_dummies(df, drop_first=True)\n",
    "\n",
    "# Comprobar la transformación\n",
    "df_ohe.head()"
   ]
  },
  {
   "cell_type": "markdown",
   "metadata": {},
   "source": [
    "Asimismo, para nuestro modelo no utilizaremos las caraterísticas de fecha para predecir nuestros valores ya que no son variables importantes y el formato datetime no funciona en la construcción del modelo."
   ]
  },
  {
   "cell_type": "code",
   "execution_count": 45,
   "metadata": {},
   "outputs": [],
   "source": [
    "# Excluir fecha de nuestro dataset\n",
    "df_ohe = df_ohe.drop(columns=['date_crawled', 'date_created', 'last_seen'])"
   ]
  },
  {
   "cell_type": "markdown",
   "metadata": {},
   "source": [
    "Ahora que ya tenemos nuestro datset preparado, prodeceremos a desarrollar nuestro modelo."
   ]
  },
  {
   "cell_type": "code",
   "execution_count": 46,
   "metadata": {},
   "outputs": [],
   "source": [
    "# Crear un conjunto de datos sin valores ausentes en \"not_repaired\" y otro con solo los valores ausentes\n",
    "nan_df_ohe = df_ohe[df_ohe['not_repaired'].isna()]\n",
    "no_nan_df_ohe = df_ohe[df_ohe['not_repaired'].notna()]"
   ]
  },
  {
   "cell_type": "code",
   "execution_count": 47,
   "metadata": {},
   "outputs": [
    {
     "data": {
      "text/plain": [
       "0    0.898211\n",
       "1    0.101789\n",
       "Name: not_repaired, dtype: float64"
      ]
     },
     "execution_count": 47,
     "metadata": {},
     "output_type": "execute_result"
    }
   ],
   "source": [
    "# Determinar features y target del modelo\n",
    "features = no_nan_df_ohe.drop('not_repaired', axis=1)\n",
    "target = no_nan_df_ohe['not_repaired']\n",
    "\n",
    "# Contruir el modelo y lo entrenamos\n",
    "lr_nan = LogisticRegression(random_state=12345, solver='liblinear')\n",
    "lr_nan.fit(features, target)\n",
    "\n",
    "# Determinamos las predicciones\n",
    "predicted_values = lr_nan.predict(nan_df_ohe.drop('not_repaired', axis=1))\n",
    "\n",
    "# Reemplazar los valores ausentes en 'not_repaired' con las predicciones\n",
    "df.loc[df['not_repaired'].isna(), 'not_repaired'] = predicted_values\n",
    "\n",
    "# Transformar \"not_repaired\" a tipo entero\n",
    "df['not_repaired'] = df['not_repaired'].astype('int')\n",
    "\n",
    "# Comprobar cambios\n",
    "df['not_repaired'].value_counts(dropna=False, normalize=True)"
   ]
  },
  {
   "cell_type": "markdown",
   "metadata": {},
   "source": [
    "Finalmente, verificamos que hayamos que ya no hayan valores ausentes en nuestro dataset"
   ]
  },
  {
   "cell_type": "code",
   "execution_count": 48,
   "metadata": {},
   "outputs": [
    {
     "name": "stdout",
     "output_type": "stream",
     "text": [
      "<class 'pandas.core.frame.DataFrame'>\n",
      "RangeIndex: 354369 entries, 0 to 354368\n",
      "Data columns (total 15 columns):\n",
      " #   Column              Non-Null Count   Dtype         \n",
      "---  ------              --------------   -----         \n",
      " 0   date_crawled        354369 non-null  datetime64[ns]\n",
      " 1   price               354369 non-null  int64         \n",
      " 2   vehicle_type        354369 non-null  object        \n",
      " 3   registration_year   354369 non-null  int64         \n",
      " 4   gearbox             354369 non-null  object        \n",
      " 5   power               354369 non-null  int64         \n",
      " 6   model               354369 non-null  object        \n",
      " 7   mileage             354369 non-null  int64         \n",
      " 8   registration_month  354369 non-null  int64         \n",
      " 9   fuel_type           354369 non-null  object        \n",
      " 10  brand               354369 non-null  object        \n",
      " 11  not_repaired        354369 non-null  int64         \n",
      " 12  date_created        354369 non-null  datetime64[ns]\n",
      " 13  postal_code         354369 non-null  int64         \n",
      " 14  last_seen           354369 non-null  datetime64[ns]\n",
      "dtypes: datetime64[ns](3), int64(7), object(5)\n",
      "memory usage: 40.6+ MB\n"
     ]
    }
   ],
   "source": [
    "# Comprobar reemplazo\n",
    "df.info()"
   ]
  },
  {
   "cell_type": "markdown",
   "metadata": {},
   "source": [
    "Ahora comprobaremos nuevamente la cantidad de duplicados y eliminarlos del dataset."
   ]
  },
  {
   "cell_type": "code",
   "execution_count": 49,
   "metadata": {},
   "outputs": [
    {
     "data": {
      "text/plain": [
       "307"
      ]
     },
     "execution_count": 49,
     "metadata": {},
     "output_type": "execute_result"
    }
   ],
   "source": [
    "# Verificar la cantidad de duplicados\n",
    "df.duplicated().sum()"
   ]
  },
  {
   "cell_type": "code",
   "execution_count": 50,
   "metadata": {},
   "outputs": [
    {
     "data": {
      "text/plain": [
       "0"
      ]
     },
     "execution_count": 50,
     "metadata": {},
     "output_type": "execute_result"
    }
   ],
   "source": [
    "# Eliminar datos registros duplicados\n",
    "df.drop_duplicates(inplace=True)\n",
    "\n",
    "# Verificar eliminación de duplicados\n",
    "df.duplicated().sum()"
   ]
  },
  {
   "cell_type": "markdown",
   "metadata": {},
   "source": [
    "### Valores atípicos"
   ]
  },
  {
   "cell_type": "markdown",
   "metadata": {},
   "source": [
    "Luego de haber tratado los valores ausentes de nuestro dataset, trataremos los valores atípicos. Para esto, analizaremos más a detalle cada columna que contenga valores atípicos y, con ello, estableceremos la mejor manera de tratarlos. Para el análisis, desarrollaremos una función que permita graficar diagramas de caja para cada caso."
   ]
  },
  {
   "cell_type": "code",
   "execution_count": 51,
   "metadata": {},
   "outputs": [],
   "source": [
    "# Crear función apra crear boxplot\n",
    "def boxplot_function(df, column, ylim=None, color=\"slategray\"):\n",
    "    sns.set_style('whitegrid')\n",
    "    \n",
    "    Q1 = df[column].quantile(0.25)\n",
    "    Q3 = df[column].quantile(0.75)\n",
    "    IQR = Q3 - Q1\n",
    "    \n",
    "    # Establecer propiedad de marcadores outliers\n",
    "    flierprops = dict(marker='o', markerfacecolor='none', markersize=8, linestyle='none', markeredgecolor='slategray')\n",
    "\n",
    "    # Usar seaborn para crear gráfico\n",
    "    plt.figure(figsize=(8, 6))\n",
    "    sns.boxplot(data=df, y=column, color=color, orient='v', flierprops=flierprops)\n",
    "\n",
    "    # Establecer límite del eje y\n",
    "    if ylim is not None:\n",
    "        plt.ylim(ylim)\n",
    "\n",
    "    # Anotar cuartiles, median y potenciales outliers\n",
    "    plt.axhline(y=(Q1-1.5*IQR), color='tomato', linestyle='solid')\n",
    "    plt.axhline(y=(Q3+1.5*IQR), color='tomato', linestyle='solid')\n",
    "\n",
    "    # Andir títulos y etiquetas\n",
    "    plt.title(f'Boxplot of {column}', fontsize=18, fontweight='bold')\n",
    "    plt.xlabel('Values', fontsize=14)\n",
    "    plt.ylabel(column, fontsize=14)\n",
    "\n",
    "    plt.show()"
   ]
  },
  {
   "cell_type": "markdown",
   "metadata": {},
   "source": [
    "#### Valores atípicos `registration_year`"
   ]
  },
  {
   "cell_type": "markdown",
   "metadata": {},
   "source": [
    "Ahora grafiquemos el diagram de caja para `registration_year`, tomando en cuenta las fechas en las que se registraron la mayoría de usuarios."
   ]
  },
  {
   "cell_type": "code",
   "execution_count": 52,
   "metadata": {},
   "outputs": [
    {
     "data": {
      "image/png": "[encoded data removed]",
      "text/plain": [
       "<Figure size 576x432 with 1 Axes>"
      ]
     },
     "metadata": {},
     "output_type": "display_data"
    }
   ],
   "source": [
    "# Graficar diagrama de cajas de 'registration_year'\n",
    "boxplot_function(df, 'registration_year', (1940, 2300))"
   ]
  },
  {
   "cell_type": "markdown",
   "metadata": {},
   "source": [
    "Como podemos ver hay años que superan la fecha actual y años que podríar ser menores a la creación del auto (1886). Comparemos las fechas matriculación del auto con las de registros de perfiles. "
   ]
  },
  {
   "cell_type": "code",
   "execution_count": 53,
   "metadata": {},
   "outputs": [
    {
     "name": "stdout",
     "output_type": "stream",
     "text": [
      "Fecha más antigua de registro: 2014-03-10 00:00:00\n",
      "Fecha más reciente de regsitro: 2016-04-07 00:00:00\n",
      "Número de años que abarcan los datos: 2\n"
     ]
    }
   ],
   "source": [
    "print(f'''Fecha más antigua de registro: {df['date_created'].min()}\n",
    "Fecha más reciente de regsitro: {df['date_created'].max()}\n",
    "Número de años que abarcan los datos: {df['date_created'].dt.year.max() - df['date_created'].dt.year.min()}''')\n"
   ]
  },
  {
   "cell_type": "markdown",
   "metadata": {},
   "source": [
    "Tomando en cuenta que la fecha de registro de perfiles en la plataforma solo abarca hasta el 2016 y el año de creación del auto fue en 1886, tomaremos solo en cuenta los vehículos matriculados entre 1886 y 2016."
   ]
  },
  {
   "cell_type": "code",
   "execution_count": 54,
   "metadata": {},
   "outputs": [
    {
     "data": {
      "text/plain": [
       "count    339467.000000\n",
       "mean       2002.481929\n",
       "std           7.091744\n",
       "min        1910.000000\n",
       "25%        1999.000000\n",
       "50%        2003.000000\n",
       "75%        2007.000000\n",
       "max        2016.000000\n",
       "Name: registration_year, dtype: float64"
      ]
     },
     "execution_count": 54,
     "metadata": {},
     "output_type": "execute_result"
    }
   ],
   "source": [
    "# Filtrar años de registro\n",
    "df_filtered = df.query('registration_year>=1886 and registration_year<=2016')\n",
    "\n",
    "# Comprobar filtrado\n",
    "df_filtered['registration_year'].describe()"
   ]
  },
  {
   "cell_type": "code",
   "execution_count": 55,
   "metadata": {},
   "outputs": [
    {
     "name": "stdout",
     "output_type": "stream",
     "text": [
      "Procentaje de valores filtrados: 4.122159395812033\n",
      "Tamaño del nuevo dataset filtrado: 339467\n"
     ]
    }
   ],
   "source": [
    "print(f'Procentaje de valores filtrados: {(len(df) - len(df_filtered))*100/len(df)}')\n",
    "print(f'Tamaño del nuevo dataset filtrado: {len(df_filtered)}')"
   ]
  },
  {
   "cell_type": "markdown",
   "metadata": {},
   "source": [
    "#### Valores atípicos `price`"
   ]
  },
  {
   "cell_type": "code",
   "execution_count": 56,
   "metadata": {},
   "outputs": [
    {
     "data": {
      "image/png": "[encoded data removed]",
      "text/plain": [
       "<Figure size 576x432 with 1 Axes>"
      ]
     },
     "metadata": {},
     "output_type": "display_data"
    }
   ],
   "source": [
    "# Graficar diagrama de cajas de 'registration_year'\n",
    "boxplot_function(df_filtered, 'price', (-10000, 25000))"
   ]
  },
  {
   "cell_type": "markdown",
   "metadata": {},
   "source": [
    "En cuanto al precio registrado de los vehículos, podemos observar que hay una gran cantidad de valores cercanos a 0 en nuestro dataset. Estos valores son muy extraños para la venta de un vehículo y puede suponer, como ocurre en otras plataformas, que los usarios prefieren no poner precio y que se han contactados por el posible comprador.\n",
    "\n",
    "Para efectos de nuestro modelo, solo tendremos en cuenta los registros con un precio de venta mayor o igual a los 99 euros."
   ]
  },
  {
   "cell_type": "code",
   "execution_count": 57,
   "metadata": {},
   "outputs": [
    {
     "data": {
      "text/plain": [
       "count    327127.000000\n",
       "mean       4639.459131\n",
       "std        4546.087567\n",
       "min          99.000000\n",
       "25%        1200.000000\n",
       "50%        2950.000000\n",
       "75%        6700.000000\n",
       "max       20000.000000\n",
       "Name: price, dtype: float64"
      ]
     },
     "execution_count": 57,
     "metadata": {},
     "output_type": "execute_result"
    }
   ],
   "source": [
    "# Filtrar precio\n",
    "df_filtered = df_filtered.query('price >= 99')\n",
    "\n",
    "# Comprobar filtrado\n",
    "df_filtered['price'].describe()"
   ]
  },
  {
   "cell_type": "code",
   "execution_count": 58,
   "metadata": {},
   "outputs": [
    {
     "name": "stdout",
     "output_type": "stream",
     "text": [
      "Porcentaje de valores filtrados: 3.6478828436108297\n"
     ]
    }
   ],
   "source": [
    "print(f'Porcentaje de valores filtrados: {(339512 - len(df_filtered))*100/339512}')"
   ]
  },
  {
   "cell_type": "code",
   "execution_count": 59,
   "metadata": {},
   "outputs": [
    {
     "name": "stdout",
     "output_type": "stream",
     "text": [
      "Porcentaje de valores atípicos filtrados hasta el momento: 7.607424688331422\n"
     ]
    }
   ],
   "source": [
    "print(f'Porcentaje de valores atípicos filtrados hasta el momento: {(len(df) - len(df_filtered))*100/len(df)}')"
   ]
  },
  {
   "cell_type": "markdown",
   "metadata": {},
   "source": [
    "#### Valores atípicos `power`"
   ]
  },
  {
   "cell_type": "code",
   "execution_count": 60,
   "metadata": {},
   "outputs": [
    {
     "data": {
      "image/png": "[encoded data removed]",
      "text/plain": [
       "<Figure size 576x432 with 1 Axes>"
      ]
     },
     "metadata": {},
     "output_type": "display_data"
    }
   ],
   "source": [
    "# Graficar diagrama de cajas de 'power'\n",
    "boxplot_function(df_filtered, 'power', (-200, 3000))"
   ]
  },
  {
   "cell_type": "markdown",
   "metadata": {},
   "source": [
    "Teniendo en cuenta que la potencia mínima de un auto es de **60cv** y la máxima es de **1800cv**, los valores mostrados en el gráficos muestran valores cercanos a 0 y superiores a 1800cv. Para los casos menos a 60cv, los rellenaremos con `NaN` y buscaremos una forma de reemplazarlos utilizando otras variables. Y para los casos mayores a 2000cv, los consideraremos como atípicos y los filtraremos de nuestro dataset."
   ]
  },
  {
   "cell_type": "code",
   "execution_count": 61,
   "metadata": {},
   "outputs": [
    {
     "data": {
      "text/plain": [
       "count    273680.000000\n",
       "mean        127.127726\n",
       "std          62.304352\n",
       "min          60.000000\n",
       "25%          90.000000\n",
       "50%         116.000000\n",
       "75%         150.000000\n",
       "max        2000.000000\n",
       "Name: power, dtype: float64"
      ]
     },
     "execution_count": 61,
     "metadata": {},
     "output_type": "execute_result"
    }
   ],
   "source": [
    "# Filtrar power\n",
    "df_filtered = df_filtered.query('power <= 2000')\n",
    "\n",
    "# Convertir valores menos a 60cv a 'NaN'\n",
    "df_filtered.loc[df_filtered['power'] < 60, 'power'] = np.nan\n",
    "\n",
    "# Comprobar cambios\n",
    "df_filtered['power'].describe()"
   ]
  },
  {
   "cell_type": "code",
   "execution_count": 62,
   "metadata": {},
   "outputs": [
    {
     "name": "stdout",
     "output_type": "stream",
     "text": [
      "Porcentaje de valores NaN: 16.3124644523677\n",
      "Porcentaje de valores anormales eliminados en total: 7.635950765685106\n",
      "Tamaño del dataset filtrado: 327026\n"
     ]
    }
   ],
   "source": [
    "nan_power = df_filtered[df_filtered['power'].isna()]\n",
    "print(f'Porcentaje de valores NaN: {nan_power.shape[0]/len(df_filtered)*100}')\n",
    "print(f'Porcentaje de valores anormales eliminados en total: {(len(df) - len(df_filtered))*100/len(df)}')\n",
    "print(f'Tamaño del dataset filtrado: {len(df_filtered)}')"
   ]
  },
  {
   "cell_type": "markdown",
   "metadata": {},
   "source": [
    "Tenemos un cantidad significativa de valores `NaN`, rellenaremos estos en función del modelo del vehículo."
   ]
  },
  {
   "cell_type": "code",
   "execution_count": 63,
   "metadata": {},
   "outputs": [
    {
     "data": {
      "text/html": [
       "<div>\n",
       "<style scoped>\n",
       "    .dataframe tbody tr th:only-of-type {\n",
       "        vertical-align: middle;\n",
       "    }\n",
       "\n",
       "    .dataframe tbody tr th {\n",
       "        vertical-align: top;\n",
       "    }\n",
       "\n",
       "    .dataframe thead th {\n",
       "        text-align: right;\n",
       "    }\n",
       "</style>\n",
       "<table border=\"1\" class=\"dataframe\">\n",
       "  <thead>\n",
       "    <tr style=\"text-align: right;\">\n",
       "      <th></th>\n",
       "      <th>power</th>\n",
       "    </tr>\n",
       "    <tr>\n",
       "      <th>model</th>\n",
       "      <th></th>\n",
       "    </tr>\n",
       "  </thead>\n",
       "  <tbody>\n",
       "    <tr>\n",
       "      <th>100</th>\n",
       "      <td>133.0</td>\n",
       "    </tr>\n",
       "    <tr>\n",
       "      <th>145</th>\n",
       "      <td>103.0</td>\n",
       "    </tr>\n",
       "    <tr>\n",
       "      <th>147</th>\n",
       "      <td>120.0</td>\n",
       "    </tr>\n",
       "    <tr>\n",
       "      <th>156</th>\n",
       "      <td>150.0</td>\n",
       "    </tr>\n",
       "    <tr>\n",
       "      <th>159</th>\n",
       "      <td>170.0</td>\n",
       "    </tr>\n",
       "    <tr>\n",
       "      <th>...</th>\n",
       "      <td>...</td>\n",
       "    </tr>\n",
       "    <tr>\n",
       "      <th>yaris</th>\n",
       "      <td>75.0</td>\n",
       "    </tr>\n",
       "    <tr>\n",
       "      <th>yeti</th>\n",
       "      <td>110.0</td>\n",
       "    </tr>\n",
       "    <tr>\n",
       "      <th>ypsilon</th>\n",
       "      <td>60.0</td>\n",
       "    </tr>\n",
       "    <tr>\n",
       "      <th>z_reihe</th>\n",
       "      <td>170.0</td>\n",
       "    </tr>\n",
       "    <tr>\n",
       "      <th>zafira</th>\n",
       "      <td>125.0</td>\n",
       "    </tr>\n",
       "  </tbody>\n",
       "</table>\n",
       "<p>248 rows × 1 columns</p>\n",
       "</div>"
      ],
      "text/plain": [
       "         power\n",
       "model         \n",
       "100      133.0\n",
       "145      103.0\n",
       "147      120.0\n",
       "156      150.0\n",
       "159      170.0\n",
       "...        ...\n",
       "yaris     75.0\n",
       "yeti     110.0\n",
       "ypsilon   60.0\n",
       "z_reihe  170.0\n",
       "zafira   125.0\n",
       "\n",
       "[248 rows x 1 columns]"
      ]
     },
     "execution_count": 63,
     "metadata": {},
     "output_type": "execute_result"
    }
   ],
   "source": [
    "# Crear tabla para reemplazar los valores nulos\n",
    "power_type_without_nan = df_filtered.dropna(subset=['power'])\n",
    "\n",
    "power_model = power_type_without_nan.pivot_table(index=['model'], values='power', aggfunc='median')\n",
    "power_model"
   ]
  },
  {
   "cell_type": "code",
   "execution_count": 64,
   "metadata": {},
   "outputs": [],
   "source": [
    "# Crear función\n",
    "def fill_power(row):\n",
    "    model = row['model']\n",
    "    power = row['power']\n",
    "    \n",
    "    if pd.isna(power):\n",
    "        try:\n",
    "            return power_model.loc[model, 'power']\n",
    "        except:\n",
    "            return np.nan\n",
    "    return power"
   ]
  },
  {
   "cell_type": "code",
   "execution_count": 65,
   "metadata": {},
   "outputs": [
    {
     "data": {
      "text/plain": [
       "60.0"
      ]
     },
     "execution_count": 65,
     "metadata": {},
     "output_type": "execute_result"
    }
   ],
   "source": [
    "# Comprobar que la función trabaje correctamente\n",
    "row_values=['ypsilon', np.nan]\n",
    "row_columns=['model', 'power']\n",
    "row = pd.Series(data=row_values, index=row_columns)\n",
    "fill_power(row)"
   ]
  },
  {
   "cell_type": "code",
   "execution_count": 66,
   "metadata": {},
   "outputs": [],
   "source": [
    "# Aplicar la función\n",
    "df_filtered['power'] = df_filtered.apply(fill_power, axis = 1)"
   ]
  },
  {
   "cell_type": "code",
   "execution_count": 67,
   "metadata": {},
   "outputs": [
    {
     "data": {
      "text/plain": [
       "396"
      ]
     },
     "execution_count": 67,
     "metadata": {},
     "output_type": "execute_result"
    }
   ],
   "source": [
    "# Comprobar resultados\n",
    "df_filtered['power'].isnull().sum()"
   ]
  },
  {
   "cell_type": "code",
   "execution_count": 68,
   "metadata": {},
   "outputs": [
    {
     "name": "stdout",
     "output_type": "stream",
     "text": [
      "Porcentaje de valores NaN: 0.121091289377603\n",
      "Porcentaje de valores anormales eliminados en total: 7.635950765685106\n",
      "Tamaño del dataset filtrado: 327026\n"
     ]
    }
   ],
   "source": [
    "nan_power = df_filtered[df_filtered['power'].isna()]\n",
    "print(f'Porcentaje de valores NaN: {nan_power.shape[0]/len(df_filtered)*100}')\n",
    "print(f'Porcentaje de valores anormales eliminados en total: {(len(df) - len(df_filtered))*100/len(df)}')\n",
    "print(f'Tamaño del dataset filtrado: {len(df_filtered)}')"
   ]
  },
  {
   "cell_type": "markdown",
   "metadata": {},
   "source": [
    "Como hemos corroborado, no hemos podido rellenar todos los valores `NaN` utilizando el modelo de vehículo. Ahora utilizaremos el tipo de vehículo para rellenar estos valores restantes."
   ]
  },
  {
   "cell_type": "code",
   "execution_count": 69,
   "metadata": {},
   "outputs": [
    {
     "data": {
      "text/html": [
       "<div>\n",
       "<style scoped>\n",
       "    .dataframe tbody tr th:only-of-type {\n",
       "        vertical-align: middle;\n",
       "    }\n",
       "\n",
       "    .dataframe tbody tr th {\n",
       "        vertical-align: top;\n",
       "    }\n",
       "\n",
       "    .dataframe thead th {\n",
       "        text-align: right;\n",
       "    }\n",
       "</style>\n",
       "<table border=\"1\" class=\"dataframe\">\n",
       "  <thead>\n",
       "    <tr style=\"text-align: right;\">\n",
       "      <th></th>\n",
       "      <th>power</th>\n",
       "    </tr>\n",
       "    <tr>\n",
       "      <th>vehicle_type</th>\n",
       "      <th></th>\n",
       "    </tr>\n",
       "  </thead>\n",
       "  <tbody>\n",
       "    <tr>\n",
       "      <th>bus</th>\n",
       "      <td>116.0</td>\n",
       "    </tr>\n",
       "    <tr>\n",
       "      <th>convertible</th>\n",
       "      <td>125.0</td>\n",
       "    </tr>\n",
       "    <tr>\n",
       "      <th>coupe</th>\n",
       "      <td>150.0</td>\n",
       "    </tr>\n",
       "    <tr>\n",
       "      <th>other</th>\n",
       "      <td>102.0</td>\n",
       "    </tr>\n",
       "    <tr>\n",
       "      <th>sedan</th>\n",
       "      <td>120.0</td>\n",
       "    </tr>\n",
       "    <tr>\n",
       "      <th>small</th>\n",
       "      <td>75.0</td>\n",
       "    </tr>\n",
       "    <tr>\n",
       "      <th>suv</th>\n",
       "      <td>150.0</td>\n",
       "    </tr>\n",
       "    <tr>\n",
       "      <th>wagon</th>\n",
       "      <td>136.0</td>\n",
       "    </tr>\n",
       "  </tbody>\n",
       "</table>\n",
       "</div>"
      ],
      "text/plain": [
       "              power\n",
       "vehicle_type       \n",
       "bus           116.0\n",
       "convertible   125.0\n",
       "coupe         150.0\n",
       "other         102.0\n",
       "sedan         120.0\n",
       "small          75.0\n",
       "suv           150.0\n",
       "wagon         136.0"
      ]
     },
     "execution_count": 69,
     "metadata": {},
     "output_type": "execute_result"
    }
   ],
   "source": [
    "# Crear tabla que usaremos para reemplazar los valores nulos\n",
    "power_type_without_nan = df_filtered.dropna(subset=['power'])\n",
    "\n",
    "power_model_vehicle_type = power_type_without_nan.pivot_table(index=['vehicle_type'], values='power', aggfunc='median')\n",
    "power_model_vehicle_type"
   ]
  },
  {
   "cell_type": "code",
   "execution_count": 70,
   "metadata": {},
   "outputs": [],
   "source": [
    "# Crear función\n",
    "def fill_power_vehicle_type(row):\n",
    "    vehicle_type = row['vehicle_type']\n",
    "    power = row['power']\n",
    "    \n",
    "    if pd.isna(power):\n",
    "        try:\n",
    "            return power_model_vehicle_type.loc[vehicle_type, 'power']\n",
    "        except:\n",
    "            return np.nan\n",
    "    return power"
   ]
  },
  {
   "cell_type": "code",
   "execution_count": 71,
   "metadata": {},
   "outputs": [
    {
     "data": {
      "text/plain": [
       "120.0"
      ]
     },
     "execution_count": 71,
     "metadata": {},
     "output_type": "execute_result"
    }
   ],
   "source": [
    "# Comprobar que la función trabaje correctamente\n",
    "row_values=['sedan', np.nan]\n",
    "row_columns=['vehicle_type', 'power']\n",
    "row = pd.Series(data=row_values, index=row_columns)\n",
    "fill_power_vehicle_type(row)"
   ]
  },
  {
   "cell_type": "code",
   "execution_count": 72,
   "metadata": {},
   "outputs": [],
   "source": [
    "# Aplicar la función\n",
    "df_filtered['power'] = df_filtered.apply(fill_power_vehicle_type, axis = 1)"
   ]
  },
  {
   "cell_type": "code",
   "execution_count": 73,
   "metadata": {},
   "outputs": [
    {
     "data": {
      "text/plain": [
       "0"
      ]
     },
     "execution_count": 73,
     "metadata": {},
     "output_type": "execute_result"
    }
   ],
   "source": [
    "# Comprobar resultados\n",
    "df_filtered['power'].isnull().sum()"
   ]
  },
  {
   "cell_type": "code",
   "execution_count": 74,
   "metadata": {},
   "outputs": [
    {
     "name": "stdout",
     "output_type": "stream",
     "text": [
      "Porcentaje de valores NaN: 0.0\n",
      "Porcentaje de valores anormales eliminados en total: 7.635950765685106\n",
      "Tamaño del dataset filtrado: 327026\n"
     ]
    }
   ],
   "source": [
    "nan_power = df_filtered[df_filtered['power'].isna()]\n",
    "print(f'Porcentaje de valores NaN: {nan_power.shape[0]/len(df_filtered)*100}')\n",
    "print(f'Porcentaje de valores anormales eliminados en total: {(len(df) - len(df_filtered))*100/len(df)}')\n",
    "print(f'Tamaño del dataset filtrado: {len(df_filtered)}')"
   ]
  },
  {
   "cell_type": "code",
   "execution_count": 75,
   "metadata": {},
   "outputs": [
    {
     "name": "stdout",
     "output_type": "stream",
     "text": [
      "Porcentaje de valores filtrados: 3.6776314239261056\n"
     ]
    }
   ],
   "source": [
    "print(f'Porcentaje de valores filtrados: {(339512 - len(df_filtered))*100/339512}')"
   ]
  },
  {
   "cell_type": "code",
   "execution_count": 76,
   "metadata": {},
   "outputs": [
    {
     "name": "stdout",
     "output_type": "stream",
     "text": [
      "Porcentaje de valores atípicos filtrados hasta el momento: 7.635950765685106\n"
     ]
    }
   ],
   "source": [
    "print(f'Porcentaje de valores atípicos filtrados hasta el momento: {(len(df) - len(df_filtered))*100/len(df)}')"
   ]
  },
  {
   "cell_type": "markdown",
   "metadata": {},
   "source": [
    "#### Valores atípicos `registration_month`"
   ]
  },
  {
   "cell_type": "markdown",
   "metadata": {},
   "source": [
    "Como vimos anteriormente, `registration_month` cuenta con muchos registros iguales a 0. Esto puedo ocurrir debido a que usarios no colocaron datos en este campo. Trataremos estos valores reemplazandolos por la mediana de la columna."
   ]
  },
  {
   "cell_type": "code",
   "execution_count": 77,
   "metadata": {},
   "outputs": [
    {
     "data": {
      "text/plain": [
       "3     0.099494\n",
       "6     0.090525\n",
       "0     0.086424\n",
       "4     0.084137\n",
       "5     0.083813\n",
       "7     0.078468\n",
       "10    0.075548\n",
       "11    0.070025\n",
       "12    0.069701\n",
       "9     0.069016\n",
       "1     0.066560\n",
       "8     0.065032\n",
       "2     0.061258\n",
       "Name: registration_month, dtype: float64"
      ]
     },
     "execution_count": 77,
     "metadata": {},
     "output_type": "execute_result"
    }
   ],
   "source": [
    "# Verificar valores en registration_month\n",
    "df_filtered['registration_month'].value_counts(normalize=True)"
   ]
  },
  {
   "cell_type": "code",
   "execution_count": 78,
   "metadata": {},
   "outputs": [
    {
     "data": {
      "text/plain": [
       "6     0.176949\n",
       "3     0.099494\n",
       "4     0.084137\n",
       "5     0.083813\n",
       "7     0.078468\n",
       "10    0.075548\n",
       "11    0.070025\n",
       "12    0.069701\n",
       "9     0.069016\n",
       "1     0.066560\n",
       "8     0.065032\n",
       "2     0.061258\n",
       "Name: registration_month, dtype: float64"
      ]
     },
     "execution_count": 78,
     "metadata": {},
     "output_type": "execute_result"
    }
   ],
   "source": [
    "# Reemplazar los valores 0 con la mediana de la columna\n",
    "df_filtered['registration_month'] = (df_filtered['registration_month'].replace(\n",
    "    0, df_filtered['registration_month'].median())).astype('int')\n",
    "\n",
    "# Comprobar resultados\n",
    "df_filtered['registration_month'].value_counts(normalize=True)"
   ]
  },
  {
   "cell_type": "markdown",
   "metadata": {},
   "source": [
    "**Cálculo de edad del vehículo**"
   ]
  },
  {
   "cell_type": "markdown",
   "metadata": {},
   "source": [
    "Por último añadiremos una columna adiccional a nuestro dataset que nos servirá para nuestro modelo. Esta columna será `car_age`, la diferencia entre la fecha en que se creo el perfil del usuarios y el años de matriculación del vehículo."
   ]
  },
  {
   "cell_type": "code",
   "execution_count": 79,
   "metadata": {},
   "outputs": [
    {
     "data": {
      "text/plain": [
       "count    327026.000000\n",
       "mean         13.376796\n",
       "std           6.864564\n",
       "min           0.000000\n",
       "25%           9.000000\n",
       "50%          13.000000\n",
       "75%          17.000000\n",
       "max         106.000000\n",
       "Name: car_age, dtype: float64"
      ]
     },
     "execution_count": 79,
     "metadata": {},
     "output_type": "execute_result"
    }
   ],
   "source": [
    "# Calcular \"car_age\"\n",
    "df_filtered['car_age'] = df_filtered['date_created'].dt.year - df_filtered['registration_year']\n",
    "\n",
    "# Comporbar valores de \"car_age\"\n",
    "df_filtered['car_age'].describe()"
   ]
  },
  {
   "cell_type": "markdown",
   "metadata": {},
   "source": [
    "**Datset Final**"
   ]
  },
  {
   "cell_type": "markdown",
   "metadata": {},
   "source": [
    "Por último, filtramos nuestro dataset para obtener solo con las columnas que usaremos en nuestro modelo. En este caso, filtraremos las columnas referidas a fechas, código postal, mes de registro del vehículo y fecha de matriculación del vehículo (esta se hará referencia en el modelo con la columna `car_age`)."
   ]
  },
  {
   "cell_type": "code",
   "execution_count": 80,
   "metadata": {},
   "outputs": [
    {
     "data": {
      "text/html": [
       "<div>\n",
       "<style scoped>\n",
       "    .dataframe tbody tr th:only-of-type {\n",
       "        vertical-align: middle;\n",
       "    }\n",
       "\n",
       "    .dataframe tbody tr th {\n",
       "        vertical-align: top;\n",
       "    }\n",
       "\n",
       "    .dataframe thead th {\n",
       "        text-align: right;\n",
       "    }\n",
       "</style>\n",
       "<table border=\"1\" class=\"dataframe\">\n",
       "  <thead>\n",
       "    <tr style=\"text-align: right;\">\n",
       "      <th></th>\n",
       "      <th>price</th>\n",
       "      <th>vehicle_type</th>\n",
       "      <th>gearbox</th>\n",
       "      <th>power</th>\n",
       "      <th>model</th>\n",
       "      <th>mileage</th>\n",
       "      <th>fuel_type</th>\n",
       "      <th>brand</th>\n",
       "      <th>not_repaired</th>\n",
       "      <th>car_age</th>\n",
       "    </tr>\n",
       "  </thead>\n",
       "  <tbody>\n",
       "    <tr>\n",
       "      <th>0</th>\n",
       "      <td>480</td>\n",
       "      <td>sedan</td>\n",
       "      <td>manual</td>\n",
       "      <td>101.0</td>\n",
       "      <td>golf</td>\n",
       "      <td>150000</td>\n",
       "      <td>gasoline</td>\n",
       "      <td>volkswagen</td>\n",
       "      <td>0</td>\n",
       "      <td>23</td>\n",
       "    </tr>\n",
       "    <tr>\n",
       "      <th>1</th>\n",
       "      <td>18300</td>\n",
       "      <td>coupe</td>\n",
       "      <td>manual</td>\n",
       "      <td>190.0</td>\n",
       "      <td>a4</td>\n",
       "      <td>125000</td>\n",
       "      <td>gasoline</td>\n",
       "      <td>audi</td>\n",
       "      <td>1</td>\n",
       "      <td>5</td>\n",
       "    </tr>\n",
       "    <tr>\n",
       "      <th>2</th>\n",
       "      <td>9800</td>\n",
       "      <td>suv</td>\n",
       "      <td>auto</td>\n",
       "      <td>163.0</td>\n",
       "      <td>grand</td>\n",
       "      <td>125000</td>\n",
       "      <td>gasoline</td>\n",
       "      <td>jeep</td>\n",
       "      <td>0</td>\n",
       "      <td>12</td>\n",
       "    </tr>\n",
       "    <tr>\n",
       "      <th>3</th>\n",
       "      <td>1500</td>\n",
       "      <td>small</td>\n",
       "      <td>manual</td>\n",
       "      <td>75.0</td>\n",
       "      <td>golf</td>\n",
       "      <td>150000</td>\n",
       "      <td>gasoline</td>\n",
       "      <td>volkswagen</td>\n",
       "      <td>0</td>\n",
       "      <td>15</td>\n",
       "    </tr>\n",
       "    <tr>\n",
       "      <th>4</th>\n",
       "      <td>3600</td>\n",
       "      <td>small</td>\n",
       "      <td>manual</td>\n",
       "      <td>69.0</td>\n",
       "      <td>fabia</td>\n",
       "      <td>90000</td>\n",
       "      <td>gasoline</td>\n",
       "      <td>skoda</td>\n",
       "      <td>0</td>\n",
       "      <td>8</td>\n",
       "    </tr>\n",
       "  </tbody>\n",
       "</table>\n",
       "</div>"
      ],
      "text/plain": [
       "   price vehicle_type gearbox  power  model  mileage fuel_type       brand  \\\n",
       "0    480        sedan  manual  101.0   golf   150000  gasoline  volkswagen   \n",
       "1  18300        coupe  manual  190.0     a4   125000  gasoline        audi   \n",
       "2   9800          suv    auto  163.0  grand   125000  gasoline        jeep   \n",
       "3   1500        small  manual   75.0   golf   150000  gasoline  volkswagen   \n",
       "4   3600        small  manual   69.0  fabia    90000  gasoline       skoda   \n",
       "\n",
       "   not_repaired  car_age  \n",
       "0             0       23  \n",
       "1             1        5  \n",
       "2             0       12  \n",
       "3             0       15  \n",
       "4             0        8  "
      ]
     },
     "execution_count": 80,
     "metadata": {},
     "output_type": "execute_result"
    }
   ],
   "source": [
    "# Obtener dataset final\n",
    "columnas = ['date_crawled', 'registration_year', 'registration_month', 'date_created', 'postal_code', 'last_seen']\n",
    "df_final = df_filtered.drop(columnas, axis=1)\n",
    "df_final.head()"
   ]
  },
  {
   "cell_type": "code",
   "execution_count": 81,
   "metadata": {},
   "outputs": [
    {
     "data": {
      "text/html": [
       "<div>\n",
       "<style scoped>\n",
       "    .dataframe tbody tr th:only-of-type {\n",
       "        vertical-align: middle;\n",
       "    }\n",
       "\n",
       "    .dataframe tbody tr th {\n",
       "        vertical-align: top;\n",
       "    }\n",
       "\n",
       "    .dataframe thead th {\n",
       "        text-align: right;\n",
       "    }\n",
       "</style>\n",
       "<table border=\"1\" class=\"dataframe\">\n",
       "  <thead>\n",
       "    <tr style=\"text-align: right;\">\n",
       "      <th></th>\n",
       "      <th>price</th>\n",
       "      <th>power</th>\n",
       "      <th>mileage</th>\n",
       "      <th>not_repaired</th>\n",
       "      <th>car_age</th>\n",
       "    </tr>\n",
       "  </thead>\n",
       "  <tbody>\n",
       "    <tr>\n",
       "      <th>count</th>\n",
       "      <td>327026.000000</td>\n",
       "      <td>327026.000000</td>\n",
       "      <td>327026.000000</td>\n",
       "      <td>327026.000000</td>\n",
       "      <td>327026.000000</td>\n",
       "    </tr>\n",
       "    <tr>\n",
       "      <th>mean</th>\n",
       "      <td>4639.752610</td>\n",
       "      <td>122.181527</td>\n",
       "      <td>128360.069230</td>\n",
       "      <td>0.099139</td>\n",
       "      <td>13.376796</td>\n",
       "    </tr>\n",
       "    <tr>\n",
       "      <th>std</th>\n",
       "      <td>4546.285188</td>\n",
       "      <td>59.623588</td>\n",
       "      <td>37258.435014</td>\n",
       "      <td>0.298849</td>\n",
       "      <td>6.864564</td>\n",
       "    </tr>\n",
       "    <tr>\n",
       "      <th>min</th>\n",
       "      <td>99.000000</td>\n",
       "      <td>60.000000</td>\n",
       "      <td>5000.000000</td>\n",
       "      <td>0.000000</td>\n",
       "      <td>0.000000</td>\n",
       "    </tr>\n",
       "    <tr>\n",
       "      <th>25%</th>\n",
       "      <td>1200.000000</td>\n",
       "      <td>80.000000</td>\n",
       "      <td>125000.000000</td>\n",
       "      <td>0.000000</td>\n",
       "      <td>9.000000</td>\n",
       "    </tr>\n",
       "    <tr>\n",
       "      <th>50%</th>\n",
       "      <td>2950.000000</td>\n",
       "      <td>111.000000</td>\n",
       "      <td>150000.000000</td>\n",
       "      <td>0.000000</td>\n",
       "      <td>13.000000</td>\n",
       "    </tr>\n",
       "    <tr>\n",
       "      <th>75%</th>\n",
       "      <td>6700.000000</td>\n",
       "      <td>145.000000</td>\n",
       "      <td>150000.000000</td>\n",
       "      <td>0.000000</td>\n",
       "      <td>17.000000</td>\n",
       "    </tr>\n",
       "    <tr>\n",
       "      <th>max</th>\n",
       "      <td>20000.000000</td>\n",
       "      <td>2000.000000</td>\n",
       "      <td>150000.000000</td>\n",
       "      <td>1.000000</td>\n",
       "      <td>106.000000</td>\n",
       "    </tr>\n",
       "  </tbody>\n",
       "</table>\n",
       "</div>"
      ],
      "text/plain": [
       "               price          power        mileage   not_repaired  \\\n",
       "count  327026.000000  327026.000000  327026.000000  327026.000000   \n",
       "mean     4639.752610     122.181527  128360.069230       0.099139   \n",
       "std      4546.285188      59.623588   37258.435014       0.298849   \n",
       "min        99.000000      60.000000    5000.000000       0.000000   \n",
       "25%      1200.000000      80.000000  125000.000000       0.000000   \n",
       "50%      2950.000000     111.000000  150000.000000       0.000000   \n",
       "75%      6700.000000     145.000000  150000.000000       0.000000   \n",
       "max     20000.000000    2000.000000  150000.000000       1.000000   \n",
       "\n",
       "             car_age  \n",
       "count  327026.000000  \n",
       "mean       13.376796  \n",
       "std         6.864564  \n",
       "min         0.000000  \n",
       "25%         9.000000  \n",
       "50%        13.000000  \n",
       "75%        17.000000  \n",
       "max       106.000000  "
      ]
     },
     "execution_count": 81,
     "metadata": {},
     "output_type": "execute_result"
    }
   ],
   "source": [
    "# Ver datos estadísticos\n",
    "df_final.describe()"
   ]
  },
  {
   "cell_type": "code",
   "execution_count": 82,
   "metadata": {},
   "outputs": [
    {
     "name": "stdout",
     "output_type": "stream",
     "text": [
      "<class 'pandas.core.frame.DataFrame'>\n",
      "Int64Index: 327026 entries, 0 to 354368\n",
      "Data columns (total 10 columns):\n",
      " #   Column        Non-Null Count   Dtype  \n",
      "---  ------        --------------   -----  \n",
      " 0   price         327026 non-null  int64  \n",
      " 1   vehicle_type  327026 non-null  object \n",
      " 2   gearbox       327026 non-null  object \n",
      " 3   power         327026 non-null  float64\n",
      " 4   model         327026 non-null  object \n",
      " 5   mileage       327026 non-null  int64  \n",
      " 6   fuel_type     327026 non-null  object \n",
      " 7   brand         327026 non-null  object \n",
      " 8   not_repaired  327026 non-null  int64  \n",
      " 9   car_age       327026 non-null  int64  \n",
      "dtypes: float64(1), int64(4), object(5)\n",
      "memory usage: 27.4+ MB\n"
     ]
    }
   ],
   "source": [
    "# Verificar contenido\n",
    "df_final.info()"
   ]
  },
  {
   "cell_type": "markdown",
   "metadata": {},
   "source": [
    "**Análisis de correlación**"
   ]
  },
  {
   "cell_type": "code",
   "execution_count": 83,
   "metadata": {},
   "outputs": [
    {
     "data": {
      "image/png": "[encoded data removed]",
      "text/plain": [
       "<Figure size 1080x720 with 2 Axes>"
      ]
     },
     "metadata": {},
     "output_type": "display_data"
    }
   ],
   "source": [
    "# Calcular la matriz de correlación\n",
    "corr = df_final.corr()\n",
    "\n",
    "# Generar una máscara para el triángulo superior\n",
    "mask = np.triu(np.ones_like(corr, dtype=bool))\n",
    "\n",
    "# Configurar la figura de matplotlib\n",
    "plt.figure(figsize=(15, 10))\n",
    "\n",
    "# Generar un mapa de colores divergente personalizado\n",
    "cmap = sns.diverging_palette(230, 20, as_cmap=True)\n",
    "\n",
    "# Dibujar el mapa de calor con la máscara y la relación de aspecto correcta\n",
    "sns.heatmap(corr, mask=mask, cmap=cmap, vmax=1, vmin=-1, center=0, annot=True, fmt=\".3f\", annot_kws={'size': 10},\n",
    "            square=True, linewidths=.5, cbar_kws={\"shrink\": .5})\n",
    "\n",
    "# Añadir un título al mapa de calor\n",
    "plt.title('Correlation Heatmap', fontsize=20, fontweight='bold')\n",
    "\n",
    "# Mostrar el mapa de calor\n",
    "plt.show()"
   ]
  },
  {
   "cell_type": "markdown",
   "metadata": {},
   "source": [
    "Analizando nuestra matriz podemos concluir lo siguiente:\n",
    "\n",
    "- La correlación entre el precio del vehículo y poder del mismo sigue siendo importante: mayor potencia, a mayor precio se oferta.\n",
    "- Se muestra una correlación negativa entre el precio y los kilometros recorridos del auto se sigue manteniendo, los autos con mayor kilometraje registran un precio más bajo.\n",
    "- Los años del vehículo impacta significativamente en el precio, los vehículos con más años registran menor precio.\n",
    "- Los vehículos reparados tienden a tener un menor precio."
   ]
  },
  {
   "cell_type": "markdown",
   "metadata": {},
   "source": [
    "## Entrenamiento del modelo"
   ]
  },
  {
   "cell_type": "markdown",
   "metadata": {},
   "source": [
    "Luego de haber tratado los valores ausentes y atípicos de nuestro dataset, es momento de construir varios modelos de ML para cumplir con el objetivo de la compañía: determinar el valor de mercado de un vehículo. Para la construcción de modelos. compararemos modelos de regresión lineal, arból de decisión y bosque aletorio con métodos de potenciación de gradiente: `LightGBM`, `CatBoost` y `XGBoost`.\n",
    "\n",
    "En nuestro dataset final, las caraterísticas `brand` y `model` cuentan con 40 y 250 categorías únicas respectivamente, por ello será necesario codifcar esta características para cada modelo, ya que se tratarían de variables de alta cardinalidad. `One-Hot Enconding` será útilizado para regresión lineal, sin embargo no lo será para los modelos de árboles ya que procesan una función a la vez. Por lo que para los modelo de árboles, utilizaremos la codificación de etiquetas.\n",
    "\n",
    "Por último, mediremos la velocidad de entrenamiento y preddición de cada modelo, y la calidad será medida través del `RECM`."
   ]
  },
  {
   "cell_type": "code",
   "execution_count": 84,
   "metadata": {},
   "outputs": [
    {
     "name": "stdout",
     "output_type": "stream",
     "text": [
      "Número de categorías de marca: 40\n",
      "Número de categorías de modelo: 250\n"
     ]
    }
   ],
   "source": [
    "print(f'Número de categorías de marca: {len(df_final[\"brand\"].unique())}')\n",
    "print(f'Número de categorías de modelo: {len(df_final[\"model\"].unique())}')"
   ]
  },
  {
   "cell_type": "markdown",
   "metadata": {},
   "source": [
    "### Regresión Lineal"
   ]
  },
  {
   "cell_type": "markdown",
   "metadata": {},
   "source": [
    "Como especificamos anetiormente, para regresión lineal la codificación **OHE** es la mejor técnica, se codifican las categorías asignándoles la misma importancia a todas, pero sin perder sus diferencias. A su vez, estandarizaremos las características numerícas utilizando **StandarScaler**. Usaremos la regresión lineal como nuestra prueba de cordura, buscando que los métodos de potenciación de gradiente presenten una mejor calidad."
   ]
  },
  {
   "cell_type": "code",
   "execution_count": 85,
   "metadata": {},
   "outputs": [
    {
     "data": {
      "text/html": [
       "<div>\n",
       "<style scoped>\n",
       "    .dataframe tbody tr th:only-of-type {\n",
       "        vertical-align: middle;\n",
       "    }\n",
       "\n",
       "    .dataframe tbody tr th {\n",
       "        vertical-align: top;\n",
       "    }\n",
       "\n",
       "    .dataframe thead th {\n",
       "        text-align: right;\n",
       "    }\n",
       "</style>\n",
       "<table border=\"1\" class=\"dataframe\">\n",
       "  <thead>\n",
       "    <tr style=\"text-align: right;\">\n",
       "      <th></th>\n",
       "      <th>price</th>\n",
       "      <th>power</th>\n",
       "      <th>mileage</th>\n",
       "      <th>not_repaired</th>\n",
       "      <th>car_age</th>\n",
       "      <th>vehicle_type_convertible</th>\n",
       "      <th>vehicle_type_coupe</th>\n",
       "      <th>vehicle_type_other</th>\n",
       "      <th>vehicle_type_sedan</th>\n",
       "      <th>vehicle_type_small</th>\n",
       "      <th>...</th>\n",
       "      <th>brand_seat</th>\n",
       "      <th>brand_skoda</th>\n",
       "      <th>brand_smart</th>\n",
       "      <th>brand_sonstige_autos</th>\n",
       "      <th>brand_subaru</th>\n",
       "      <th>brand_suzuki</th>\n",
       "      <th>brand_toyota</th>\n",
       "      <th>brand_trabant</th>\n",
       "      <th>brand_volkswagen</th>\n",
       "      <th>brand_volvo</th>\n",
       "    </tr>\n",
       "  </thead>\n",
       "  <tbody>\n",
       "    <tr>\n",
       "      <th>0</th>\n",
       "      <td>480</td>\n",
       "      <td>-0.355255</td>\n",
       "      <td>0.580807</td>\n",
       "      <td>0</td>\n",
       "      <td>1.401869</td>\n",
       "      <td>0</td>\n",
       "      <td>0</td>\n",
       "      <td>0</td>\n",
       "      <td>1</td>\n",
       "      <td>0</td>\n",
       "      <td>...</td>\n",
       "      <td>0</td>\n",
       "      <td>0</td>\n",
       "      <td>0</td>\n",
       "      <td>0</td>\n",
       "      <td>0</td>\n",
       "      <td>0</td>\n",
       "      <td>0</td>\n",
       "      <td>0</td>\n",
       "      <td>1</td>\n",
       "      <td>0</td>\n",
       "    </tr>\n",
       "    <tr>\n",
       "      <th>1</th>\n",
       "      <td>18300</td>\n",
       "      <td>1.137445</td>\n",
       "      <td>-0.090183</td>\n",
       "      <td>1</td>\n",
       "      <td>-1.220297</td>\n",
       "      <td>0</td>\n",
       "      <td>1</td>\n",
       "      <td>0</td>\n",
       "      <td>0</td>\n",
       "      <td>0</td>\n",
       "      <td>...</td>\n",
       "      <td>0</td>\n",
       "      <td>0</td>\n",
       "      <td>0</td>\n",
       "      <td>0</td>\n",
       "      <td>0</td>\n",
       "      <td>0</td>\n",
       "      <td>0</td>\n",
       "      <td>0</td>\n",
       "      <td>0</td>\n",
       "      <td>0</td>\n",
       "    </tr>\n",
       "    <tr>\n",
       "      <th>2</th>\n",
       "      <td>9800</td>\n",
       "      <td>0.684604</td>\n",
       "      <td>-0.090183</td>\n",
       "      <td>0</td>\n",
       "      <td>-0.200566</td>\n",
       "      <td>0</td>\n",
       "      <td>0</td>\n",
       "      <td>0</td>\n",
       "      <td>0</td>\n",
       "      <td>0</td>\n",
       "      <td>...</td>\n",
       "      <td>0</td>\n",
       "      <td>0</td>\n",
       "      <td>0</td>\n",
       "      <td>0</td>\n",
       "      <td>0</td>\n",
       "      <td>0</td>\n",
       "      <td>0</td>\n",
       "      <td>0</td>\n",
       "      <td>0</td>\n",
       "      <td>0</td>\n",
       "    </tr>\n",
       "    <tr>\n",
       "      <th>3</th>\n",
       "      <td>1500</td>\n",
       "      <td>-0.791324</td>\n",
       "      <td>0.580807</td>\n",
       "      <td>0</td>\n",
       "      <td>0.236462</td>\n",
       "      <td>0</td>\n",
       "      <td>0</td>\n",
       "      <td>0</td>\n",
       "      <td>0</td>\n",
       "      <td>1</td>\n",
       "      <td>...</td>\n",
       "      <td>0</td>\n",
       "      <td>0</td>\n",
       "      <td>0</td>\n",
       "      <td>0</td>\n",
       "      <td>0</td>\n",
       "      <td>0</td>\n",
       "      <td>0</td>\n",
       "      <td>0</td>\n",
       "      <td>1</td>\n",
       "      <td>0</td>\n",
       "    </tr>\n",
       "    <tr>\n",
       "      <th>4</th>\n",
       "      <td>3600</td>\n",
       "      <td>-0.891956</td>\n",
       "      <td>-1.029569</td>\n",
       "      <td>0</td>\n",
       "      <td>-0.783270</td>\n",
       "      <td>0</td>\n",
       "      <td>0</td>\n",
       "      <td>0</td>\n",
       "      <td>0</td>\n",
       "      <td>1</td>\n",
       "      <td>...</td>\n",
       "      <td>0</td>\n",
       "      <td>1</td>\n",
       "      <td>0</td>\n",
       "      <td>0</td>\n",
       "      <td>0</td>\n",
       "      <td>0</td>\n",
       "      <td>0</td>\n",
       "      <td>0</td>\n",
       "      <td>0</td>\n",
       "      <td>0</td>\n",
       "    </tr>\n",
       "  </tbody>\n",
       "</table>\n",
       "<p>5 rows × 306 columns</p>\n",
       "</div>"
      ],
      "text/plain": [
       "   price     power   mileage  not_repaired   car_age  \\\n",
       "0    480 -0.355255  0.580807             0  1.401869   \n",
       "1  18300  1.137445 -0.090183             1 -1.220297   \n",
       "2   9800  0.684604 -0.090183             0 -0.200566   \n",
       "3   1500 -0.791324  0.580807             0  0.236462   \n",
       "4   3600 -0.891956 -1.029569             0 -0.783270   \n",
       "\n",
       "   vehicle_type_convertible  vehicle_type_coupe  vehicle_type_other  \\\n",
       "0                         0                   0                   0   \n",
       "1                         0                   1                   0   \n",
       "2                         0                   0                   0   \n",
       "3                         0                   0                   0   \n",
       "4                         0                   0                   0   \n",
       "\n",
       "   vehicle_type_sedan  vehicle_type_small  ...  brand_seat  brand_skoda  \\\n",
       "0                   1                   0  ...           0            0   \n",
       "1                   0                   0  ...           0            0   \n",
       "2                   0                   0  ...           0            0   \n",
       "3                   0                   1  ...           0            0   \n",
       "4                   0                   1  ...           0            1   \n",
       "\n",
       "   brand_smart  brand_sonstige_autos  brand_subaru  brand_suzuki  \\\n",
       "0            0                     0             0             0   \n",
       "1            0                     0             0             0   \n",
       "2            0                     0             0             0   \n",
       "3            0                     0             0             0   \n",
       "4            0                     0             0             0   \n",
       "\n",
       "   brand_toyota  brand_trabant  brand_volkswagen  brand_volvo  \n",
       "0             0              0                 1            0  \n",
       "1             0              0                 0            0  \n",
       "2             0              0                 0            0  \n",
       "3             0              0                 1            0  \n",
       "4             0              0                 0            0  \n",
       "\n",
       "[5 rows x 306 columns]"
      ]
     },
     "execution_count": 85,
     "metadata": {},
     "output_type": "execute_result"
    }
   ],
   "source": [
    "# Codificar las características categóricas\n",
    "df_ohe = pd.get_dummies(df_final, drop_first=True)\n",
    "\n",
    "# Establecer las variables numerícas\n",
    "numeric_ohe = ['power', 'mileage', 'car_age']\n",
    "\n",
    "#Escalar los datos numéricos\n",
    "scaler = StandardScaler()\n",
    "scaler.fit(df_ohe[numeric_ohe])\n",
    "df_ohe[numeric_ohe] = scaler.transform(df_ohe[numeric_ohe])\n",
    "df_ohe.head()"
   ]
  },
  {
   "cell_type": "code",
   "execution_count": 86,
   "metadata": {},
   "outputs": [
    {
     "name": "stdout",
     "output_type": "stream",
     "text": [
      "Tamaño del conjunto de entrenamiento OHE: (245269, 305), (245269,)\n",
      "Tamaño del conjunto de prueba OHE: (81757, 305), (81757,)\n"
     ]
    }
   ],
   "source": [
    "# Determinarfeatures y target del modelo\n",
    "features_ohe = df_ohe.drop('price', axis=1)\n",
    "target_ohe = df_ohe['price']\n",
    "\n",
    "# Dividir nuestro dataset en conjunto de entrenamiento y prueba 75:25\n",
    "features_train_ohe, features_test_ohe, target_train_ohe, target_test_ohe = train_test_split(\n",
    "    features_ohe, \n",
    "    target_ohe,\n",
    "    test_size=0.25,\n",
    "    random_state=12345\n",
    ")\n",
    "\n",
    "# Comprobar división\n",
    "print(f'Tamaño del conjunto de entrenamiento OHE: {features_train_ohe.shape}, {target_train_ohe.shape}')\n",
    "print(f'Tamaño del conjunto de prueba OHE: {features_test_ohe.shape}, {target_test_ohe.shape}')"
   ]
  },
  {
   "cell_type": "code",
   "execution_count": 87,
   "metadata": {},
   "outputs": [
    {
     "name": "stdout",
     "output_type": "stream",
     "text": [
      "RECM de modelo de Regresión Lineal: 2858.902\n",
      "Tiempo de entrenamiento del modelo: 19.837s\n",
      "Tiempo de prueba del modelo: 0.211s\n"
     ]
    }
   ],
   "source": [
    "# Entrenar el modelo de regresión lineal\n",
    "start_train = time.time()\n",
    "lr_model = LinearRegression()\n",
    "lr_model.fit(features_train_ohe, target_train_ohe)\n",
    "end_train= time.time()\n",
    "\n",
    "# Realizar predicciones\n",
    "start_test = time.time()\n",
    "target_pred = lr_model.predict(features_test_ohe)\n",
    "end_test = time.time()\n",
    "\n",
    "# Establecer las métricas de tiempo y calidad\n",
    "RECM_lr = mean_squared_error(target_test_ohe, target_pred)**0.5\n",
    "print(f'RECM de modelo de Regresión Lineal: {RECM_lr:.3f}')\n",
    "print(f'Tiempo de entrenamiento del modelo: {end_train - start_train:.3f}s')\n",
    "print(f'Tiempo de prueba del modelo: {end_test - start_test:.3f}s')"
   ]
  },
  {
   "cell_type": "markdown",
   "metadata": {},
   "source": [
    "El modelo de Regresión Lineal obtuvo un RECM de 2855, este será nuestra prueba de cordura y servirá como valor base para comparar con otro modelos y método de potenciación gradiente. El tiempo de entrenamiento fue de ≈ 23s y el tiempo para realizar la predicción fue de ≈13s.\n",
    "\n",
    "Si un modelo de potenciación de gradiente funciona obtiene un RECM mayor 2855 algo habrá salido mal. "
   ]
  },
  {
   "cell_type": "markdown",
   "metadata": {},
   "source": [
    "### Árbol de Decisión"
   ]
  },
  {
   "cell_type": "markdown",
   "metadata": {},
   "source": [
    "Para el árbol de decisión, usaremos la codificación de etiquetas debido a que contamos con características de alta cardinalidad como lo vimos anteriormente. El uso de OHE en variables con un gran número de categrorías disminuye la eficiencia de modelos basados en árboles, es por eso que no utilizaremos esta técnica.\n",
    "\n",
    "Asimimso, utilizaremos `GridSearchCv` para encontrar los mejores hiperparámetros."
   ]
  },
  {
   "cell_type": "code",
   "execution_count": 88,
   "metadata": {},
   "outputs": [
    {
     "data": {
      "text/html": [
       "<div>\n",
       "<style scoped>\n",
       "    .dataframe tbody tr th:only-of-type {\n",
       "        vertical-align: middle;\n",
       "    }\n",
       "\n",
       "    .dataframe tbody tr th {\n",
       "        vertical-align: top;\n",
       "    }\n",
       "\n",
       "    .dataframe thead th {\n",
       "        text-align: right;\n",
       "    }\n",
       "</style>\n",
       "<table border=\"1\" class=\"dataframe\">\n",
       "  <thead>\n",
       "    <tr style=\"text-align: right;\">\n",
       "      <th></th>\n",
       "      <th>price</th>\n",
       "      <th>vehicle_type</th>\n",
       "      <th>gearbox</th>\n",
       "      <th>power</th>\n",
       "      <th>model</th>\n",
       "      <th>mileage</th>\n",
       "      <th>fuel_type</th>\n",
       "      <th>brand</th>\n",
       "      <th>not_repaired</th>\n",
       "      <th>car_age</th>\n",
       "    </tr>\n",
       "  </thead>\n",
       "  <tbody>\n",
       "    <tr>\n",
       "      <th>0</th>\n",
       "      <td>480</td>\n",
       "      <td>4.0</td>\n",
       "      <td>1.0</td>\n",
       "      <td>101.0</td>\n",
       "      <td>116.0</td>\n",
       "      <td>150000</td>\n",
       "      <td>2.0</td>\n",
       "      <td>38.0</td>\n",
       "      <td>0</td>\n",
       "      <td>23</td>\n",
       "    </tr>\n",
       "    <tr>\n",
       "      <th>1</th>\n",
       "      <td>18300</td>\n",
       "      <td>2.0</td>\n",
       "      <td>1.0</td>\n",
       "      <td>190.0</td>\n",
       "      <td>29.0</td>\n",
       "      <td>125000</td>\n",
       "      <td>2.0</td>\n",
       "      <td>1.0</td>\n",
       "      <td>1</td>\n",
       "      <td>5</td>\n",
       "    </tr>\n",
       "    <tr>\n",
       "      <th>2</th>\n",
       "      <td>9800</td>\n",
       "      <td>6.0</td>\n",
       "      <td>0.0</td>\n",
       "      <td>163.0</td>\n",
       "      <td>117.0</td>\n",
       "      <td>125000</td>\n",
       "      <td>2.0</td>\n",
       "      <td>14.0</td>\n",
       "      <td>0</td>\n",
       "      <td>12</td>\n",
       "    </tr>\n",
       "    <tr>\n",
       "      <th>3</th>\n",
       "      <td>1500</td>\n",
       "      <td>5.0</td>\n",
       "      <td>1.0</td>\n",
       "      <td>75.0</td>\n",
       "      <td>116.0</td>\n",
       "      <td>150000</td>\n",
       "      <td>2.0</td>\n",
       "      <td>38.0</td>\n",
       "      <td>0</td>\n",
       "      <td>15</td>\n",
       "    </tr>\n",
       "    <tr>\n",
       "      <th>4</th>\n",
       "      <td>3600</td>\n",
       "      <td>5.0</td>\n",
       "      <td>1.0</td>\n",
       "      <td>69.0</td>\n",
       "      <td>101.0</td>\n",
       "      <td>90000</td>\n",
       "      <td>2.0</td>\n",
       "      <td>31.0</td>\n",
       "      <td>0</td>\n",
       "      <td>8</td>\n",
       "    </tr>\n",
       "    <tr>\n",
       "      <th>...</th>\n",
       "      <td>...</td>\n",
       "      <td>...</td>\n",
       "      <td>...</td>\n",
       "      <td>...</td>\n",
       "      <td>...</td>\n",
       "      <td>...</td>\n",
       "      <td>...</td>\n",
       "      <td>...</td>\n",
       "      <td>...</td>\n",
       "      <td>...</td>\n",
       "    </tr>\n",
       "    <tr>\n",
       "      <th>327021</th>\n",
       "      <td>1150</td>\n",
       "      <td>0.0</td>\n",
       "      <td>1.0</td>\n",
       "      <td>125.0</td>\n",
       "      <td>249.0</td>\n",
       "      <td>150000</td>\n",
       "      <td>2.0</td>\n",
       "      <td>24.0</td>\n",
       "      <td>0</td>\n",
       "      <td>16</td>\n",
       "    </tr>\n",
       "    <tr>\n",
       "      <th>327022</th>\n",
       "      <td>2200</td>\n",
       "      <td>4.0</td>\n",
       "      <td>1.0</td>\n",
       "      <td>101.0</td>\n",
       "      <td>116.0</td>\n",
       "      <td>20000</td>\n",
       "      <td>2.0</td>\n",
       "      <td>33.0</td>\n",
       "      <td>0</td>\n",
       "      <td>11</td>\n",
       "    </tr>\n",
       "    <tr>\n",
       "      <th>327023</th>\n",
       "      <td>1199</td>\n",
       "      <td>1.0</td>\n",
       "      <td>0.0</td>\n",
       "      <td>101.0</td>\n",
       "      <td>106.0</td>\n",
       "      <td>125000</td>\n",
       "      <td>2.0</td>\n",
       "      <td>32.0</td>\n",
       "      <td>0</td>\n",
       "      <td>16</td>\n",
       "    </tr>\n",
       "    <tr>\n",
       "      <th>327024</th>\n",
       "      <td>9200</td>\n",
       "      <td>0.0</td>\n",
       "      <td>1.0</td>\n",
       "      <td>102.0</td>\n",
       "      <td>224.0</td>\n",
       "      <td>150000</td>\n",
       "      <td>2.0</td>\n",
       "      <td>38.0</td>\n",
       "      <td>0</td>\n",
       "      <td>20</td>\n",
       "    </tr>\n",
       "    <tr>\n",
       "      <th>327025</th>\n",
       "      <td>3400</td>\n",
       "      <td>7.0</td>\n",
       "      <td>1.0</td>\n",
       "      <td>100.0</td>\n",
       "      <td>116.0</td>\n",
       "      <td>150000</td>\n",
       "      <td>2.0</td>\n",
       "      <td>38.0</td>\n",
       "      <td>0</td>\n",
       "      <td>14</td>\n",
       "    </tr>\n",
       "  </tbody>\n",
       "</table>\n",
       "<p>327026 rows × 10 columns</p>\n",
       "</div>"
      ],
      "text/plain": [
       "        price  vehicle_type  gearbox  power  model  mileage  fuel_type  brand  \\\n",
       "0         480           4.0      1.0  101.0  116.0   150000        2.0   38.0   \n",
       "1       18300           2.0      1.0  190.0   29.0   125000        2.0    1.0   \n",
       "2        9800           6.0      0.0  163.0  117.0   125000        2.0   14.0   \n",
       "3        1500           5.0      1.0   75.0  116.0   150000        2.0   38.0   \n",
       "4        3600           5.0      1.0   69.0  101.0    90000        2.0   31.0   \n",
       "...       ...           ...      ...    ...    ...      ...        ...    ...   \n",
       "327021   1150           0.0      1.0  125.0  249.0   150000        2.0   24.0   \n",
       "327022   2200           4.0      1.0  101.0  116.0    20000        2.0   33.0   \n",
       "327023   1199           1.0      0.0  101.0  106.0   125000        2.0   32.0   \n",
       "327024   9200           0.0      1.0  102.0  224.0   150000        2.0   38.0   \n",
       "327025   3400           7.0      1.0  100.0  116.0   150000        2.0   38.0   \n",
       "\n",
       "        not_repaired  car_age  \n",
       "0                  0       23  \n",
       "1                  1        5  \n",
       "2                  0       12  \n",
       "3                  0       15  \n",
       "4                  0        8  \n",
       "...              ...      ...  \n",
       "327021             0       16  \n",
       "327022             0       11  \n",
       "327023             0       16  \n",
       "327024             0       20  \n",
       "327025             0       14  \n",
       "\n",
       "[327026 rows x 10 columns]"
      ]
     },
     "execution_count": 88,
     "metadata": {},
     "output_type": "execute_result"
    }
   ],
   "source": [
    "# Crear un copia de nuestro datset final\n",
    "df_ordinal = df_final.copy().reset_index(drop=True)\n",
    "\n",
    "# Establecer las características categóricas\n",
    "cat_features = ['vehicle_type', 'gearbox', 'model', 'fuel_type', 'brand']\n",
    "\n",
    "# Codificar las características categóricas\n",
    "encoder = OrdinalEncoder()\n",
    "encoder.fit(df_final[cat_features])\n",
    "df_ordinal[cat_features] = pd.DataFrame(encoder.transform(df_final[cat_features]), columns=cat_features)\n",
    "df_ordinal"
   ]
  },
  {
   "cell_type": "code",
   "execution_count": 89,
   "metadata": {},
   "outputs": [
    {
     "name": "stdout",
     "output_type": "stream",
     "text": [
      "Tamaño del conjunto de entrenamiento ordinal: (245269, 9), (245269,)\n",
      "Tamaño del conjunto de prueba ordinal: (81757, 9), (81757,)\n"
     ]
    }
   ],
   "source": [
    "# Determinar features y target del modelo\n",
    "features_ordinal = df_ordinal.drop('price', axis=1)\n",
    "target_ordinal = df_ordinal['price']\n",
    "\n",
    "# Dividir nuestro dataset en conjunto de entrenamiento y prueba 75:25\n",
    "features_train_ordinal, features_test_ordinal, target_train_ordinal, target_test_ordinal = train_test_split(\n",
    "    features_ordinal, \n",
    "    target_ordinal,\n",
    "    test_size=0.25,\n",
    "    random_state=12345\n",
    ")\n",
    "\n",
    "# Comprobar división\n",
    "print(f'Tamaño del conjunto de entrenamiento ordinal: {features_train_ordinal.shape}, {target_train_ordinal.shape}')\n",
    "print(f'Tamaño del conjunto de prueba ordinal: {features_test_ordinal.shape}, {target_test_ordinal.shape}')"
   ]
  },
  {
   "cell_type": "markdown",
   "metadata": {},
   "source": [
    "**Ajuste de Hiperparámetros**"
   ]
  },
  {
   "cell_type": "code",
   "execution_count": 90,
   "metadata": {},
   "outputs": [],
   "source": [
    "# Establecer los hiperparámetros de árbol de decisión\n",
    "params_dt = {\n",
    "    'max_depth': [1, 2, 3, 4, 5, 6],\n",
    "    'min_samples_split': [2, 4, 6, 8],\n",
    "    'min_samples_leaf': [2, 4, 6, 8]\n",
    "}\n",
    "\n",
    "# Usar la función GridSearchCV y pasamos los hiperparámetros establecidos, la métrica y el valor para la validación cruzada\n",
    "gridSearch_dt = GridSearchCV(\n",
    "    estimator=DecisionTreeRegressor(),\n",
    "    param_grid=params_dt,\n",
    "    scoring='neg_root_mean_squared_error',\n",
    "    cv=3\n",
    ")"
   ]
  },
  {
   "cell_type": "code",
   "execution_count": null,
   "metadata": {},
   "outputs": [],
   "source": [
    "# Entrenar nuestro modelo para encontrar los mejores hiperparámetros\n",
    "start = time.time()\n",
    "gridSearch_dt.fit(features_train_ordinal, target_train_ordinal)\n",
    "end = time.time()\n",
    "print(f'Tiempo de ajuste de hiperparámetros de Árbol de Decisión: {end - start:.3f}s')"
   ]
  },
  {
   "cell_type": "code",
   "execution_count": null,
   "metadata": {},
   "outputs": [],
   "source": [
    "# Encontrar los mejores hiperparámetros\n",
    "best_index = np.argmax(gridSearch_dt.cv_results_['mean_test_score'])\n",
    "best_set_of_params = gridSearch_dt.cv_results_['params'][best_index]\n",
    "best_score = gridSearch_dt.cv_results_['mean_test_score'][best_index]\n",
    "\n",
    "print(f'Mejores hiperparámetros: {best_set_of_params} | Mejor RECM: {-best_score:.3f}')"
   ]
  },
  {
   "cell_type": "markdown",
   "metadata": {},
   "source": [
    "**Entrenamiento de Modelo**"
   ]
  },
  {
   "cell_type": "code",
   "execution_count": null,
   "metadata": {},
   "outputs": [],
   "source": [
    "# Entrenar el modelo de árbol de decisión\n",
    "start_train = time.time()\n",
    "dt_model = DecisionTreeRegressor(random_state=12345, max_depth=6, min_samples_split=2, min_samples_leaf=2)\n",
    "dt_model.fit(features_train_ordinal, target_train_ordinal)\n",
    "end_train= time.time()\n",
    "\n",
    "# Realizamos predicciones\n",
    "start_test = time.time()\n",
    "target_pred_dt = dt_model.predict(features_test_ordinal)\n",
    "end_test = time.time()\n",
    "\n",
    "# Establecemos las metrícas de tiempo y calidad\n",
    "RECM_dt = mean_squared_error(target_test_ordinal, target_pred_dt, squared=False)\n",
    "print(f'RECM de modelo de Árbol de Decisión: {RECM_dt:.3f}')\n",
    "print(f'Tiempo de entrenamiento del modelo: {end_train - start_train:.3f}s')\n",
    "print(f'Tiempo de prueba del modelo: {end_test - start_test:.3f}s')"
   ]
  },
  {
   "cell_type": "markdown",
   "metadata": {},
   "source": [
    "Los mejores hiperparámetros para el modelo de Árbol de decisión son {'max_depth': 6, 'min_samples_leaf': 2, 'min_samples_split': 2} obteniendo un RECM de 2325 con un tiempo de entrenamiento de ≈0.43s y de predicción de ≈0.009s."
   ]
  },
  {
   "cell_type": "markdown",
   "metadata": {},
   "source": [
    "### Bosque Aleatorio"
   ]
  },
  {
   "cell_type": "markdown",
   "metadata": {},
   "source": [
    "Al igual que en el modelo de árbol de decisión, utilizaremos lo datos con codificación oridnal para nuestro modelo de bosque aleatorio."
   ]
  },
  {
   "cell_type": "markdown",
   "metadata": {},
   "source": [
    "**Ajuste de Hiperparámetros**"
   ]
  },
  {
   "cell_type": "code",
   "execution_count": null,
   "metadata": {},
   "outputs": [],
   "source": [
    "# Establecer los hiperparámetros de árbol de decisión\n",
    "params_rf = {\n",
    "    'n_estimators': [10, 20, 40],\n",
    "    'max_depth': [1, 2, 3, 4, 5, 6]\n",
    "}\n",
    "\n",
    "# Usar la función GridSearchCV y pasamos los hiperparámetros establecidos, la métrica y el valor para la validación cruzada\n",
    "gridSearch_rf = GridSearchCV(\n",
    "    estimator=RandomForestRegressor(),\n",
    "    param_grid=params_rf,\n",
    "    scoring='neg_root_mean_squared_error',\n",
    "    cv=3\n",
    ")"
   ]
  },
  {
   "cell_type": "code",
   "execution_count": null,
   "metadata": {},
   "outputs": [],
   "source": [
    "# Entrenar nuestro modelo para encontrar los mejores hiperparámetros\n",
    "start = time.time()\n",
    "gridSearch_rf.fit(features_train_ordinal, target_train_ordinal)\n",
    "end = time.time()\n",
    "print(f'Tiempo de ajuste de hiperparámetros de Árbol de Decisión: {end - start:.3f}s')"
   ]
  },
  {
   "cell_type": "code",
   "execution_count": null,
   "metadata": {},
   "outputs": [],
   "source": [
    "# Encontrar los mejores hiperparámetros\n",
    "best_index = np.argmax(gridSearch_rf.cv_results_['mean_test_score'])\n",
    "best_set_of_params = gridSearch_rf.cv_results_['params'][best_index]\n",
    "best_score = gridSearch_rf.cv_results_['mean_test_score'][best_index]\n",
    "\n",
    "print(f'Mejores hiperparámetros: {best_set_of_params} | Mejor RECM: {-best_score:.3f}')"
   ]
  },
  {
   "cell_type": "markdown",
   "metadata": {},
   "source": [
    "**Entrenamiento de Modelo**"
   ]
  },
  {
   "cell_type": "code",
   "execution_count": null,
   "metadata": {},
   "outputs": [],
   "source": [
    "# Entrenar el modelo de bosque aleatorio\n",
    "start_train = time.time()\n",
    "rf_model = RandomForestRegressor(random_state=12345, max_depth=6, n_estimators=40)\n",
    "rf_model.fit(features_train_ordinal, target_train_ordinal)\n",
    "end_train= time.time()\n",
    "\n",
    "# Realizamos predicciones\n",
    "start_test = time.time()\n",
    "target_pred_rf = rf_model.predict(features_test_ordinal)\n",
    "end_test = time.time()\n",
    "\n",
    "# Establecemos las metrícas de tiempo y calidad\n",
    "RECM_rf = mean_squared_error(target_test_ordinal, target_pred_rf, squared=False)\n",
    "print(f'RECM de modelo de Bosque Aleatorio: {RECM_rf:.3f}')\n",
    "print(f'Tiempo de entrenamiento del modelo: {end_train - start_train:.3f}s')\n",
    "print(f'Tiempo de prueba del modelo: {end_test - start_test:.3f}s')"
   ]
  },
  {
   "cell_type": "markdown",
   "metadata": {},
   "source": [
    "Para el modelo de Bosque Aleatorio los mejores hiperparámetros son {'max_depth': 6, 'n_estimators': 40} obteniendo un RECM de 2279 con un tiempo de entrenamiento de ≈14s y de predicción de ≈0.25s."
   ]
  },
  {
   "cell_type": "markdown",
   "metadata": {},
   "source": [
    "### CatBoost"
   ]
  },
  {
   "cell_type": "markdown",
   "metadata": {},
   "source": [
    "CatBoost es un métodode potenciación de gradiente que no necesita de un preprocesamiento de catracterícticas categóricas, por lo que no es necesario utilizar OHE o codificación de etiquetas ya que el propio método asigna etiquetas. Es por ello que trabajaremos con nuestro dataset final `df_final`."
   ]
  },
  {
   "cell_type": "code",
   "execution_count": null,
   "metadata": {},
   "outputs": [],
   "source": [
    "# Determinar features y target del modelo\n",
    "features = df_final.drop('price', axis=1)\n",
    "target = df_final['price']\n",
    "\n",
    "# Dividir nuestro dataset en conjunto de entrenamiento y prueba 75:25\n",
    "features_train, features_test, target_train, target_test = train_test_split(\n",
    "    features, \n",
    "    target,\n",
    "    test_size=0.25,\n",
    "    random_state=12345\n",
    ")\n",
    "\n",
    "# Comprobar división\n",
    "print(f'Tamaño del conjunto de entrenamiento ordinal: {features_train.shape}, {target_train.shape}')\n",
    "print(f'Tamaño del conjunto de prueba ordinal: {features_test.shape}, {target_test.shape}')"
   ]
  },
  {
   "cell_type": "markdown",
   "metadata": {},
   "source": [
    "**Ajuste de Hiperparámetros**"
   ]
  },
  {
   "cell_type": "code",
   "execution_count": null,
   "metadata": {},
   "outputs": [],
   "source": [
    "# Establecer las características categóricas\n",
    "cat_features = ['vehicle_type', 'gearbox', 'model', 'fuel_type', 'brand']\n",
    "\n",
    "# Establecer los hiperparámetros que vamos a ajustar\n",
    "params_catboost = {\n",
    "    'depth': [4, 6, 10],\n",
    "    'learning_rate': [0.1, 0.2, 0.5]\n",
    "}\n",
    "\n",
    "# Llamar al estimador que utilizaremos, CatBoostRegressor y lo pasamos a GridSearchCv\n",
    "catboost_est = CatBoostRegressor(iterations=100, cat_features=cat_features, verbose=False, loss_function='RMSE')\n",
    "\n",
    "# Usar la función GridSearchCV y pasamos los hiperparámetros establecidos, la métrica y el valor para la validación cruzada\n",
    "gridSearch_catboost = GridSearchCV(\n",
    "    estimator=catboost_est,\n",
    "    param_grid=params_catboost,\n",
    "    scoring='neg_root_mean_squared_error',\n",
    "    cv=3\n",
    ")"
   ]
  },
  {
   "cell_type": "code",
   "execution_count": null,
   "metadata": {},
   "outputs": [],
   "source": [
    "# Entrenar nuestro modelo para encontrar los mejores hiperparámetros\n",
    "start = time.time()\n",
    "gridSearch_catboost.fit(features_train, target_train)\n",
    "end = time.time()\n",
    "print(f'Tiempo de ajuste de hiperparámetros de CatBoost: {end - start:.3f}s')"
   ]
  },
  {
   "cell_type": "code",
   "execution_count": null,
   "metadata": {},
   "outputs": [],
   "source": [
    "# Encontrar los mejores hiperparámetros\n",
    "best_index = np.argmax(gridSearch_catboost.cv_results_['mean_test_score'])\n",
    "best_set_of_params = gridSearch_catboost.cv_results_['params'][best_index]\n",
    "best_score = gridSearch_catboost.cv_results_['mean_test_score'][best_index]\n",
    "\n",
    "print(f'Mejores hiperparámetros: {best_set_of_params} | Mejor RECM: {-best_score:.3f}')"
   ]
  },
  {
   "cell_type": "markdown",
   "metadata": {},
   "source": [
    "**Entrenamiento de Modelo**"
   ]
  },
  {
   "cell_type": "code",
   "execution_count": null,
   "metadata": {},
   "outputs": [],
   "source": [
    "# Entrenar el modelo de catboost\n",
    "catboost_model = CatBoostRegressor(\n",
    "    iterations=100,\n",
    "    depth=10,\n",
    "    learning_rate=0.5,\n",
    "    loss_function='RMSE',\n",
    "    random_seed=12345\n",
    ")\n",
    "\n",
    "start_train = time.time()\n",
    "catboost_model.fit(features_train, target_train, cat_features=cat_features, verbose=False)\n",
    "end_train= time.time()\n",
    "\n",
    "# Realizar predicciones\n",
    "start_test = time.time()\n",
    "target_pred_cat = catboost_model.predict(features_test)\n",
    "end_test = time.time()\n",
    "\n",
    "# Establecer las metrícas de tiempo y calidad\n",
    "RECM_cat = mean_squared_error(target_test, target_pred_cat, squared=False)\n",
    "print(f'RECM de modelo de CatBoost: {RECM_cat:.3f}')\n",
    "print(f'Tiempo de entrenamiento del modelo: {end_train - start_train:.3f}s')\n",
    "print(f'Tiempo de prueba del modelo: {end_test - start_test:.3f}s')"
   ]
  },
  {
   "cell_type": "markdown",
   "metadata": {},
   "source": [
    "CatBoost obtuvo un RECM de 1643 urilizando los hiperparámetros {'depth': 10, 'learning_rate': 0.5} con un tiempo de entrenamiento de ≈30s y de predicción de ≈0.18s."
   ]
  },
  {
   "cell_type": "markdown",
   "metadata": {},
   "source": [
    "### LightGBM"
   ]
  },
  {
   "cell_type": "markdown",
   "metadata": {},
   "source": [
    "Al igual que CatBoost puede procesar características categóricas. Sin embargo, es necesario transformar previamente las caraterísticas a tipo entero ya que no acepta variables tipo string u objeto, también se pude cambiar las características a tipo \"category\", que es lo que haremos a continuación."
   ]
  },
  {
   "cell_type": "code",
   "execution_count": null,
   "metadata": {},
   "outputs": [],
   "source": [
    "# Transformar caraterísticas categóricas a tipo \"category\"\n",
    "for feature in cat_features:\n",
    "    df_final[feature] = df_final[feature].astype(\"category\")\n",
    "    \n",
    "# Determinar features y target del modelo\n",
    "features_gbm = df_final.drop('price', axis=1)\n",
    "target_gbm = df_final['price']\n",
    "\n",
    "# Dividir nuestro dataset en conjunto de entrenamiento y prueba 75:25\n",
    "features_train_gbm, features_test_gbm, target_train_gbm, target_test_gbm = train_test_split(\n",
    "    features_gbm, \n",
    "    target_gbm,\n",
    "    test_size=0.25,\n",
    "    random_state=12345\n",
    ")\n",
    "\n",
    "# Comprobar división\n",
    "print(f'Tamaño del conjunto de entrenamiento ordinal: {features_train_gbm.shape}, {target_train_gbm.shape}')\n",
    "print(f'Tamaño del conjunto de prueba ordinal: {features_test_gbm.shape}, {target_test_gbm.shape}')"
   ]
  },
  {
   "cell_type": "markdown",
   "metadata": {},
   "source": [
    "**Ajuste de Hiperparámetros**"
   ]
  },
  {
   "cell_type": "code",
   "execution_count": null,
   "metadata": {},
   "outputs": [],
   "source": [
    "# Establecer los hiperparámetros que vamos a ajustar\n",
    "params_lightgbm = {\n",
    "    'n_estimators': [100, 300],\n",
    "    'learning_rate': [0.1, 0.2, 0.5],\n",
    "    'num_leaves': [10, 20]\n",
    "}\n",
    "\n",
    "# Llamar al estimador que utilizaremos\n",
    "lightgbm_est = LGBMRegressor()\n",
    "\n",
    "# Usar la función GridSearchCV y pasamos los hiperparámetros establecidos, la métrica y el valor para la validación cruzada\n",
    "gridSearch_lightgbm = GridSearchCV(\n",
    "    estimator=lightgbm_est,\n",
    "    param_grid=params_lightgbm,\n",
    "    scoring='neg_root_mean_squared_error',\n",
    "    cv=3\n",
    ")"
   ]
  },
  {
   "cell_type": "code",
   "execution_count": null,
   "metadata": {},
   "outputs": [],
   "source": [
    "# Entrenar nuestro modelo para encontrar los mejores hiperparámetros\n",
    "start = time.time()\n",
    "gridSearch_lightgbm.fit(features_train_gbm, target_train_gbm)\n",
    "end = time.time()\n",
    "print(f'Tiempo de ajuste de hiperparámetros de LightGBM: {end - start:.3f}s')"
   ]
  },
  {
   "cell_type": "code",
   "execution_count": null,
   "metadata": {},
   "outputs": [],
   "source": [
    "# Encontrar los mejores hiperparámetros\n",
    "best_index = np.argmax(gridSearch_lightgbm.cv_results_['mean_test_score'])\n",
    "best_set_of_params = gridSearch_lightgbm.cv_results_['params'][best_index]\n",
    "best_score = gridSearch_lightgbm.cv_results_['mean_test_score'][best_index]\n",
    "\n",
    "print(f'Mejores hiperparámetros: {best_set_of_params} | Mejor RECM: {-best_score:.3f}')"
   ]
  },
  {
   "cell_type": "markdown",
   "metadata": {},
   "source": [
    "**Entrenamiento de Modelo**"
   ]
  },
  {
   "cell_type": "code",
   "execution_count": null,
   "metadata": {},
   "outputs": [],
   "source": [
    "# Entrenar el modelo de LightGBM\n",
    "lightgbm_model = LGBMRegressor(\n",
    "    n_estimators=300,\n",
    "    learning_rate=0.2,\n",
    "    num_leaves=20,\n",
    "    random_seed=12345\n",
    ")\n",
    "\n",
    "start_train = time.time()\n",
    "lightgbm_model.fit(features_train_gbm, target_train_gbm)\n",
    "end_train= time.time()\n",
    "\n",
    "# Realizar predicciones\n",
    "start_test = time.time()\n",
    "target_pred_gbm = lightgbm_model.predict(features_test_gbm)\n",
    "end_test = time.time()\n",
    "\n",
    "# Establecer las metrícas de tiempo y calidad\n",
    "RECM_light = mean_squared_error(target_test_gbm, target_pred_gbm, squared=False)\n",
    "print(f'RECM de modelo de LightGBM: {RECM_light:.3f}')\n",
    "print(f'Tiempo de entrenamiento del modelo: {end_train - start_train:.3f}s')\n",
    "print(f'Tiempo de prueba del modelo: {end_test - start_test:.3f}s')"
   ]
  },
  {
   "cell_type": "markdown",
   "metadata": {},
   "source": [
    "En el caso de LightGBM, los mejores hiperparámetros son {'learning_rate': 0.2, 'n_estimators': 300, 'num_leaves': 20} con un RECM de 1619, y con un tiempo de entrenamiento de ≈8.6s y de predicción de ≈1.89s."
   ]
  },
  {
   "cell_type": "markdown",
   "metadata": {},
   "source": [
    "### XGBoost"
   ]
  },
  {
   "cell_type": "markdown",
   "metadata": {},
   "source": [
    "XGBoost, a diferencia de LightGBM y CatBoost, no tiene su propia implementación para tratar variables cataegóricas, solo acepta numéricas. Por que lo es necesario preprocesar las características categróricas previo a construir el modelo a través de `One-Hot Enconding`.\n",
    "\n",
    "Para ello, utilizaremos el conjunto de entrenamiento y prueba que se usaron en el modelo de regresión lineal `features_train_ohe`, `features_test_ohe`."
   ]
  },
  {
   "cell_type": "markdown",
   "metadata": {},
   "source": [
    "**Ajuste de Hiperparámetros**"
   ]
  },
  {
   "cell_type": "code",
   "execution_count": null,
   "metadata": {},
   "outputs": [],
   "source": [
    "# Establecer los hiperparámetros que vamos a ajustar\n",
    "params_xboost = {\n",
    "    'max_depth': [4, 6, 8],\n",
    "    'n_estimators': [50, 100]\n",
    "}\n",
    "\n",
    "# Llamar al estimador que utilizaremos\n",
    "xboost_est = XGBRegressor()\n",
    "\n",
    "# Usar la función GridSearchCV y pasamos los hiperparámetros establecidos, la métrica y el valor para la validación cruzada\n",
    "gridSearch_xboost = GridSearchCV(\n",
    "    estimator=xboost_est,\n",
    "    param_grid=params_xboost,\n",
    "    scoring='neg_root_mean_squared_error',\n",
    "    cv=3\n",
    ")"
   ]
  },
  {
   "cell_type": "code",
   "execution_count": null,
   "metadata": {},
   "outputs": [],
   "source": [
    "# Entrenar nuestro modelo para encontrar los mejores hiperparámetros\n",
    "start = time.time()\n",
    "gridSearch_xboost.fit(features_train_ohe, target_train_ohe)\n",
    "end = time.time()\n",
    "print(f'Tiempo de ajuste de hiperparámetros de XGBoost: {end - start:.3f}s')"
   ]
  },
  {
   "cell_type": "markdown",
   "metadata": {},
   "source": [
    "**Entrenamiento de Modelo**"
   ]
  },
  {
   "cell_type": "code",
   "execution_count": null,
   "metadata": {},
   "outputs": [],
   "source": [
    "# Entrenar el modelo de XGBoost\n",
    "xboost_model = XGBRegressor(\n",
    "    random_estate=12345,\n",
    "    max_depth=8,\n",
    "    n_estimators=100\n",
    ")\n",
    "\n",
    "start_train = time.time()\n",
    "xboost_model.fit(features_train_ohe, target_train_ohe)\n",
    "end_train= time.time()\n",
    "\n",
    "# Realizar predicciones\n",
    "start_test = time.time()\n",
    "target_pred_xboost = xboost_model.predict(features_test_ohe)\n",
    "end_test = time.time()\n",
    "\n",
    "# Establecer las métricas de tiempo y calidad\n",
    "RECM_xboost = mean_squared_error(target_test_ohe, target_pred_xboost, squared=False)\n",
    "print(f'RECM de modelo de XGBoost: {RECM_xboost:.3f}')\n",
    "print(f'Tiempo de entrenamiento del modelo: {end_train - start_train:.3f}s')\n",
    "print(f'Tiempo de prueba del modelo: {end_test - start_test:.3f}s')"
   ]
  },
  {
   "cell_type": "markdown",
   "metadata": {},
   "source": [
    "El modelo de XGBoost obtuvo un RECM de  , el más alto del momento, con los hiperparámetros {'learning_rate': 0.2, 'n_estimators': 300, 'num_leaves': 20} y con un tiempo de entrenamiento de ≈8.6s y de predicción de ≈1.89s."
   ]
  },
  {
   "cell_type": "markdown",
   "metadata": {},
   "source": [
    "## Análisis de modelos"
   ]
  },
  {
   "cell_type": "markdown",
   "metadata": {},
   "source": [
    "Luego de entrenar y ver los resultados de cada modelo, procederemos a compararlos tantos en su calidad como en su velocidad. Haremos una tabla donde registraremos los valores de tiempo y calidad resgitrados de cada modelo. Asimismo, grafícaremos esta comparaciones."
   ]
  },
  {
   "cell_type": "code",
   "execution_count": null,
   "metadata": {},
   "outputs": [],
   "source": [
    "# Trazar tabla con los tiempos y puntajes RECM\n",
    "models_table = pd.DataFrame(\n",
    "    {\n",
    "        'modelo': ['Regresión Lineal', 'Árbol de Decisión', 'Bosque Aleatorio', 'CatBoost', 'LightGBM', 'XGBoost'],\n",
    "        'tiempo_ajuste_hiperparámetros': [0, 49.124, 150.028, 384.575, 187.961, 4803.441],\n",
    "        'tiempo_de_entrenamiento': [18.423, 0.398, 10.882, 29.461, 7.881, 645.893],\n",
    "        'tiempo_de_prueba': [0.132, 0.010, 0.206, 0.129, 1.824, 1.452],\n",
    "        'RECM': [RECM_lr, RECM_dt, RECM_rf, RECM_cat, RECM_light, RECM_xboost]\n",
    "    }\n",
    ")\n",
    "models_table"
   ]
  },
  {
   "cell_type": "code",
   "execution_count": null,
   "metadata": {},
   "outputs": [],
   "source": [
    "# Trazar gráficos de barras\n",
    "fig = plt.subplots(nrows=2, ncols=2, figsize=(20,12))\n",
    "\n",
    "sns.set_style('whitegrid')\n",
    "\n",
    "for n, col in enumerate(['tiempo_ajuste_hiperparámetros', 'tiempo_de_entrenamiento', 'tiempo_de_prueba', 'RECM']):\n",
    "    ax = plt.subplot(3, 2, n + 1)\n",
    "    sns.barplot(x=col, y='modelo', data=models_table, ax=ax, palette=(\"Spectral\"))\n",
    "    \n",
    "plt.suptitle('Análisi de velocidad y calidad por modelo', fontsize=19)\n",
    "plt.tight_layout()\n",
    "plt.show()"
   ]
  },
  {
   "cell_type": "markdown",
   "metadata": {},
   "source": [
    "Empezamos nuestra construción de modelos con Regresión Lineal, el cual lo establecimos como prueba de cordura, es decir la base por la cual compararíamos nuestros demás modelos. Nuestro modelo de RL obtuvo un RECM de 2855. Comparándolo con los demás modelos, podemos concluir que todos nuestros modelos pasaron la prueba de cordura al presentar una calidad mejor, es decir son mejores que la aleatoriedad.\n",
    "\n",
    "Los modelos de potenciación de gradiente fueron los que obtuvieron las mejores puntuaciones de RECM en comparación con los modelo de Árbol de Decisión y Bosque Aleatorio. El mejor modelo resultó ser LightGBM con el RECM más bajo de 1619 seguido de XGBoost y CatBoots con puntajes de 2279 y 1643 respectivamente.\n",
    "\n",
    "En cuanto a medidas de velocidad, LightGBM obtuvo el menor tiempo en ajuste de hiperparámetros y entrenamiento. Sin embargo fue el más lento en realizar predicciones. XGboost fue el modelo más lento, con un tiempo mayor a 1h30m para el ajuste de hiperparámetros y cerca de 10 minutos para entrenar el modelo. Por último, Catboost tuvo un tiempo de ajuste de más de 6 minutos y tiempo de entrenamiento de casi 30 segundos (el segundo mayor más alto).\n",
    "\n",
    "Por último, es importante tener en cuenta que estos tiempos y calidad de los modelos se deben tanto al funcionamiento específico de cada modelo como a los hiperparámetros probados, ya que podría ser que al aumentar, por ejemplo, la cantidad de árboles en el modelo de Catboost podríamos obtner un mejor RECM."
   ]
  },
  {
   "cell_type": "markdown",
   "metadata": {},
   "source": [
    "## Conclusiones"
   ]
  },
  {
   "cell_type": "markdown",
   "metadata": {},
   "source": [
    "**Preprocesamiento de datos**"
   ]
  },
  {
   "cell_type": "markdown",
   "metadata": {},
   "source": [
    "El dataset que obtuvimos en primera instacias contenía tanto columnas con valores ausentes, valores atípicos, columnas por categorizar correctamente y valores duplicados.\n",
    "\n",
    "1. Primero se eliminaron los datos duplicados y se eliminó la columnas `number_of_pictures` debido a que solo registraba ceros.\n",
    "2. Se cambiaron las caraterísticas de fecha a tipo datetime.\n",
    "3. Las columnas `vehicle_type`, `gearbox`, `model`, `fuel_type` y `not_repaired` presentaron valores ausentes. Estos valores se rellenaron usando como referencia otras características como el modelo y marca del vehículo. Para el caso de `fuel_type` se tomó como una misma categoría `petrol` y `gasoline`. Por otro lado, para la columna `not_repaired` se utilizó la regresión logística para rellenar los valores ausentes.\n",
    "4. Las columnas `registration_year`, `price`, `power` y `registration_month` presentaron valores atípicos. Para algunos casos se usaron datos específicos que restringían los valores presentes en esta columnas, como por ejemplpo, el poder máximo y minímos de un vehículo. Y, al igual que en los valores ausentes, también se usaron como referencia características el modelo y marca de los vehículos para reemplazar valores atípicos."
   ]
  },
  {
   "cell_type": "markdown",
   "metadata": {},
   "source": [
    "**Entrenamiento de modelos**"
   ]
  },
  {
   "cell_type": "markdown",
   "metadata": {},
   "source": [
    "1. Se entrenaron seis modelos: Regresión Lineal, Árbol de Decisión, Bosque Aleatorio, CatBoost, LightGBM y XGBoost. El modelo de regresión lineal se estableció como prueba de cordura. Para los demás modelos se reliazó un ajuste de hiperparámetros a través de GriSearchCV, y en base a los mejores hiperparámetros se entreno y se realizaron las predicciones.\n",
    "3. Se preprocesaron los datsets previo a cada construcción del modelo. Para algunos casos se realizó la codificación `One-Hot Enconding` y para otros la codificación de etiquetas según convenga. Asimismo, los modelos de CatBoost y lightGBM no necesitaron de estos pasos debido que los propios moedelo contenían estos preprocesamientos.\n",
    "2. Los modelos de potenciación de gradiente fueron los de mejor resultado. Siendo **LightGBM el de mejor resultado de calidad con los hiperparámetros de {'learning_rate': 0.2, 'n_estimators': 300, 'num_leaves': 20} con un RECM de 1619, y con un tiempo de entrenamiento de ≈8.6s y de predicción de ≈1.89s.**. El segundo mejor modelo fue CatBoost con un RECM de 1643, pero el cual no tuvo un tiempo de ajuste y de entrenamiento tan alto como el de XGBoost, los cuales fueron mucho más altos en comparación a cualquier otro modelo (RECM de 2279)."
   ]
  }
 ],
 "metadata": {
  "kernelspec": {
   "display_name": "Python 3 (ipykernel)",
   "language": "python",
   "name": "python3"
  },
  "language_info": {
   "codemirror_mode": {
    "name": "ipython",
    "version": 3
   },
   "file_extension": ".py",
   "mimetype": "text/x-python",
   "name": "python",
   "nbconvert_exporter": "python",
   "pygments_lexer": "ipython3",
   "version": "3.9.5"
  },
  "toc": {
   "base_numbering": 1,
   "nav_menu": {},
   "number_sections": true,
   "sideBar": true,
   "skip_h1_title": true,
   "title_cell": "Table of Contents",
   "title_sidebar": "Contents",
   "toc_cell": false,
   "toc_position": {
    "height": "calc(100% - 180px)",
    "left": "10px",
    "top": "150px",
    "width": "361.594px"
   },
   "toc_section_display": true,
   "toc_window_display": true
  }
 },
 "nbformat": 4,
 "nbformat_minor": 2
}
